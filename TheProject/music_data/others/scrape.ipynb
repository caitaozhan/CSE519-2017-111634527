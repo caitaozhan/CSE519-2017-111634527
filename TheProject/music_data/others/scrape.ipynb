{
 "cells": [
  {
   "cell_type": "code",
   "execution_count": 2,
   "metadata": {},
   "outputs": [],
   "source": [
    "import billboard"
   ]
  },
  {
   "cell_type": "code",
   "execution_count": 3,
   "metadata": {
    "collapsed": true
   },
   "outputs": [],
   "source": [
    "chart=billboard.ChartData('hot-100')"
   ]
  },
  {
   "cell_type": "code",
   "execution_count": 4,
   "metadata": {},
   "outputs": [
    {
     "data": {
      "text/plain": [
       "billboard.ChartData"
      ]
     },
     "execution_count": 4,
     "metadata": {},
     "output_type": "execute_result"
    }
   ],
   "source": [
    "type(chart)"
   ]
  },
  {
   "cell_type": "code",
   "execution_count": 6,
   "metadata": {},
   "outputs": [
    {
     "name": "stdout",
     "output_type": "stream",
     "text": [
      "hot-100 chart from 2017-10-28\n",
      "-----------------------------\n",
      "1. 'Rockstar' by Post Malone Featuring 21 Savage\n",
      "2. 'Bodak Yellow (Money Moves)' by Cardi B\n",
      "3. '1-800-273-8255' by Logic Featuring Alessia Cara & Khalid\n",
      "4. 'Look What You Made Me Do' by Taylor Swift\n",
      "5. 'Feel It Still' by Portugal. The Man\n",
      "6. 'Mi Gente' by J Balvin & Willy William Featuring Beyonce\n",
      "7. 'Too Good At Goodbyes' by Sam Smith\n",
      "8. 'Thunder' by Imagine Dragons\n",
      "9. 'Sorry Not Sorry' by Demi Lovato\n",
      "10. 'Unforgettable' by French Montana Featuring Swae Lee\n",
      "11. 'Despacito' by Luis Fonsi & Daddy Yankee Featuring Justin Bieber\n",
      "12. 'Attention' by Charlie Puth\n",
      "13. 'Believer' by Imagine Dragons\n",
      "14. 'Bank Account' by 21 Savage\n",
      "15. 'Rake It Up' by Yo Gotti Featuring Nicki Minaj\n",
      "16. 'Strip That Down' by Liam Payne Featuring Quavo\n",
      "17. 'What Lovers Do' by Maroon 5 Featuring SZA\n",
      "18. 'Shape Of You' by Ed Sheeran\n",
      "19. 'There's Nothing Holdin' Me Back' by Shawn Mendes\n",
      "20. 'Almost Like Praying' by Lin-Manuel Miranda Featuring Artists For Puerto Rico\n",
      "21. 'Slow Hands' by Niall Horan\n",
      "22. 'Perfect' by Ed Sheeran\n",
      "23. 'What About Us' by P!nk\n",
      "24. 'I Get The Bag' by Gucci Mane Featuring Migos\n",
      "25. 'Wild Thoughts' by DJ Khaled Featuring Rihanna & Bryson Tiller\n",
      "26. 'Havana' by Camila Cabello Featuring Young Thug\n",
      "27. 'What Ifs' by Kane Brown Featuring Lauren Alaina\n",
      "28. 'Praying' by Kesha\n",
      "29. 'Young Dumb & Broke' by Khalid\n",
      "30. 'That's What I Like' by Bruno Mars\n",
      "31. 'I Fall Apart' by Post Malone\n",
      "32. 'Gucci Gang' by Lil Pump\n",
      "33. 'Humble.' by Kendrick Lamar\n",
      "34. 'Something Just Like This' by The Chainsmokers & Coldplay\n",
      "35. 'XO TOUR Llif3' by Lil Uzi Vert\n",
      "36. 'Love Galore' by SZA Featuring Travis Scott\n",
      "37. 'Congratulations' by Post Malone Featuring Quavo\n",
      "38. 'Body Like A Back Road' by Sam Hunt\n",
      "39. 'When It Rains It Pours' by Luke Combs\n",
      "40. 'Bad At Love' by Halsey\n",
      "41. 'Location' by Khalid\n",
      "42. 'Say You Won't Let Go' by James Arthur\n",
      "43. 'No Promises' by Cheat Codes Featuring Demi Lovato\n",
      "44. 'New Rules' by Dua Lipa\n",
      "45. 'Do Re Mi' by Blackbear\n",
      "46. 'Crew' by GoldLink Featuring Brent Faiyaz & Shy Glizzy\n",
      "47. 'The Weekend' by SZA\n",
      "48. 'Loyalty.' by Kendrick Lamar Featuring Rihanna\n",
      "49. 'Unforgettable' by Thomas Rhett\n",
      "50. 'Small Town Boy' by Dustin Lynch\n",
      "51. 'No Limit' by G-Eazy Featuring A$AP Rocky & Cardi B\n",
      "52. 'Butterfly Effect' by Travis Scott\n",
      "53. '...Ready For It?' by Taylor Swift\n",
      "54. 'Silence' by Marshmello Featuring Khalid\n",
      "55. 'Pray' by Sam Smith\n",
      "56. 'The Race' by Tay-K\n",
      "57. 'The Way Life Goes' by Lil Uzi Vert\n",
      "58. 'Roll In Peace' by Kodak Black Featuring XXXTENTACION\n",
      "59. 'Pills And Automobiles' by Chris Brown Featuring Yo Gotti, A Boogie Wit da Hoodie & Kodak Black\n",
      "60. 'How Long' by Charlie Puth\n",
      "61. 'Greatest Love Story' by LANCO\n",
      "62. 'Jocelyn Flores' by XXXTentacion\n",
      "63. 'Transportin'' by Kodak Black\n",
      "64. 'Glorious' by Macklemore Featuring Skylar Grey\n",
      "65. 'Every Little Thing' by Carly Pearce\n",
      "66. 'Relationship' by Young Thug Featuring Future\n",
      "67. 'Heartache On The Dance Floor' by Jon Pardi\n",
      "68. 'It's A Vibe' by 2 Chainz Featuring Ty Dolla $ign, Trey Songz & Jhene Aiko\n",
      "69. 'All The Pretty Girls' by Kenny Chesney\n",
      "70. 'Love So Soft' by Kelly Clarkson\n",
      "71. 'Dusk Till Dawn' by Zayn Featuring Sia\n",
      "72. 'Heaven' by Kane Brown\n",
      "73. 'Friends' by Justin Bieber + BloodPop\n",
      "74. 'F**k Love' by XXXTentacion Featuring Trippie Redd\n",
      "75. 'Light It Up' by Luke Bryan\n",
      "76. 'Escapate Conmigo' by Wisin Featuring Ozuna\n",
      "77. 'More Girls Like You' by Kip Moore\n",
      "78. 'Feels' by Calvin Harris Featuring Pharrell Williams, Katy Perry & Big Sean\n",
      "79. 'They Don't Know' by Jason Aldean\n",
      "80. 'B.E.D.' by Jacquees\n",
      "81. 'Fix A Drink' by Chris Janson\n",
      "82. 'I'll Name The Dogs' by Blake Shelton\n",
      "83. 'I Could Use A Love Song' by Maren Morris\n",
      "84. 'Like I Loved You' by Brett Young\n",
      "85. 'Let Me Go' by Hailee Steinfeld & Alesso Featuring Florida Georgia Line & Watt\n",
      "86. 'Plain Jane' by A$AP Ferg\n",
      "87. 'Sauce It Up' by Lil Uzi Vert\n",
      "88. 'Go Flex' by Post Malone\n",
      "89. 'Questions' by Chris Brown\n",
      "90. 'Sky Walker' by Miguel Featuring Travis Scott\n",
      "91. 'Dear Hate' by Maren Morris Featuring Vince Gill\n",
      "92. 'Losing Sleep' by Chris Young\n",
      "93. 'No Promises' by A Boogie Wit da Hoodie\n",
      "94. 'Say A'' by A Boogie Wit da Hoodie\n",
      "95. 'Lights Down Low' by MAX Featuring gnash\n",
      "96. 'Round Here Buzz' by Eric Church\n",
      "97. 'Too Hotty' by Quality Control Featuring Quavo, Takeoff & Offset\n",
      "98. 'DNA' by BTS\n",
      "99. 'Smooth' by Florida Georgia Line\n",
      "100. 'Do I Make You Wanna' by Billy Currington\n"
     ]
    }
   ],
   "source": [
    "print(chart)"
   ]
  },
  {
   "cell_type": "code",
   "execution_count": 7,
   "metadata": {},
   "outputs": [
    {
     "data": {
      "text/plain": [
       "'hot-100'"
      ]
     },
     "execution_count": 7,
     "metadata": {},
     "output_type": "execute_result"
    }
   ],
   "source": [
    "chart.name"
   ]
  },
  {
   "cell_type": "code",
   "execution_count": 8,
   "metadata": {},
   "outputs": [
    {
     "data": {
      "text/plain": [
       "'2017-10-28'"
      ]
     },
     "execution_count": 8,
     "metadata": {},
     "output_type": "execute_result"
    }
   ],
   "source": [
    "chart.date"
   ]
  },
  {
   "cell_type": "code",
   "execution_count": 14,
   "metadata": {},
   "outputs": [
    {
     "data": {
      "text/plain": [
       "billboard.ChartData"
      ]
     },
     "execution_count": 14,
     "metadata": {},
     "output_type": "execute_result"
    }
   ],
   "source": [
    "type(chart)"
   ]
  },
  {
   "cell_type": "code",
   "execution_count": 16,
   "metadata": {},
   "outputs": [
    {
     "data": {
      "text/plain": [
       "list"
      ]
     },
     "execution_count": 16,
     "metadata": {},
     "output_type": "execute_result"
    }
   ],
   "source": [
    "type(chart.entries)"
   ]
  },
  {
   "cell_type": "code",
   "execution_count": 18,
   "metadata": {},
   "outputs": [],
   "source": [
    "import pandas as pd\n",
    "import numpy as np\n",
    "chart_df=pd.DataFrame({'song':chart.entries})"
   ]
  },
  {
   "cell_type": "code",
   "execution_count": 20,
   "metadata": {},
   "outputs": [],
   "source": [
    "chart_df.to_csv('../hot-100.csv',index=False,header=True) "
   ]
  },
  {
   "cell_type": "code",
   "execution_count": 28,
   "metadata": {},
   "outputs": [
    {
     "name": "stdout",
     "output_type": "stream",
     "text": [
      "'Rockstar' by Post Malone Featuring 21 Savage\n"
     ]
    }
   ],
   "source": [
    "song=chart[0]\n",
    "print(song)"
   ]
  },
  {
   "cell_type": "code",
   "execution_count": 25,
   "metadata": {},
   "outputs": [
    {
     "data": {
      "text/plain": [
       "'Post Malone Featuring 21 Savage'"
      ]
     },
     "execution_count": 25,
     "metadata": {},
     "output_type": "execute_result"
    }
   ],
   "source": [
    "song.artist"
   ]
  },
  {
   "cell_type": "code",
   "execution_count": 26,
   "metadata": {},
   "outputs": [
    {
     "data": {
      "text/plain": [
       "'Rockstar'"
      ]
     },
     "execution_count": 26,
     "metadata": {},
     "output_type": "execute_result"
    }
   ],
   "source": [
    "song.title"
   ]
  },
  {
   "cell_type": "code",
   "execution_count": 27,
   "metadata": {},
   "outputs": [
    {
     "data": {
      "text/plain": [
       "4"
      ]
     },
     "execution_count": 27,
     "metadata": {},
     "output_type": "execute_result"
    }
   ],
   "source": [
    "song.weeks"
   ]
  },
  {
   "cell_type": "code",
   "execution_count": 30,
   "metadata": {},
   "outputs": [
    {
     "data": {
      "text/plain": [
       "2"
      ]
     },
     "execution_count": 30,
     "metadata": {},
     "output_type": "execute_result"
    }
   ],
   "source": [
    "song.lastPos"
   ]
  },
  {
   "cell_type": "code",
   "execution_count": 31,
   "metadata": {},
   "outputs": [
    {
     "data": {
      "text/plain": [
       "1"
      ]
     },
     "execution_count": 31,
     "metadata": {},
     "output_type": "execute_result"
    }
   ],
   "source": [
    "song.peakPos"
   ]
  },
  {
   "cell_type": "code",
   "execution_count": 32,
   "metadata": {},
   "outputs": [
    {
     "data": {
      "text/plain": [
       "billboard.ChartEntry"
      ]
     },
     "execution_count": 32,
     "metadata": {},
     "output_type": "execute_result"
    }
   ],
   "source": [
    "type(song)"
   ]
  },
  {
   "cell_type": "code",
   "execution_count": 33,
   "metadata": {},
   "outputs": [
    {
     "data": {
      "text/plain": [
       "'Rockstar'"
      ]
     },
     "execution_count": 33,
     "metadata": {},
     "output_type": "execute_result"
    }
   ],
   "source": [
    "song.title"
   ]
  },
  {
   "cell_type": "code",
   "execution_count": 38,
   "metadata": {},
   "outputs": [
    {
     "data": {
      "text/html": [
       "<div>\n",
       "<style>\n",
       "    .dataframe thead tr:only-child th {\n",
       "        text-align: right;\n",
       "    }\n",
       "\n",
       "    .dataframe thead th {\n",
       "        text-align: left;\n",
       "    }\n",
       "\n",
       "    .dataframe tbody tr th {\n",
       "        vertical-align: top;\n",
       "    }\n",
       "</style>\n",
       "<table border=\"1\" class=\"dataframe\">\n",
       "  <thead>\n",
       "    <tr style=\"text-align: right;\">\n",
       "      <th></th>\n",
       "      <th>song</th>\n",
       "    </tr>\n",
       "  </thead>\n",
       "  <tbody>\n",
       "    <tr>\n",
       "      <th>0</th>\n",
       "      <td>'Rockstar' by Post Malone Featuring 21 Savage</td>\n",
       "    </tr>\n",
       "    <tr>\n",
       "      <th>1</th>\n",
       "      <td>'Bodak Yellow (Money Moves)' by Cardi B</td>\n",
       "    </tr>\n",
       "    <tr>\n",
       "      <th>2</th>\n",
       "      <td>'1-800-273-8255' by Logic Featuring Alessia Ca...</td>\n",
       "    </tr>\n",
       "    <tr>\n",
       "      <th>3</th>\n",
       "      <td>'Look What You Made Me Do' by Taylor Swift</td>\n",
       "    </tr>\n",
       "    <tr>\n",
       "      <th>4</th>\n",
       "      <td>'Feel It Still' by Portugal. The Man</td>\n",
       "    </tr>\n",
       "    <tr>\n",
       "      <th>5</th>\n",
       "      <td>'Mi Gente' by J Balvin &amp; Willy William Featuri...</td>\n",
       "    </tr>\n",
       "    <tr>\n",
       "      <th>6</th>\n",
       "      <td>'Too Good At Goodbyes' by Sam Smith</td>\n",
       "    </tr>\n",
       "    <tr>\n",
       "      <th>7</th>\n",
       "      <td>'Thunder' by Imagine Dragons</td>\n",
       "    </tr>\n",
       "    <tr>\n",
       "      <th>8</th>\n",
       "      <td>'Sorry Not Sorry' by Demi Lovato</td>\n",
       "    </tr>\n",
       "    <tr>\n",
       "      <th>9</th>\n",
       "      <td>'Unforgettable' by French Montana Featuring Sw...</td>\n",
       "    </tr>\n",
       "    <tr>\n",
       "      <th>10</th>\n",
       "      <td>'Despacito' by Luis Fonsi &amp; Daddy Yankee Featu...</td>\n",
       "    </tr>\n",
       "    <tr>\n",
       "      <th>11</th>\n",
       "      <td>'Attention' by Charlie Puth</td>\n",
       "    </tr>\n",
       "    <tr>\n",
       "      <th>12</th>\n",
       "      <td>'Believer' by Imagine Dragons</td>\n",
       "    </tr>\n",
       "    <tr>\n",
       "      <th>13</th>\n",
       "      <td>'Bank Account' by 21 Savage</td>\n",
       "    </tr>\n",
       "    <tr>\n",
       "      <th>14</th>\n",
       "      <td>'Rake It Up' by Yo Gotti Featuring Nicki Minaj</td>\n",
       "    </tr>\n",
       "    <tr>\n",
       "      <th>15</th>\n",
       "      <td>'Strip That Down' by Liam Payne Featuring Quavo</td>\n",
       "    </tr>\n",
       "    <tr>\n",
       "      <th>16</th>\n",
       "      <td>'What Lovers Do' by Maroon 5 Featuring SZA</td>\n",
       "    </tr>\n",
       "    <tr>\n",
       "      <th>17</th>\n",
       "      <td>'Shape Of You' by Ed Sheeran</td>\n",
       "    </tr>\n",
       "    <tr>\n",
       "      <th>18</th>\n",
       "      <td>'There's Nothing Holdin' Me Back' by Shawn Mendes</td>\n",
       "    </tr>\n",
       "    <tr>\n",
       "      <th>19</th>\n",
       "      <td>'Almost Like Praying' by Lin-Manuel Miranda Fe...</td>\n",
       "    </tr>\n",
       "    <tr>\n",
       "      <th>20</th>\n",
       "      <td>'Slow Hands' by Niall Horan</td>\n",
       "    </tr>\n",
       "    <tr>\n",
       "      <th>21</th>\n",
       "      <td>'Perfect' by Ed Sheeran</td>\n",
       "    </tr>\n",
       "    <tr>\n",
       "      <th>22</th>\n",
       "      <td>'What About Us' by P!nk</td>\n",
       "    </tr>\n",
       "    <tr>\n",
       "      <th>23</th>\n",
       "      <td>'I Get The Bag' by Gucci Mane Featuring Migos</td>\n",
       "    </tr>\n",
       "    <tr>\n",
       "      <th>24</th>\n",
       "      <td>'Wild Thoughts' by DJ Khaled Featuring Rihanna...</td>\n",
       "    </tr>\n",
       "    <tr>\n",
       "      <th>25</th>\n",
       "      <td>'Havana' by Camila Cabello Featuring Young Thug</td>\n",
       "    </tr>\n",
       "    <tr>\n",
       "      <th>26</th>\n",
       "      <td>'What Ifs' by Kane Brown Featuring Lauren Alaina</td>\n",
       "    </tr>\n",
       "    <tr>\n",
       "      <th>27</th>\n",
       "      <td>'Praying' by Kesha</td>\n",
       "    </tr>\n",
       "    <tr>\n",
       "      <th>28</th>\n",
       "      <td>'Young Dumb &amp; Broke' by Khalid</td>\n",
       "    </tr>\n",
       "    <tr>\n",
       "      <th>29</th>\n",
       "      <td>'That's What I Like' by Bruno Mars</td>\n",
       "    </tr>\n",
       "    <tr>\n",
       "      <th>...</th>\n",
       "      <td>...</td>\n",
       "    </tr>\n",
       "    <tr>\n",
       "      <th>70</th>\n",
       "      <td>'Dusk Till Dawn' by Zayn Featuring Sia</td>\n",
       "    </tr>\n",
       "    <tr>\n",
       "      <th>71</th>\n",
       "      <td>'Heaven' by Kane Brown</td>\n",
       "    </tr>\n",
       "    <tr>\n",
       "      <th>72</th>\n",
       "      <td>'Friends' by Justin Bieber + BloodPop</td>\n",
       "    </tr>\n",
       "    <tr>\n",
       "      <th>73</th>\n",
       "      <td>'F**k Love' by XXXTentacion Featuring Trippie ...</td>\n",
       "    </tr>\n",
       "    <tr>\n",
       "      <th>74</th>\n",
       "      <td>'Light It Up' by Luke Bryan</td>\n",
       "    </tr>\n",
       "    <tr>\n",
       "      <th>75</th>\n",
       "      <td>'Escapate Conmigo' by Wisin Featuring Ozuna</td>\n",
       "    </tr>\n",
       "    <tr>\n",
       "      <th>76</th>\n",
       "      <td>'More Girls Like You' by Kip Moore</td>\n",
       "    </tr>\n",
       "    <tr>\n",
       "      <th>77</th>\n",
       "      <td>'Feels' by Calvin Harris Featuring Pharrell Wi...</td>\n",
       "    </tr>\n",
       "    <tr>\n",
       "      <th>78</th>\n",
       "      <td>'They Don't Know' by Jason Aldean</td>\n",
       "    </tr>\n",
       "    <tr>\n",
       "      <th>79</th>\n",
       "      <td>'B.E.D.' by Jacquees</td>\n",
       "    </tr>\n",
       "    <tr>\n",
       "      <th>80</th>\n",
       "      <td>'Fix A Drink' by Chris Janson</td>\n",
       "    </tr>\n",
       "    <tr>\n",
       "      <th>81</th>\n",
       "      <td>'I'll Name The Dogs' by Blake Shelton</td>\n",
       "    </tr>\n",
       "    <tr>\n",
       "      <th>82</th>\n",
       "      <td>'I Could Use A Love Song' by Maren Morris</td>\n",
       "    </tr>\n",
       "    <tr>\n",
       "      <th>83</th>\n",
       "      <td>'Like I Loved You' by Brett Young</td>\n",
       "    </tr>\n",
       "    <tr>\n",
       "      <th>84</th>\n",
       "      <td>'Let Me Go' by Hailee Steinfeld &amp; Alesso Featu...</td>\n",
       "    </tr>\n",
       "    <tr>\n",
       "      <th>85</th>\n",
       "      <td>'Plain Jane' by A$AP Ferg</td>\n",
       "    </tr>\n",
       "    <tr>\n",
       "      <th>86</th>\n",
       "      <td>'Sauce It Up' by Lil Uzi Vert</td>\n",
       "    </tr>\n",
       "    <tr>\n",
       "      <th>87</th>\n",
       "      <td>'Go Flex' by Post Malone</td>\n",
       "    </tr>\n",
       "    <tr>\n",
       "      <th>88</th>\n",
       "      <td>'Questions' by Chris Brown</td>\n",
       "    </tr>\n",
       "    <tr>\n",
       "      <th>89</th>\n",
       "      <td>'Sky Walker' by Miguel Featuring Travis Scott</td>\n",
       "    </tr>\n",
       "    <tr>\n",
       "      <th>90</th>\n",
       "      <td>'Dear Hate' by Maren Morris Featuring Vince Gill</td>\n",
       "    </tr>\n",
       "    <tr>\n",
       "      <th>91</th>\n",
       "      <td>'Losing Sleep' by Chris Young</td>\n",
       "    </tr>\n",
       "    <tr>\n",
       "      <th>92</th>\n",
       "      <td>'No Promises' by A Boogie Wit da Hoodie</td>\n",
       "    </tr>\n",
       "    <tr>\n",
       "      <th>93</th>\n",
       "      <td>'Say A'' by A Boogie Wit da Hoodie</td>\n",
       "    </tr>\n",
       "    <tr>\n",
       "      <th>94</th>\n",
       "      <td>'Lights Down Low' by MAX Featuring gnash</td>\n",
       "    </tr>\n",
       "    <tr>\n",
       "      <th>95</th>\n",
       "      <td>'Round Here Buzz' by Eric Church</td>\n",
       "    </tr>\n",
       "    <tr>\n",
       "      <th>96</th>\n",
       "      <td>'Too Hotty' by Quality Control Featuring Quavo...</td>\n",
       "    </tr>\n",
       "    <tr>\n",
       "      <th>97</th>\n",
       "      <td>'DNA' by BTS</td>\n",
       "    </tr>\n",
       "    <tr>\n",
       "      <th>98</th>\n",
       "      <td>'Smooth' by Florida Georgia Line</td>\n",
       "    </tr>\n",
       "    <tr>\n",
       "      <th>99</th>\n",
       "      <td>'Do I Make You Wanna' by Billy Currington</td>\n",
       "    </tr>\n",
       "  </tbody>\n",
       "</table>\n",
       "<p>100 rows × 1 columns</p>\n",
       "</div>"
      ],
      "text/plain": [
       "                                                 song\n",
       "0       'Rockstar' by Post Malone Featuring 21 Savage\n",
       "1             'Bodak Yellow (Money Moves)' by Cardi B\n",
       "2   '1-800-273-8255' by Logic Featuring Alessia Ca...\n",
       "3          'Look What You Made Me Do' by Taylor Swift\n",
       "4                'Feel It Still' by Portugal. The Man\n",
       "5   'Mi Gente' by J Balvin & Willy William Featuri...\n",
       "6                 'Too Good At Goodbyes' by Sam Smith\n",
       "7                        'Thunder' by Imagine Dragons\n",
       "8                    'Sorry Not Sorry' by Demi Lovato\n",
       "9   'Unforgettable' by French Montana Featuring Sw...\n",
       "10  'Despacito' by Luis Fonsi & Daddy Yankee Featu...\n",
       "11                        'Attention' by Charlie Puth\n",
       "12                      'Believer' by Imagine Dragons\n",
       "13                        'Bank Account' by 21 Savage\n",
       "14     'Rake It Up' by Yo Gotti Featuring Nicki Minaj\n",
       "15    'Strip That Down' by Liam Payne Featuring Quavo\n",
       "16         'What Lovers Do' by Maroon 5 Featuring SZA\n",
       "17                       'Shape Of You' by Ed Sheeran\n",
       "18  'There's Nothing Holdin' Me Back' by Shawn Mendes\n",
       "19  'Almost Like Praying' by Lin-Manuel Miranda Fe...\n",
       "20                        'Slow Hands' by Niall Horan\n",
       "21                            'Perfect' by Ed Sheeran\n",
       "22                            'What About Us' by P!nk\n",
       "23      'I Get The Bag' by Gucci Mane Featuring Migos\n",
       "24  'Wild Thoughts' by DJ Khaled Featuring Rihanna...\n",
       "25    'Havana' by Camila Cabello Featuring Young Thug\n",
       "26   'What Ifs' by Kane Brown Featuring Lauren Alaina\n",
       "27                                 'Praying' by Kesha\n",
       "28                     'Young Dumb & Broke' by Khalid\n",
       "29                 'That's What I Like' by Bruno Mars\n",
       "..                                                ...\n",
       "70             'Dusk Till Dawn' by Zayn Featuring Sia\n",
       "71                             'Heaven' by Kane Brown\n",
       "72              'Friends' by Justin Bieber + BloodPop\n",
       "73  'F**k Love' by XXXTentacion Featuring Trippie ...\n",
       "74                        'Light It Up' by Luke Bryan\n",
       "75        'Escapate Conmigo' by Wisin Featuring Ozuna\n",
       "76                 'More Girls Like You' by Kip Moore\n",
       "77  'Feels' by Calvin Harris Featuring Pharrell Wi...\n",
       "78                  'They Don't Know' by Jason Aldean\n",
       "79                               'B.E.D.' by Jacquees\n",
       "80                      'Fix A Drink' by Chris Janson\n",
       "81              'I'll Name The Dogs' by Blake Shelton\n",
       "82          'I Could Use A Love Song' by Maren Morris\n",
       "83                  'Like I Loved You' by Brett Young\n",
       "84  'Let Me Go' by Hailee Steinfeld & Alesso Featu...\n",
       "85                          'Plain Jane' by A$AP Ferg\n",
       "86                      'Sauce It Up' by Lil Uzi Vert\n",
       "87                           'Go Flex' by Post Malone\n",
       "88                         'Questions' by Chris Brown\n",
       "89      'Sky Walker' by Miguel Featuring Travis Scott\n",
       "90   'Dear Hate' by Maren Morris Featuring Vince Gill\n",
       "91                      'Losing Sleep' by Chris Young\n",
       "92            'No Promises' by A Boogie Wit da Hoodie\n",
       "93                 'Say A'' by A Boogie Wit da Hoodie\n",
       "94           'Lights Down Low' by MAX Featuring gnash\n",
       "95                   'Round Here Buzz' by Eric Church\n",
       "96  'Too Hotty' by Quality Control Featuring Quavo...\n",
       "97                                       'DNA' by BTS\n",
       "98                   'Smooth' by Florida Georgia Line\n",
       "99          'Do I Make You Wanna' by Billy Currington\n",
       "\n",
       "[100 rows x 1 columns]"
      ]
     },
     "execution_count": 38,
     "metadata": {},
     "output_type": "execute_result"
    }
   ],
   "source": [
    "chart_df"
   ]
  },
  {
   "cell_type": "code",
   "execution_count": null,
   "metadata": {
    "collapsed": true
   },
   "outputs": [],
   "source": []
  }
 ],
 "metadata": {
  "kernelspec": {
   "display_name": "Python 3",
   "language": "python",
   "name": "python3"
  },
  "language_info": {
   "codemirror_mode": {
    "name": "ipython",
    "version": 3
   },
   "file_extension": ".py",
   "mimetype": "text/x-python",
   "name": "python",
   "nbconvert_exporter": "python",
   "pygments_lexer": "ipython3",
   "version": "3.6.2"
  }
 },
 "nbformat": 4,
 "nbformat_minor": 2
}
