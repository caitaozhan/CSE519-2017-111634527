{
 "cells": [
  {
   "cell_type": "code",
   "execution_count": 1,
   "metadata": {
    "collapsed": true
   },
   "outputs": [],
   "source": [
    "import pandas as pd\n",
    "import seaborn as sns\n",
    "import matplotlib.pyplot as plt\n",
    "%matplotlib inline\n",
    "import numpy as np\n",
    "\n",
    "from sklearn import linear_model"
   ]
  },
  {
   "cell_type": "code",
   "execution_count": 66,
   "metadata": {
    "collapsed": true
   },
   "outputs": [],
   "source": [
    "df_music = pd.read_csv('../music_data/billboard_top_100_1960_1969.csv')"
   ]
  },
  {
   "cell_type": "code",
   "execution_count": 67,
   "metadata": {},
   "outputs": [
    {
     "data": {
      "text/html": [
       "<div>\n",
       "<style>\n",
       "    .dataframe thead tr:only-child th {\n",
       "        text-align: right;\n",
       "    }\n",
       "\n",
       "    .dataframe thead th {\n",
       "        text-align: left;\n",
       "    }\n",
       "\n",
       "    .dataframe tbody tr th {\n",
       "        vertical-align: top;\n",
       "    }\n",
       "</style>\n",
       "<table border=\"1\" class=\"dataframe\">\n",
       "  <thead>\n",
       "    <tr style=\"text-align: right;\">\n",
       "      <th></th>\n",
       "      <th>Rank</th>\n",
       "      <th>Artist</th>\n",
       "      <th>Title</th>\n",
       "      <th>Year</th>\n",
       "      <th>SpotifyPlayCount</th>\n",
       "    </tr>\n",
       "  </thead>\n",
       "  <tbody>\n",
       "    <tr>\n",
       "      <th>count</th>\n",
       "      <td>1000.000000</td>\n",
       "      <td>1000</td>\n",
       "      <td>1000</td>\n",
       "      <td>1000.000000</td>\n",
       "      <td>1.000000e+03</td>\n",
       "    </tr>\n",
       "    <tr>\n",
       "      <th>unique</th>\n",
       "      <td>NaN</td>\n",
       "      <td>551</td>\n",
       "      <td>987</td>\n",
       "      <td>NaN</td>\n",
       "      <td>NaN</td>\n",
       "    </tr>\n",
       "    <tr>\n",
       "      <th>top</th>\n",
       "      <td>NaN</td>\n",
       "      <td>The Beatles</td>\n",
       "      <td>Groovin'</td>\n",
       "      <td>NaN</td>\n",
       "      <td>NaN</td>\n",
       "    </tr>\n",
       "    <tr>\n",
       "      <th>freq</th>\n",
       "      <td>NaN</td>\n",
       "      <td>23</td>\n",
       "      <td>2</td>\n",
       "      <td>NaN</td>\n",
       "      <td>NaN</td>\n",
       "    </tr>\n",
       "    <tr>\n",
       "      <th>mean</th>\n",
       "      <td>50.547000</td>\n",
       "      <td>NaN</td>\n",
       "      <td>NaN</td>\n",
       "      <td>1964.501000</td>\n",
       "      <td>7.899716e+06</td>\n",
       "    </tr>\n",
       "    <tr>\n",
       "      <th>std</th>\n",
       "      <td>28.922799</td>\n",
       "      <td>NaN</td>\n",
       "      <td>NaN</td>\n",
       "      <td>2.875111</td>\n",
       "      <td>1.992259e+07</td>\n",
       "    </tr>\n",
       "    <tr>\n",
       "      <th>min</th>\n",
       "      <td>1.000000</td>\n",
       "      <td>NaN</td>\n",
       "      <td>NaN</td>\n",
       "      <td>1960.000000</td>\n",
       "      <td>1.554000e+03</td>\n",
       "    </tr>\n",
       "    <tr>\n",
       "      <th>25%</th>\n",
       "      <td>25.750000</td>\n",
       "      <td>NaN</td>\n",
       "      <td>NaN</td>\n",
       "      <td>1962.000000</td>\n",
       "      <td>2.437070e+05</td>\n",
       "    </tr>\n",
       "    <tr>\n",
       "      <th>50%</th>\n",
       "      <td>50.500000</td>\n",
       "      <td>NaN</td>\n",
       "      <td>NaN</td>\n",
       "      <td>1964.500000</td>\n",
       "      <td>8.641245e+05</td>\n",
       "    </tr>\n",
       "    <tr>\n",
       "      <th>75%</th>\n",
       "      <td>76.000000</td>\n",
       "      <td>NaN</td>\n",
       "      <td>NaN</td>\n",
       "      <td>1967.000000</td>\n",
       "      <td>4.963935e+06</td>\n",
       "    </tr>\n",
       "    <tr>\n",
       "      <th>max</th>\n",
       "      <td>100.000000</td>\n",
       "      <td>NaN</td>\n",
       "      <td>NaN</td>\n",
       "      <td>1969.000000</td>\n",
       "      <td>2.010574e+08</td>\n",
       "    </tr>\n",
       "  </tbody>\n",
       "</table>\n",
       "</div>"
      ],
      "text/plain": [
       "               Rank       Artist     Title         Year  SpotifyPlayCount\n",
       "count   1000.000000         1000      1000  1000.000000      1.000000e+03\n",
       "unique          NaN          551       987          NaN               NaN\n",
       "top             NaN  The Beatles  Groovin'          NaN               NaN\n",
       "freq            NaN           23         2          NaN               NaN\n",
       "mean      50.547000          NaN       NaN  1964.501000      7.899716e+06\n",
       "std       28.922799          NaN       NaN     2.875111      1.992259e+07\n",
       "min        1.000000          NaN       NaN  1960.000000      1.554000e+03\n",
       "25%       25.750000          NaN       NaN  1962.000000      2.437070e+05\n",
       "50%       50.500000          NaN       NaN  1964.500000      8.641245e+05\n",
       "75%       76.000000          NaN       NaN  1967.000000      4.963935e+06\n",
       "max      100.000000          NaN       NaN  1969.000000      2.010574e+08"
      ]
     },
     "execution_count": 67,
     "metadata": {},
     "output_type": "execute_result"
    }
   ],
   "source": [
    "df_music.describe(include='all')"
   ]
  },
  {
   "cell_type": "markdown",
   "metadata": {},
   "source": [
    "# 1 Visualization"
   ]
  },
  {
   "cell_type": "markdown",
   "metadata": {},
   "source": [
    "## 1.1 Heat Map: Correlation"
   ]
  },
  {
   "cell_type": "code",
   "execution_count": 68,
   "metadata": {},
   "outputs": [
    {
     "data": {
      "text/plain": [
       "<matplotlib.axes._subplots.AxesSubplot at 0x1ab86153438>"
      ]
     },
     "execution_count": 68,
     "metadata": {},
     "output_type": "execute_result"
    },
    {
     "data": {
      "image/png": "[encoded data removed]",
      "text/plain": [
       "<matplotlib.figure.Figure at 0x1ab855d40b8>"
      ]
     },
     "metadata": {},
     "output_type": "display_data"
    }
   ],
   "source": [
    "sns.set(style=\"white\")\n",
    "corr = df_music.corr()\n",
    "\n",
    "mask = np.zeros_like(corr, dtype=np.bool)\n",
    "mask[np.triu_indices_from(mask)] = True\n",
    "mask[np.tril_indices_from(mask)] = False\n",
    "\n",
    "# Set up the matplotlib figure\n",
    "plt.subplots(figsize=(7, 7))\n",
    "\n",
    "# Generate a custom diverging colormap\n",
    "cmap = sns.diverging_palette(255, 10, as_cmap=True)\n",
    "\n",
    "# Draw the heatmap with the mask and correct aspect ratio\n",
    "sns.heatmap(corr, mask=mask, cmap=cmap, vmax=1, center=0,\n",
    "            square=True, annot=True, annot_kws={\"size\":15}, linewidth=3, cbar_kws={\"shrink\": 0.6})"
   ]
  },
  {
   "cell_type": "markdown",
   "metadata": {},
   "source": [
    "## 1.2 Histogram: Play Count (Original)"
   ]
  },
  {
   "cell_type": "code",
   "execution_count": 69,
   "metadata": {
    "collapsed": true
   },
   "outputs": [],
   "source": [
    "df_playCount = df_music.SpotifyPlayCount"
   ]
  },
  {
   "cell_type": "code",
   "execution_count": 70,
   "metadata": {},
   "outputs": [
    {
     "data": {
      "text/plain": [
       "<matplotlib.text.Text at 0x1ab8624eb38>"
      ]
     },
     "execution_count": 70,
     "metadata": {},
     "output_type": "execute_result"
    },
    {
     "data": {
      "image/png": "[encoded data removed]",
      "text/plain": [
       "<matplotlib.figure.Figure at 0x1ab85ed1dd8>"
      ]
     },
     "metadata": {},
     "output_type": "display_data"
    }
   ],
   "source": [
    "ax = df_playCount.plot.hist(bins=200, figsize=(12,8))\n",
    "ax.set_xlabel(\"Spotify play counts\", fontsize=12)\n",
    "ax.set_ylabel(\"Freqency\", fontsize=12)"
   ]
  },
  {
   "cell_type": "code",
   "execution_count": 71,
   "metadata": {
    "collapsed": true
   },
   "outputs": [],
   "source": [
    "df_playCount2 = df_music[df_music.SpotifyPlayCount < 1000000]"
   ]
  },
  {
   "cell_type": "code",
   "execution_count": 72,
   "metadata": {},
   "outputs": [
    {
     "data": {
      "text/plain": [
       "(513, 5)"
      ]
     },
     "execution_count": 72,
     "metadata": {},
     "output_type": "execute_result"
    }
   ],
   "source": [
    "df_playCount2.shape"
   ]
  },
  {
   "cell_type": "markdown",
   "metadata": {},
   "source": [
    "The play count distribution is largely **skewed**. The biggest play count is over 200 million, while 513 out of 1000 songs have a play count lower than 1 million."
   ]
  },
  {
   "cell_type": "markdown",
   "metadata": {},
   "source": [
    "## 1.3 Histogram: Play Count (Logarithm)"
   ]
  },
  {
   "cell_type": "code",
   "execution_count": 73,
   "metadata": {
    "collapsed": true
   },
   "outputs": [],
   "source": [
    "df_playCount3 = np.log(df_music.SpotifyPlayCount)"
   ]
  },
  {
   "cell_type": "code",
   "execution_count": 74,
   "metadata": {},
   "outputs": [
    {
     "data": {
      "text/plain": [
       "<matplotlib.text.Text at 0x1ab868adf60>"
      ]
     },
     "execution_count": 74,
     "metadata": {},
     "output_type": "execute_result"
    },
    {
     "data": {
      "image/png": "[encoded data removed]",
      "text/plain": [
       "<matplotlib.figure.Figure at 0x1ab85477c18>"
      ]
     },
     "metadata": {},
     "output_type": "display_data"
    }
   ],
   "source": [
    "ax = df_playCount3.plot.hist(bins=25)\n",
    "ax.set_xlabel(\"Spotify (log) play counts\", fontsize=12)\n",
    "ax.set_ylabel(\"Freqency\", fontsize=12)"
   ]
  },
  {
   "cell_type": "markdown",
   "metadata": {},
   "source": [
    "After logarithm, the distribution looks much like **bell shape**. It makes sense to change our original target to the log-target."
   ]
  },
  {
   "cell_type": "markdown",
   "metadata": {},
   "source": [
    "## 1.4 Heat Map: Correlation with Log Target"
   ]
  },
  {
   "cell_type": "markdown",
   "metadata": {},
   "source": [
    "The following correlation heat map with **log** target is **better** than the correlation heat map with **original** target. A higher correlation implys that we are more likely to build a model with lower error."
   ]
  },
  {
   "cell_type": "code",
   "execution_count": 75,
   "metadata": {
    "collapsed": true
   },
   "outputs": [],
   "source": [
    "df_music_clean = df_music.copy()\n",
    "df_music_clean.SpotifyPlayCount = np.log(df_music_clean.SpotifyPlayCount)\n",
    "df_music_clean.rename(columns={'SpotifyPlayCount':'LogPlayCount'}, inplace=True)"
   ]
  },
  {
   "cell_type": "code",
   "execution_count": 76,
   "metadata": {},
   "outputs": [
    {
     "data": {
      "text/plain": [
       "<matplotlib.axes._subplots.AxesSubplot at 0x1ab85e4d438>"
      ]
     },
     "execution_count": 76,
     "metadata": {},
     "output_type": "execute_result"
    },
    {
     "data": {
      "image/png": "[encoded data removed]",
      "text/plain": [
       "<matplotlib.figure.Figure at 0x1ab866bd5f8>"
      ]
     },
     "metadata": {},
     "output_type": "display_data"
    }
   ],
   "source": [
    "sns.set(style=\"white\")\n",
    "corr = df_music_clean.corr()\n",
    "\n",
    "mask = np.zeros_like(corr, dtype=np.bool)\n",
    "mask[np.triu_indices_from(mask)] = True\n",
    "mask[np.tril_indices_from(mask)] = False\n",
    "\n",
    "# Set up the matplotlib figure\n",
    "plt.subplots(figsize=(7, 7))\n",
    "\n",
    "# Generate a custom diverging colormap\n",
    "cmap = sns.diverging_palette(255, 10, as_cmap=True)\n",
    "\n",
    "# Draw the heatmap with the mask and correct aspect ratio\n",
    "sns.heatmap(corr, mask=mask, cmap=cmap, vmax=1, center=0,\n",
    "            square=True, annot=True, annot_kws={\"size\":15}, linewidth=3, cbar_kws={\"shrink\": 0.6})"
   ]
  },
  {
   "cell_type": "markdown",
   "metadata": {},
   "source": [
    "## 1.5 Bar: Artists"
   ]
  },
  {
   "cell_type": "code",
   "execution_count": 77,
   "metadata": {},
   "outputs": [],
   "source": [
    "ser_artists = df_music_clean.Artist"
   ]
  },
  {
   "cell_type": "code",
   "execution_count": 78,
   "metadata": {},
   "outputs": [],
   "source": [
    "arr_artists = ser_artists.unique()"
   ]
  },
  {
   "cell_type": "code",
   "execution_count": 79,
   "metadata": {},
   "outputs": [
    {
     "data": {
      "text/plain": [
       "(551,)"
      ]
     },
     "execution_count": 79,
     "metadata": {},
     "output_type": "execute_result"
    }
   ],
   "source": [
    "arr_artists.shape"
   ]
  },
  {
   "cell_type": "code",
   "execution_count": 64,
   "metadata": {
    "collapsed": true
   },
   "outputs": [],
   "source": [
    "arr_artists.sort()"
   ]
  },
  {
   "cell_type": "code",
   "execution_count": 65,
   "metadata": {
    "scrolled": false
   },
   "outputs": [
    {
     "name": "stdout",
     "output_type": "stream",
     "text": [
      "1910 Fruitgum Company\n",
      "? and the Mysterians\n",
      "Aaron Neville\n",
      "Ace Cannon\n",
      "Acker Bilk\n",
      "Adam Wade\n",
      "Al Hirt\n",
      "Al Martino\n",
      "Allan Sherman\n",
      "Andy Kim\n",
      "Andy Williams\n",
      "Anita Bryant\n",
      "Annette Funicello\n",
      "Archie Bell and The Drells\n",
      "Aretha Franklin\n",
      "Arthur Conley\n",
      "Arthur Lyman\n",
      "B. J. Thomas\n",
      "Barbara George\n",
      "Barbara Lewis\n",
      "Barbara Lynn\n",
      "Barbara Mason\n",
      "Barbra Streisand\n",
      "Barrett Strong\n",
      "Barry Mann\n",
      "Barry McGuire\n",
      "Ben E. King\n",
      "Bent Fabric\n",
      "Bert Kaempfert\n",
      "Betty Everett\n",
      "Betty Everett and Jerry Butler\n",
      "Big Brother and The Holding Company\n",
      "Bill Anderson\n",
      "Bill Black's Combo\n",
      "Bill Cosby\n",
      "Bill Pursell\n",
      "Billy Bland\n",
      "Billy J. Kramer?and?The Dakotas\n",
      "Billy Joe Royal\n",
      "Billy Joe and The Checkmates\n",
      "Billy Vaughn\n",
      "Blood, Sweat and Tears\n",
      "Blue Cheer\n",
      "Blue Magoos\n",
      "Bob Dylan\n",
      "Bob Lind\n",
      "Bob Luman\n",
      "Bob Moore\n",
      "Bob Seger System\n",
      "Bobby Bare\n",
      "Bobby Darin\n",
      "Bobby Freeman\n",
      "Bobby Fuller Four\n",
      "Bobby Gentry\n",
      "Bobby Goldsboro\n",
      "Bobby Hebb\n",
      "Bobby Lewis\n",
      "Bobby Rydell\n",
      "Bobby Sherman\n",
      "Bobby Vee\n",
      "Bobby Vee and The Strangers\n",
      "Bobby Vinton\n",
      "Booker T. and The M.G.'s\n",
      "Brenda Lee\n",
      "Brenton Wood\n",
      "Brian Hyland\n",
      "Brook Benton\n",
      "Brooklyn Bridge\n",
      "Brothers Four\n",
      "Bruce Channel\n",
      "Buffalo Springfield\n",
      "Burl Ives\n",
      "Buzz Clifford\n",
      "Carla Thomas\n",
      "Cass Elliot\n",
      "Chad and Jeremy\n",
      "Charlie Rich\n",
      "Cher\n",
      "Chris Kenner\n",
      "Chris Montez\n",
      "Chubby Checker\n",
      "Clarence \"Frogman\" Henry\n",
      "Clarence Carter\n",
      "Classics IV\n",
      "Claude King\n",
      "Claudine Clark\n",
      "Cliff Nobles\n",
      "Clyde McPhatter\n",
      "Connie Francis\n",
      "Connie Stevens\n",
      "Conway Twitty\n",
      "Count Five\n",
      "Crazy Elephant\n",
      "Cream\n",
      "Creedence Clearwater Revival\n",
      "Crispian St. Peters\n",
      "Curtis Lee\n",
      "Dale and Grace\n",
      "Danny Williams\n",
      "Dave \"Baby\" Cortez\n",
      "Dave Brubeck\n",
      "David Houston\n",
      "David Rose\n",
      "David Ruffin\n",
      "Dean Martin\n",
      "Dee Clark\n",
      "Dee Dee Sharp\n",
      "Del Shannon\n",
      "Deon Jackson\n",
      "Diana Ross and The Supremes and The Temptations\n",
      "Diane Renay\n",
      "Dick and Dee Dee\n",
      "Dickey Lee\n",
      "Dinah Washington and Brook Benton\n",
      "Dino, Desi and Billy\n",
      "Dion\n",
      "Dion and The Belmonts\n",
      "Dionne Warwick\n",
      "Dixie Belles\n",
      "Don Gibson\n",
      "Don and Juan\n",
      "Donnie Brooks\n",
      "Donovan\n",
      "Doris Troy\n",
      "Drifters\n",
      "Duane Eddy\n",
      "Dusty Springfield\n",
      "Ed Ames\n",
      "Eddie Hodges\n",
      "Edwin Hawkins Singers\n",
      "Edwin Starr\n",
      "Elvis Presley\n",
      "Emilio Pericoli\n",
      "Engelbert Humperdinck\n",
      "Ernie K-Doe\n",
      "Ernie Maresca\n",
      "Everly Brothers\n",
      "Every Mothers' Son\n",
      "Eydie Gorme\n",
      "Faron Young\n",
      "Fats Domino\n",
      "Fendermen\n",
      "Ferlin Husky\n",
      "Ferrante and Teicher\n",
      "Five Americans\n",
      "Floyd Cramer\n",
      "Four Tops\n",
      "Frank Sinatra\n",
      "Frank and Nancy Sinatra\n",
      "Frankie Avalon\n",
      "Frankie Valli\n",
      "Frankie Valli and The Four Seasons\n",
      "Freddie Cannon\n",
      "Freddie and the Dreamers\n",
      "Freddy Cannon\n",
      "Friend and Lover\n",
      "Gale Garnett\n",
      "Garnet Mimms and the Enchanters\n",
      "Gary Lewis and The Playboys\n",
      "Gary Puckett and The Union Gap\n",
      "Gary U.S. Bonds\n",
      "Gene Chandler\n",
      "Gene Mcdaniels\n",
      "Gene Pitney\n",
      "Gene and Debbe\n",
      "Georgie Fame\n",
      "Gerry and the Pacemakers\n",
      "Glen Campbell\n",
      "Glenn Yarbrough\n",
      "Guy Mitchell\n",
      "Hank Ballard and The Midnighters\n",
      "Hank Locklin\n",
      "Harry Nilsson\n",
      "Henry Mancini\n",
      "Henry Mancini and His Orch.\n",
      "Herb Alpert\n",
      "Herb Alpert and The Tijuana Brass\n",
      "Herman's Hermits\n",
      "Hollywood Argyles\n",
      "Horst Jankowski\n",
      "Hugh Masekela\n",
      "Hugo Montenegro\n",
      "Ian Whitcomb\n",
      "Ike and Tina Turner\n",
      "Inez and Charlie Foxx\n",
      "J. Frank Wilson and the Cavaliers\n",
      "Jack Jones\n",
      "Jack Scott\n",
      "Jackie DeShannon\n",
      "Jackie Wilson\n",
      "James Brown\n",
      "James Brown and The Famous Flames\n",
      "James Darren\n",
      "James and Bobby Purify\n",
      "Jan Bradley\n",
      "Jan and Dean\n",
      "Janis Ian\n",
      "Jay and The Americans\n",
      "Jay and The Techniques\n",
      "Jay and the Americans\n",
      "Jeanne Black\n",
      "Jeannie C. Riley\n",
      "Jefferson Airplane\n",
      "Jerry Butler\n",
      "Jewel Akens\n",
      "Jim Reeves\n",
      "Jimmy Charles\n",
      "Jimmy Clanton\n",
      "Jimmy Dean\n",
      "Jimmy Gilmer and The Fireballs\n",
      "Jimmy Hughes\n",
      "Jimmy Jones\n",
      "Jimmy Ruffin\n",
      "Jimmy Smith\n",
      "Jimmy Soul\n",
      "Joanie Sommers\n",
      "Joe Dowell\n",
      "Joe Henderson\n",
      "Joe Hinton\n",
      "Joe Jones\n",
      "Joe Simon\n",
      "Joe South\n",
      "Joe Tex\n",
      "Joey Dee and The Starliters\n",
      "John Fred and His Playboy Band\n",
      "Johnny Burnette\n",
      "Johnny Cash\n",
      "Johnny Crawford\n",
      "Johnny Horton\n",
      "Johnny Mathis\n",
      "Johnny Nash\n",
      "Johnny Preston\n",
      "Johnny Rivers\n",
      "Johnny Tillotson\n",
      "Johnny and The Hurricanes\n",
      "Jorgen Ingmann\n",
      "Jose Feliciano\n",
      "Jr. Walker and The All Stars\n",
      "Jumpin' Gene Simmons\n",
      "Junior Walker and the All Stars\n",
      "Kai Winding\n",
      "Keith\n",
      "Kenny Ball\n",
      "Kenny Rogers and The First Edition\n",
      "Ketty Lester\n",
      "King Curtis\n",
      "Kokomo\n",
      "Kyu Sakamoto\n",
      "Larry Finnegan\n",
      "Larry Hall\n",
      "Larry Verne\n",
      "Lawrence Welk\n",
      "Lee Dorsey\n",
      "Lesley Gore\n",
      "Linda Scott\n",
      "Little Anthony and the Imperials\n",
      "Little Caesar and The Romans\n",
      "Little Eva\n",
      "Little Peggy March\n",
      "Lloyd Price\n",
      "Lonnie Donegan\n",
      "Lonnie Mack\n",
      "Los Bravos\n",
      "Los Indios Tabajaras\n",
      "Lou Christie\n",
      "Lou Rawls\n",
      "Louis Armstrong\n",
      "Lulu\n",
      "Major Lance\n",
      "Manfred Mann\n",
      "Marcels\n",
      "Mark Dinning\n",
      "Martha and The Vandellas\n",
      "Marty Robbins\n",
      "Marv Johnson\n",
      "Marvelettes\n",
      "Marvin Gaye\n",
      "Marvin Gaye and Tammi Terrell\n",
      "Mary Hopkin\n",
      "Mary Wells\n",
      "Mason Williams\n",
      "Matt Monro\n",
      "Maurice Williams and the Zodiacs\n",
      "Mel Carter\n",
      "Mercy\n",
      "Merrilee Rush\n",
      "Millie Small\n",
      "Mitch Ryder and the Detroit Wheels\n",
      "Motherlode\n",
      "Nancy Sinatra\n",
      "Nancy Wilson\n",
      "Nat King Cole\n",
      "Ned Miller\n",
      "Neil Diamond\n",
      "Neil Sedaka\n",
      "New Colony Six\n",
      "Nino Tempo and April Stevens\n",
      "O.C. Smith\n",
      "Ohio Express\n",
      "Oliver\n",
      "Otis Redding\n",
      "Pat Boone\n",
      "Patsy Cline\n",
      "Patti Page\n",
      "Patty Duke\n",
      "Paul Anka\n",
      "Paul Evans\n",
      "Paul Mauriat\n",
      "Paul Revere and The Raiders\n",
      "Paul and Paula\n",
      "Peaches and Herb\n",
      "Percy Faith\n",
      "Percy Sledge\n",
      "Peter and Gordon\n",
      "Peter, Paul and Mary\n",
      "Petula Clark\n",
      "Platters\n",
      "Procol Harum\n",
      "Ral Donner\n",
      "Ramsey Lewis Trio\n",
      "Randy and The Rainbows\n",
      "Ray Charles\n",
      "Ray Conniff Singers\n",
      "Ray Peterson\n",
      "Ray Stevens\n",
      "Richard Chamberlain\n",
      "Richard Harris\n",
      "Ricky Nelson\n",
      "Robert Knight\n",
      "Robert Maxwell\n",
      "Robert Parker\n",
      "Roger Miller\n",
      "Roger Williams\n",
      "Rolf Harris\n",
      "Ron Holden\n",
      "Ronnie and The Hi-lites\n",
      "Ronny and the Daytonas\n",
      "Rosie and The Originals\n",
      "Roy Head\n",
      "Roy Orbison\n",
      "Ruby And The Romantics\n",
      "Rufus Thomas\n",
      "SSgt Barry Sadler\n",
      "Sam Cooke\n",
      "Sam and Dave\n",
      "Sam the Sham and the Pharaohs\n",
      "Sammy Davis Jr.\n",
      "Sandy Posey\n",
      "Scott Mckenzie\n",
      "Sergio Mendes and Brasil '66\n",
      "Shades Of Blue\n",
      "Shelley Fabares\n",
      "Shep and The Limelites\n",
      "Shirley Bassey\n",
      "Shirley Ellis\n",
      "Shorty Long\n",
      "Simon and Garfunkel\n",
      "Sir Douglas Quintet\n",
      "Skeeter Davis\n",
      "Skip and Flip\n",
      "Slim Harpo\n",
      "Sly and The Family Stone\n",
      "Smith\n",
      "Smokey Robinson and The Miracles\n",
      "Sonny\n",
      "Sonny Charles and The Checkmates, Ltd.\n",
      "Sonny and Cher\n",
      "Sounds Orchestral\n",
      "Spencer Ross\n",
      "Spiral Starecase\n",
      "Stan Getz and Astrud Gilberto\n",
      "Status Quo\n",
      "Steppenwolf\n",
      "Steve Lawrence\n",
      "Stevie Wonder\n",
      "Strawberry Alarm Clock\n",
      "Sue Thompson\n",
      "Sunny and the Sunglows\n",
      "Terry Stafford\n",
      "The 5th Dimension\n",
      "The Ad Libs\n",
      "The American Breed\n",
      "The Angels\n",
      "The Animals\n",
      "The Archies\n",
      "The Association\n",
      "The Bachelors\n",
      "The Bar-Kays\n",
      "The Beach Boys\n",
      "The Beatles\n",
      "The Beatles with Billy Preston\n",
      "The Beau Brummels\n",
      "The Bee Gees\n",
      "The Box Tops\n",
      "The Browns\n",
      "The Buckinghams\n",
      "The Byrds\n",
      "The Capitols\n",
      "The Capris\n",
      "The Cascades\n",
      "The Casinos\n",
      "The Chambers Brothers\n",
      "The Chantays\n",
      "The Chiffons\n",
      "The Cookies\n",
      "The Corsairs\n",
      "The Cowsills\n",
      "The Crazy World Of Arthur Brown\n",
      "The Crests\n",
      "The Crystals\n",
      "The Cuff Links\n",
      "The Cyrkle\n",
      "The Dave Clark Five\n",
      "The Delfonics\n",
      "The Dells\n",
      "The Dixie Cups\n",
      "The Doors\n",
      "The Dovells\n",
      "The Drifters\n",
      "The Duprees\n",
      "The Easybeats\n",
      "The Echoes\n",
      "The Electric Prunes\n",
      "The Esquires\n",
      "The Essex\n",
      "The Everly Brothers\n",
      "The Fireballs\n",
      "The Flying Machine\n",
      "The Fortunes\n",
      "The Foundations\n",
      "The Four Preps\n",
      "The Four Seasons\n",
      "The Four Tops\n",
      "The Friends Of Distinction\n",
      "The Grass Roots\n",
      "The Guess Who\n",
      "The Happenings\n",
      "The Highwaymen\n",
      "The Hollies\n",
      "The Hombres\n",
      "The Hondells\n",
      "The Honeycombs\n",
      "The Human Beinz\n",
      "The Ikettes\n",
      "The Impressions\n",
      "The Intruders\n",
      "The Irish Rovers\n",
      "The Isley Brothers\n",
      "The Jaynetts\n",
      "The Jelly Beans\n",
      "The Jive Five\n",
      "The Kingsmen\n",
      "The Kingston Trio\n",
      "The Kinks\n",
      "The Left Banke\n",
      "The Lemon Pipers\n",
      "The Lettermen\n",
      "The Little Dippers\n",
      "The Lovin' Spoonful\n",
      "The Mamas and The Papas\n",
      "The Mamas and the Papas\n",
      "The Mar-Keys\n",
      "The Marketts\n",
      "The Marvelettes\n",
      "The McCoys\n",
      "The Mills Brothers\n",
      "The Mindbenders\n",
      "The Miracles\n",
      "The Monkees\n",
      "The Moody Blues\n",
      "The Music Explosion\n",
      "The New Christy Minstrels\n",
      "The New Vaudeville Band\n",
      "The Newbeats\n",
      "The O'Kaysions\n",
      "The Originals\n",
      "The Orlons\n",
      "The Outsiders\n",
      "The Paris Sisters\n",
      "The Rascals\n",
      "The Ray Charles Singers\n",
      "The Reflections\n",
      "The Righteous Brothers\n",
      "The Rip Chords\n",
      "The Rockin' Rebels\n",
      "The Rolling Stones\n",
      "The Ronettes\n",
      "The Rooftop Singers\n",
      "The Royal Guardsmen\n",
      "The Safaris\n",
      "The Sandpipers\n",
      "The Searchers\n",
      "The Seekers\n",
      "The Sensations\n",
      "The Serendipity Singers\n",
      "The Shadows Of Knight\n",
      "The Shangri-Las\n",
      "The Shirelles\n",
      "The Soul Survivors\n",
      "The Spencer Davis Group\n",
      "The Standells\n",
      "The Strangeloves\n",
      "The String-A-Longs\n",
      "The Supremes\n",
      "The Surfaris\n",
      "The Sweet Inspirations\n",
      "The T-Bones\n",
      "The Tams\n",
      "The Temptations\n",
      "The Trashmen\n",
      "The Tremeloes\n",
      "The Troggs\n",
      "The Turtles\n",
      "The Tymes\n",
      "The Ventures\n",
      "The Village Stompers\n",
      "The Vogues\n",
      "The Who\n",
      "The Winstons\n",
      "The Yardbirds\n",
      "The Young Rascals\n",
      "The Youngbloods\n",
      "The Zombies\n",
      "Three Dog Night\n",
      "Timi Yuro\n",
      "Tom Jones\n",
      "Tommy Boyce and Bobby Hart\n",
      "Tommy James and The Shondells\n",
      "Tommy Roe\n",
      "Tommy Tucker\n",
      "Toni Fisher\n",
      "Tony Bennett\n",
      "Tony Joe White\n",
      "Tony Orlando\n",
      "Trini Lopez\n",
      "Troggs\n",
      "Troy Shondell\n",
      "Turtles\n",
      "Tyrone Davis\n",
      "Van Morrison\n",
      "Vanilla Fudge\n",
      "Ventures\n",
      "Vic Dana\n",
      "Vicki Carr\n",
      "Vogues\n",
      "Walter Brennan\n",
      "Watts 103rd Street Rhythm Band\n",
      "Wayne Fontana and The Mindbenders\n",
      "We Five\n",
      "Willie Mitchell\n",
      "Wilson Pickett\n",
      "Zager and Evans\n",
      "Zombies\n"
     ]
    }
   ],
   "source": [
    "for i in arr_artists:\n",
    "    print(i)"
   ]
  },
  {
   "cell_type": "code",
   "execution_count": null,
   "metadata": {
    "collapsed": true
   },
   "outputs": [],
   "source": []
  },
  {
   "cell_type": "markdown",
   "metadata": {},
   "source": [
    "# 2 Baseline Model"
   ]
  },
  {
   "cell_type": "markdown",
   "metadata": {},
   "source": [
    "## 2.1 Z-score the Features"
   ]
  },
  {
   "cell_type": "code",
   "execution_count": 8,
   "metadata": {
    "collapsed": true
   },
   "outputs": [],
   "source": [
    "def z_score_norm(df, feature_list):\n",
    "    \"\"\" Dot the z-score method on selected features in feature_list. \n",
    "        z = (x - mean)/std\n",
    "    \n",
    "    Args:\n",
    "        df (pandas.DataFrame): data set\n",
    "        feature_list   (list): a list of features, each element is a string\n",
    "    \"\"\"\n",
    "    \n",
    "    for col in feature_list:\n",
    "        df[col] = (df[col] - df[col].mean())/(df[col].std())"
   ]
  },
  {
   "cell_type": "code",
   "execution_count": 24,
   "metadata": {
    "collapsed": true
   },
   "outputs": [],
   "source": [
    "z_score_norm(df_music_clean, feature_list=['Rank', 'Year'])"
   ]
  },
  {
   "cell_type": "code",
   "execution_count": 25,
   "metadata": {},
   "outputs": [
    {
     "data": {
      "text/html": [
       "<div>\n",
       "<style>\n",
       "    .dataframe thead tr:only-child th {\n",
       "        text-align: right;\n",
       "    }\n",
       "\n",
       "    .dataframe thead th {\n",
       "        text-align: left;\n",
       "    }\n",
       "\n",
       "    .dataframe tbody tr th {\n",
       "        vertical-align: top;\n",
       "    }\n",
       "</style>\n",
       "<table border=\"1\" class=\"dataframe\">\n",
       "  <thead>\n",
       "    <tr style=\"text-align: right;\">\n",
       "      <th></th>\n",
       "      <th>Rank</th>\n",
       "      <th>Artist</th>\n",
       "      <th>Title</th>\n",
       "      <th>Year</th>\n",
       "      <th>LogPlayCount</th>\n",
       "    </tr>\n",
       "  </thead>\n",
       "  <tbody>\n",
       "    <tr>\n",
       "      <th>0</th>\n",
       "      <td>-1.713078</td>\n",
       "      <td>Percy Faith</td>\n",
       "      <td>Theme From \"A Summer Place\"</td>\n",
       "      <td>-1.565505</td>\n",
       "      <td>15.425179</td>\n",
       "    </tr>\n",
       "    <tr>\n",
       "      <th>1</th>\n",
       "      <td>-1.678503</td>\n",
       "      <td>Jim Reeves</td>\n",
       "      <td>He'll Have To Go</td>\n",
       "      <td>-1.565505</td>\n",
       "      <td>15.291952</td>\n",
       "    </tr>\n",
       "    <tr>\n",
       "      <th>2</th>\n",
       "      <td>-1.643928</td>\n",
       "      <td>Everly Brothers</td>\n",
       "      <td>Cathy's Clown</td>\n",
       "      <td>-1.565505</td>\n",
       "      <td>15.246003</td>\n",
       "    </tr>\n",
       "    <tr>\n",
       "      <th>3</th>\n",
       "      <td>-1.609353</td>\n",
       "      <td>Johnny Preston</td>\n",
       "      <td>Running Bear</td>\n",
       "      <td>-1.565505</td>\n",
       "      <td>14.183606</td>\n",
       "    </tr>\n",
       "    <tr>\n",
       "      <th>4</th>\n",
       "      <td>-1.574778</td>\n",
       "      <td>Mark Dinning</td>\n",
       "      <td>Teen Angel</td>\n",
       "      <td>-1.565505</td>\n",
       "      <td>12.986026</td>\n",
       "    </tr>\n",
       "  </tbody>\n",
       "</table>\n",
       "</div>"
      ],
      "text/plain": [
       "       Rank           Artist                        Title      Year  \\\n",
       "0 -1.713078      Percy Faith  Theme From \"A Summer Place\" -1.565505   \n",
       "1 -1.678503       Jim Reeves             He'll Have To Go -1.565505   \n",
       "2 -1.643928  Everly Brothers                Cathy's Clown -1.565505   \n",
       "3 -1.609353   Johnny Preston                 Running Bear -1.565505   \n",
       "4 -1.574778     Mark Dinning                   Teen Angel -1.565505   \n",
       "\n",
       "   LogPlayCount  \n",
       "0     15.425179  \n",
       "1     15.291952  \n",
       "2     15.246003  \n",
       "3     14.183606  \n",
       "4     12.986026  "
      ]
     },
     "execution_count": 25,
     "metadata": {},
     "output_type": "execute_result"
    }
   ],
   "source": [
    "df_music_clean.head()"
   ]
  },
  {
   "cell_type": "markdown",
   "metadata": {},
   "source": [
    "## 2.2 Do the Linear Regression"
   ]
  },
  {
   "cell_type": "markdown",
   "metadata": {},
   "source": [
    "Extract target and features"
   ]
  },
  {
   "cell_type": "code",
   "execution_count": 27,
   "metadata": {
    "collapsed": true
   },
   "outputs": [],
   "source": [
    "target = df_music_clean.loc[:,'LogPlayCount']\n",
    "feature = df_music_clean.loc[:,['Rank', 'Year']]"
   ]
  },
  {
   "cell_type": "code",
   "execution_count": 31,
   "metadata": {},
   "outputs": [
    {
     "data": {
      "text/plain": [
       "(1000, 2)"
      ]
     },
     "execution_count": 31,
     "metadata": {},
     "output_type": "execute_result"
    }
   ],
   "source": [
    "feature.shape"
   ]
  },
  {
   "cell_type": "markdown",
   "metadata": {},
   "source": [
    "# 3 Evaluation"
   ]
  }
 ],
 "metadata": {
  "kernelspec": {
   "display_name": "Python 3",
   "language": "python",
   "name": "python3"
  },
  "language_info": {
   "codemirror_mode": {
    "name": "ipython",
    "version": 3
   },
   "file_extension": ".py",
   "mimetype": "text/x-python",
   "name": "python",
   "nbconvert_exporter": "python",
   "pygments_lexer": "ipython3",
   "version": "3.6.1"
  }
 },
 "nbformat": 4,
 "nbformat_minor": 2
}
