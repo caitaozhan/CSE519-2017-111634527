{
 "cells": [
  {
   "cell_type": "code",
   "execution_count": 192,
   "metadata": {
    "collapsed": true
   },
   "outputs": [],
   "source": [
    "import pandas as pd\n",
    "import seaborn as sns\n",
    "import matplotlib.pyplot as plt\n",
    "%matplotlib inline\n",
    "import numpy as np\n",
    "import math\n",
    "\n",
    "from sklearn import linear_model\n",
    "from sklearn.model_selection import cross_val_predict\n",
    "from sklearn.metrics import mean_absolute_error\n",
    "from sklearn.metrics import median_absolute_error\n",
    "from sklearn.metrics import r2_score"
   ]
  },
  {
   "cell_type": "code",
   "execution_count": 4,
   "metadata": {
    "collapsed": true
   },
   "outputs": [],
   "source": [
    "df_music = pd.read_csv('../music_data/billboard_top_100_1960_1969.csv')"
   ]
  },
  {
   "cell_type": "code",
   "execution_count": 5,
   "metadata": {},
   "outputs": [
    {
     "data": {
      "text/html": [
       "<div>\n",
       "<style>\n",
       "    .dataframe thead tr:only-child th {\n",
       "        text-align: right;\n",
       "    }\n",
       "\n",
       "    .dataframe thead th {\n",
       "        text-align: left;\n",
       "    }\n",
       "\n",
       "    .dataframe tbody tr th {\n",
       "        vertical-align: top;\n",
       "    }\n",
       "</style>\n",
       "<table border=\"1\" class=\"dataframe\">\n",
       "  <thead>\n",
       "    <tr style=\"text-align: right;\">\n",
       "      <th></th>\n",
       "      <th>Rank</th>\n",
       "      <th>Artist</th>\n",
       "      <th>Title</th>\n",
       "      <th>Year</th>\n",
       "      <th>SpotifyPlayCount</th>\n",
       "    </tr>\n",
       "  </thead>\n",
       "  <tbody>\n",
       "    <tr>\n",
       "      <th>count</th>\n",
       "      <td>1000.000000</td>\n",
       "      <td>1000</td>\n",
       "      <td>1000</td>\n",
       "      <td>1000.000000</td>\n",
       "      <td>1.000000e+03</td>\n",
       "    </tr>\n",
       "    <tr>\n",
       "      <th>unique</th>\n",
       "      <td>NaN</td>\n",
       "      <td>551</td>\n",
       "      <td>987</td>\n",
       "      <td>NaN</td>\n",
       "      <td>NaN</td>\n",
       "    </tr>\n",
       "    <tr>\n",
       "      <th>top</th>\n",
       "      <td>NaN</td>\n",
       "      <td>The Beatles</td>\n",
       "      <td>Red Roses for a Blue Lady</td>\n",
       "      <td>NaN</td>\n",
       "      <td>NaN</td>\n",
       "    </tr>\n",
       "    <tr>\n",
       "      <th>freq</th>\n",
       "      <td>NaN</td>\n",
       "      <td>23</td>\n",
       "      <td>2</td>\n",
       "      <td>NaN</td>\n",
       "      <td>NaN</td>\n",
       "    </tr>\n",
       "    <tr>\n",
       "      <th>mean</th>\n",
       "      <td>50.547000</td>\n",
       "      <td>NaN</td>\n",
       "      <td>NaN</td>\n",
       "      <td>1964.501000</td>\n",
       "      <td>7.899716e+06</td>\n",
       "    </tr>\n",
       "    <tr>\n",
       "      <th>std</th>\n",
       "      <td>28.922799</td>\n",
       "      <td>NaN</td>\n",
       "      <td>NaN</td>\n",
       "      <td>2.875111</td>\n",
       "      <td>1.992259e+07</td>\n",
       "    </tr>\n",
       "    <tr>\n",
       "      <th>min</th>\n",
       "      <td>1.000000</td>\n",
       "      <td>NaN</td>\n",
       "      <td>NaN</td>\n",
       "      <td>1960.000000</td>\n",
       "      <td>1.554000e+03</td>\n",
       "    </tr>\n",
       "    <tr>\n",
       "      <th>25%</th>\n",
       "      <td>25.750000</td>\n",
       "      <td>NaN</td>\n",
       "      <td>NaN</td>\n",
       "      <td>1962.000000</td>\n",
       "      <td>2.437070e+05</td>\n",
       "    </tr>\n",
       "    <tr>\n",
       "      <th>50%</th>\n",
       "      <td>50.500000</td>\n",
       "      <td>NaN</td>\n",
       "      <td>NaN</td>\n",
       "      <td>1964.500000</td>\n",
       "      <td>8.641245e+05</td>\n",
       "    </tr>\n",
       "    <tr>\n",
       "      <th>75%</th>\n",
       "      <td>76.000000</td>\n",
       "      <td>NaN</td>\n",
       "      <td>NaN</td>\n",
       "      <td>1967.000000</td>\n",
       "      <td>4.963935e+06</td>\n",
       "    </tr>\n",
       "    <tr>\n",
       "      <th>max</th>\n",
       "      <td>100.000000</td>\n",
       "      <td>NaN</td>\n",
       "      <td>NaN</td>\n",
       "      <td>1969.000000</td>\n",
       "      <td>2.010574e+08</td>\n",
       "    </tr>\n",
       "  </tbody>\n",
       "</table>\n",
       "</div>"
      ],
      "text/plain": [
       "               Rank       Artist                      Title         Year  \\\n",
       "count   1000.000000         1000                       1000  1000.000000   \n",
       "unique          NaN          551                        987          NaN   \n",
       "top             NaN  The Beatles  Red Roses for a Blue Lady          NaN   \n",
       "freq            NaN           23                          2          NaN   \n",
       "mean      50.547000          NaN                        NaN  1964.501000   \n",
       "std       28.922799          NaN                        NaN     2.875111   \n",
       "min        1.000000          NaN                        NaN  1960.000000   \n",
       "25%       25.750000          NaN                        NaN  1962.000000   \n",
       "50%       50.500000          NaN                        NaN  1964.500000   \n",
       "75%       76.000000          NaN                        NaN  1967.000000   \n",
       "max      100.000000          NaN                        NaN  1969.000000   \n",
       "\n",
       "        SpotifyPlayCount  \n",
       "count       1.000000e+03  \n",
       "unique               NaN  \n",
       "top                  NaN  \n",
       "freq                 NaN  \n",
       "mean        7.899716e+06  \n",
       "std         1.992259e+07  \n",
       "min         1.554000e+03  \n",
       "25%         2.437070e+05  \n",
       "50%         8.641245e+05  \n",
       "75%         4.963935e+06  \n",
       "max         2.010574e+08  "
      ]
     },
     "execution_count": 5,
     "metadata": {},
     "output_type": "execute_result"
    }
   ],
   "source": [
    "df_music.describe(include='all')"
   ]
  },
  {
   "cell_type": "markdown",
   "metadata": {},
   "source": [
    "# 1 Visualization"
   ]
  },
  {
   "cell_type": "markdown",
   "metadata": {},
   "source": [
    "## 1.1 Heat Map: Correlation"
   ]
  },
  {
   "cell_type": "code",
   "execution_count": 6,
   "metadata": {},
   "outputs": [
    {
     "data": {
      "text/plain": [
       "<matplotlib.axes._subplots.AxesSubplot at 0x20123ae2828>"
      ]
     },
     "execution_count": 6,
     "metadata": {},
     "output_type": "execute_result"
    },
    {
     "data": {
      "image/png": "[encoded data removed]",
      "text/plain": [
       "<matplotlib.figure.Figure at 0x20123b0ba90>"
      ]
     },
     "metadata": {},
     "output_type": "display_data"
    }
   ],
   "source": [
    "sns.set(style=\"white\")\n",
    "corr = df_music.corr()\n",
    "\n",
    "mask = np.zeros_like(corr, dtype=np.bool)\n",
    "mask[np.triu_indices_from(mask)] = True\n",
    "mask[np.tril_indices_from(mask)] = False\n",
    "\n",
    "# Set up the matplotlib figure\n",
    "plt.subplots(figsize=(7, 7))\n",
    "\n",
    "# Generate a custom diverging colormap\n",
    "cmap = sns.diverging_palette(255, 10, as_cmap=True)\n",
    "\n",
    "# Draw the heatmap with the mask and correct aspect ratio\n",
    "sns.heatmap(corr, mask=mask, cmap=cmap, vmax=1, center=0,\n",
    "            square=True, annot=True, annot_kws={\"size\":15}, linewidth=3, cbar_kws={\"shrink\": 0.6})"
   ]
  },
  {
   "cell_type": "markdown",
   "metadata": {},
   "source": [
    "## 1.2 Histogram: Play Count (Original)"
   ]
  },
  {
   "cell_type": "code",
   "execution_count": 8,
   "metadata": {
    "collapsed": true
   },
   "outputs": [],
   "source": [
    "df_playCount = df_music.SpotifyPlayCount"
   ]
  },
  {
   "cell_type": "code",
   "execution_count": 172,
   "metadata": {},
   "outputs": [
    {
     "data": {
      "text/plain": [
       "<matplotlib.text.Text at 0x20129c5deb8>"
      ]
     },
     "execution_count": 172,
     "metadata": {},
     "output_type": "execute_result"
    },
    {
     "data": {
      "image/png": "[encoded data removed]",
      "text/plain": [
       "<matplotlib.figure.Figure at 0x2012767fa58>"
      ]
     },
     "metadata": {},
     "output_type": "display_data"
    }
   ],
   "source": [
    "ax = df_playCount.plot.hist(bins=200, figsize=(12,7))\n",
    "ax.set_title('Frequency of (Original) Spotify Play Counts',fontsize=16)\n",
    "ax.set_xlabel(\"Spotify play counts (100 million)\", fontsize=14)\n",
    "ax.set_ylabel(\"Freqency\", fontsize=14)"
   ]
  },
  {
   "cell_type": "code",
   "execution_count": 10,
   "metadata": {
    "collapsed": true
   },
   "outputs": [],
   "source": [
    "df_playCount2 = df_music[df_music.SpotifyPlayCount < 1000000]"
   ]
  },
  {
   "cell_type": "code",
   "execution_count": 11,
   "metadata": {},
   "outputs": [
    {
     "data": {
      "text/plain": [
       "(513, 5)"
      ]
     },
     "execution_count": 11,
     "metadata": {},
     "output_type": "execute_result"
    }
   ],
   "source": [
    "df_playCount2.shape"
   ]
  },
  {
   "cell_type": "markdown",
   "metadata": {},
   "source": [
    "The play count distribution is largely **skewed**. The biggest play count is over 200 million, while 513 out of 1000 songs have a play count lower than 1 million."
   ]
  },
  {
   "cell_type": "markdown",
   "metadata": {},
   "source": [
    "## 1.3 Histogram: Play Count (Logarithm)"
   ]
  },
  {
   "cell_type": "code",
   "execution_count": 12,
   "metadata": {
    "collapsed": true
   },
   "outputs": [],
   "source": [
    "df_playCount3 = np.log(df_music.SpotifyPlayCount)"
   ]
  },
  {
   "cell_type": "code",
   "execution_count": 176,
   "metadata": {},
   "outputs": [
    {
     "data": {
      "image/png": "[encoded data removed]",
      "text/plain": [
       "<matplotlib.figure.Figure at 0x20128881f60>"
      ]
     },
     "metadata": {},
     "output_type": "display_data"
    }
   ],
   "source": [
    "min_count = math.floor(df_playCount3.min())\n",
    "max_count = math.ceil(df_playCount3.max())\n",
    "ax = df_playCount3.plot.hist(bins=25, figsize=(7,7), alpha=0.8)\n",
    "ax.set_xticks(np.arange(min_count, max_count))\n",
    "ax.set_title('Frequency of (Log) Spotify Play Counts',fontsize=16)\n",
    "ax.set_xlabel(\"Spotify (log) play counts\", fontsize=14)\n",
    "ax.set_ylabel(\"Freqency\", fontsize=14)\n",
    "ax.grid()"
   ]
  },
  {
   "cell_type": "markdown",
   "metadata": {},
   "source": [
    "After logarithm, the distribution looks much like **bell shape**. It makes sense to change our original target to the log-target."
   ]
  },
  {
   "cell_type": "markdown",
   "metadata": {},
   "source": [
    "## 1.4 Heat Map: Correlation with Log Target"
   ]
  },
  {
   "cell_type": "markdown",
   "metadata": {},
   "source": [
    "The following correlation heat map with **log** target is **better** than the correlation heat map with **original** target. A higher correlation implys that we are more likely to build a model with lower error."
   ]
  },
  {
   "cell_type": "code",
   "execution_count": 14,
   "metadata": {
    "collapsed": true
   },
   "outputs": [],
   "source": [
    "df_music_clean = df_music.copy()\n",
    "df_music_clean.SpotifyPlayCount = np.log(df_music_clean.SpotifyPlayCount)\n",
    "df_music_clean.rename(columns={'SpotifyPlayCount':'LogPlayCount'}, inplace=True)"
   ]
  },
  {
   "cell_type": "code",
   "execution_count": 15,
   "metadata": {
    "scrolled": true
   },
   "outputs": [
    {
     "data": {
      "text/plain": [
       "<matplotlib.axes._subplots.AxesSubplot at 0x201242fc7b8>"
      ]
     },
     "execution_count": 15,
     "metadata": {},
     "output_type": "execute_result"
    },
    {
     "data": {
      "image/png": "[encoded data removed]",
      "text/plain": [
       "<matplotlib.figure.Figure at 0x20123daec18>"
      ]
     },
     "metadata": {},
     "output_type": "display_data"
    }
   ],
   "source": [
    "sns.set(style=\"white\")\n",
    "corr = df_music_clean.corr()\n",
    "\n",
    "mask = np.zeros_like(corr, dtype=np.bool)\n",
    "mask[np.triu_indices_from(mask)] = True\n",
    "mask[np.tril_indices_from(mask)] = False\n",
    "\n",
    "# Set up the matplotlib figure\n",
    "plt.subplots(figsize=(7, 7))\n",
    "\n",
    "# Generate a custom diverging colormap\n",
    "cmap = sns.diverging_palette(255, 10, as_cmap=True)\n",
    "\n",
    "# Draw the heatmap with the mask and correct aspect ratio\n",
    "sns.heatmap(corr, mask=mask, cmap=cmap, vmax=1, center=0,\n",
    "            square=True, annot=True, annot_kws={\"size\":15}, linewidth=3, cbar_kws={\"shrink\": 0.6})\n"
   ]
  },
  {
   "cell_type": "markdown",
   "metadata": {},
   "source": [
    "## 1.5 Bar: Frequency of Artists"
   ]
  },
  {
   "cell_type": "markdown",
   "metadata": {},
   "source": [
    "The frequency of each artist. The Beatles has the highest frequency with 23 times."
   ]
  },
  {
   "cell_type": "code",
   "execution_count": 16,
   "metadata": {
    "collapsed": true
   },
   "outputs": [],
   "source": [
    "ser_artists = df_music_clean.Artist   # 1000 artists\n",
    "arr_artists = ser_artists.unique()    # 551 unique artists"
   ]
  },
  {
   "cell_type": "markdown",
   "metadata": {},
   "source": [
    "Use a dictionary to count the frequency of each unique artist."
   ]
  },
  {
   "cell_type": "code",
   "execution_count": 17,
   "metadata": {
    "collapsed": true
   },
   "outputs": [],
   "source": [
    "dic_artist_count = {} "
   ]
  },
  {
   "cell_type": "code",
   "execution_count": 19,
   "metadata": {
    "collapsed": true
   },
   "outputs": [],
   "source": [
    "for i in arr_artists:\n",
    "    dic_artist_count[i] = 0\n",
    "    \n",
    "for i in ser_artists:\n",
    "    dic_artist_count[i] = dic_artist_count[i] + 1"
   ]
  },
  {
   "cell_type": "code",
   "execution_count": 20,
   "metadata": {
    "collapsed": true
   },
   "outputs": [],
   "source": [
    "frequency = dic_artist_count.values()\n",
    "list_frequency = list(frequency)  \n",
    "ser_frequency = pd.Series(list_frequency)"
   ]
  },
  {
   "cell_type": "markdown",
   "metadata": {},
   "source": [
    "Use a dictionary to count the frequency of the **frequency of each unique artist**."
   ]
  },
  {
   "cell_type": "code",
   "execution_count": 21,
   "metadata": {
    "collapsed": true
   },
   "outputs": [],
   "source": [
    "dic_frequency_count = {}"
   ]
  },
  {
   "cell_type": "code",
   "execution_count": 22,
   "metadata": {
    "collapsed": true
   },
   "outputs": [],
   "source": [
    "arr_frequency = ser_frequency.unique()\n",
    "\n",
    "for i in arr_frequency:\n",
    "    dic_frequency_count[i] = 0\n",
    "    \n",
    "for i in ser_frequency:\n",
    "    dic_frequency_count[i] = dic_frequency_count[i] + 1"
   ]
  },
  {
   "cell_type": "markdown",
   "metadata": {},
   "source": [
    "There are 373 artists who only show up once in the charts. There is one artist who show up 23 times, which is The Beatles."
   ]
  },
  {
   "cell_type": "code",
   "execution_count": 23,
   "metadata": {},
   "outputs": [
    {
     "data": {
      "text/plain": [
       "{1: 373,\n",
       " 2: 81,\n",
       " 3: 38,\n",
       " 4: 19,\n",
       " 5: 17,\n",
       " 6: 8,\n",
       " 7: 7,\n",
       " 8: 2,\n",
       " 9: 1,\n",
       " 10: 1,\n",
       " 11: 2,\n",
       " 13: 1,\n",
       " 23: 1}"
      ]
     },
     "execution_count": 23,
     "metadata": {},
     "output_type": "execute_result"
    }
   ],
   "source": [
    "dic_frequency_count"
   ]
  },
  {
   "cell_type": "code",
   "execution_count": 24,
   "metadata": {},
   "outputs": [
    {
     "data": {
      "text/plain": [
       "<matplotlib.text.Text at 0x201245f8550>"
      ]
     },
     "execution_count": 24,
     "metadata": {},
     "output_type": "execute_result"
    },
    {
     "data": {
      "image/png": "[encoded data removed]",
      "text/plain": [
       "<matplotlib.figure.Figure at 0x2012430c940>"
      ]
     },
     "metadata": {},
     "output_type": "display_data"
    }
   ],
   "source": [
    "ser_frequency_count = pd.Series(dic_frequency_count)\n",
    "ax = ser_frequency_count.plot.bar()\n",
    "ax.set_xlabel('Frequency of an Artist Being in the Billboard 100 in 1960\\'s', fontsize=12)\n",
    "ax.set_ylabel('Number of Artists', fontsize=12)"
   ]
  },
  {
   "cell_type": "markdown",
   "metadata": {},
   "source": [
    "# 2 Baseline Model"
   ]
  },
  {
   "cell_type": "markdown",
   "metadata": {},
   "source": [
    "## 2.1 Z-score the Features"
   ]
  },
  {
   "cell_type": "code",
   "execution_count": 25,
   "metadata": {
    "collapsed": true
   },
   "outputs": [],
   "source": [
    "def z_score_norm(df, feature_list):\n",
    "    \"\"\" Dot the z-score method on selected features in feature_list. \n",
    "        z = (x - mean)/std\n",
    "    \n",
    "    Args:\n",
    "        df (pandas.DataFrame): data set\n",
    "        feature_list   (list): a list of features, each element is a string\n",
    "    \"\"\"\n",
    "    \n",
    "    for col in feature_list:\n",
    "        df[col] = (df[col] - df[col].mean())/(df[col].std())"
   ]
  },
  {
   "cell_type": "code",
   "execution_count": 26,
   "metadata": {
    "collapsed": true
   },
   "outputs": [],
   "source": [
    "z_score_norm(df_music_clean, feature_list=['Rank', 'Year'])"
   ]
  },
  {
   "cell_type": "code",
   "execution_count": 27,
   "metadata": {},
   "outputs": [
    {
     "data": {
      "text/html": [
       "<div>\n",
       "<style>\n",
       "    .dataframe thead tr:only-child th {\n",
       "        text-align: right;\n",
       "    }\n",
       "\n",
       "    .dataframe thead th {\n",
       "        text-align: left;\n",
       "    }\n",
       "\n",
       "    .dataframe tbody tr th {\n",
       "        vertical-align: top;\n",
       "    }\n",
       "</style>\n",
       "<table border=\"1\" class=\"dataframe\">\n",
       "  <thead>\n",
       "    <tr style=\"text-align: right;\">\n",
       "      <th></th>\n",
       "      <th>Rank</th>\n",
       "      <th>Artist</th>\n",
       "      <th>Title</th>\n",
       "      <th>Year</th>\n",
       "      <th>LogPlayCount</th>\n",
       "    </tr>\n",
       "  </thead>\n",
       "  <tbody>\n",
       "    <tr>\n",
       "      <th>0</th>\n",
       "      <td>-1.713078</td>\n",
       "      <td>Percy Faith</td>\n",
       "      <td>Theme From \"A Summer Place\"</td>\n",
       "      <td>-1.565505</td>\n",
       "      <td>15.425179</td>\n",
       "    </tr>\n",
       "    <tr>\n",
       "      <th>1</th>\n",
       "      <td>-1.678503</td>\n",
       "      <td>Jim Reeves</td>\n",
       "      <td>He'll Have To Go</td>\n",
       "      <td>-1.565505</td>\n",
       "      <td>15.291952</td>\n",
       "    </tr>\n",
       "    <tr>\n",
       "      <th>2</th>\n",
       "      <td>-1.643928</td>\n",
       "      <td>Everly Brothers</td>\n",
       "      <td>Cathy's Clown</td>\n",
       "      <td>-1.565505</td>\n",
       "      <td>15.246003</td>\n",
       "    </tr>\n",
       "    <tr>\n",
       "      <th>3</th>\n",
       "      <td>-1.609353</td>\n",
       "      <td>Johnny Preston</td>\n",
       "      <td>Running Bear</td>\n",
       "      <td>-1.565505</td>\n",
       "      <td>14.183606</td>\n",
       "    </tr>\n",
       "    <tr>\n",
       "      <th>4</th>\n",
       "      <td>-1.574778</td>\n",
       "      <td>Mark Dinning</td>\n",
       "      <td>Teen Angel</td>\n",
       "      <td>-1.565505</td>\n",
       "      <td>12.986026</td>\n",
       "    </tr>\n",
       "  </tbody>\n",
       "</table>\n",
       "</div>"
      ],
      "text/plain": [
       "       Rank           Artist                        Title      Year  \\\n",
       "0 -1.713078      Percy Faith  Theme From \"A Summer Place\" -1.565505   \n",
       "1 -1.678503       Jim Reeves             He'll Have To Go -1.565505   \n",
       "2 -1.643928  Everly Brothers                Cathy's Clown -1.565505   \n",
       "3 -1.609353   Johnny Preston                 Running Bear -1.565505   \n",
       "4 -1.574778     Mark Dinning                   Teen Angel -1.565505   \n",
       "\n",
       "   LogPlayCount  \n",
       "0     15.425179  \n",
       "1     15.291952  \n",
       "2     15.246003  \n",
       "3     14.183606  \n",
       "4     12.986026  "
      ]
     },
     "execution_count": 27,
     "metadata": {},
     "output_type": "execute_result"
    }
   ],
   "source": [
    "df_music_clean.head()"
   ]
  },
  {
   "cell_type": "markdown",
   "metadata": {},
   "source": [
    "## 2.2 The Linear Regression"
   ]
  },
  {
   "cell_type": "markdown",
   "metadata": {},
   "source": [
    "Extract target and features"
   ]
  },
  {
   "cell_type": "code",
   "execution_count": 28,
   "metadata": {
    "collapsed": true
   },
   "outputs": [],
   "source": [
    "target = df_music_clean.loc[:,'LogPlayCount']\n",
    "feature = df_music_clean.loc[:,['Rank', 'Year']]"
   ]
  },
  {
   "cell_type": "code",
   "execution_count": 29,
   "metadata": {},
   "outputs": [
    {
     "name": "stdout",
     "output_type": "stream",
     "text": [
      "(1000, 2)\n",
      "(1000,)\n"
     ]
    }
   ],
   "source": [
    "print(feature.shape)\n",
    "print(target.shape)"
   ]
  },
  {
   "cell_type": "code",
   "execution_count": 30,
   "metadata": {
    "collapsed": true
   },
   "outputs": [],
   "source": [
    "lr = linear_model.LinearRegression()"
   ]
  },
  {
   "cell_type": "markdown",
   "metadata": {},
   "source": [
    "# 3 Single-command Evaluation"
   ]
  },
  {
   "cell_type": "markdown",
   "metadata": {},
   "source": [
    "![evaluation](../figure/evaluation.png)"
   ]
  },
  {
   "cell_type": "markdown",
   "metadata": {},
   "source": [
    "A single-command program that runs our model on the evaluation data, and produce plots/reports on its effectiveness is very important."
   ]
  },
  {
   "cell_type": "code",
   "execution_count": 320,
   "metadata": {
    "collapsed": true
   },
   "outputs": [],
   "source": [
    "def performance_statistics(model_name, target, pred):\n",
    "    '''Plot a table of performance statistics\n",
    "    \n",
    "    Args:\n",
    "        target (Series):  target data\n",
    "        pred   (ndarray): predition results\n",
    "    '''\n",
    "    mae   = mean_absolute_error(target, pred)\n",
    "    medae = median_absolute_error(target, pred)\n",
    "    r2    = r2_score(target, pred)\n",
    "    \n",
    "    columns = ['Model', 'Mean Absolute Error', 'Median Absolute Error', 'R2 Score']\n",
    "    cell_text = [['%s' % model_name, '%1.3f' % mae, '%1.3f' % medae, '%1.3f' % r2]]\n",
    "    \n",
    "    nrow = 1\n",
    "    ncol = len(columns)\n",
    "    \n",
    "    fig = plt.figure(figsize=(ncol*2, nrow*0.2))\n",
    "    ax = fig.add_subplot(111)\n",
    "    ax.axis('off')\n",
    "    \n",
    "    table = ax.table(cellText=cell_text, colLabels=columns, loc='center')\n",
    "    table.set_fontsize(14)\n",
    "    table.scale(1.5, 1.5) "
   ]
  },
  {
   "cell_type": "code",
   "execution_count": 302,
   "metadata": {},
   "outputs": [],
   "source": [
    "def error_distribution(model_name, target, pred):\n",
    "    '''Plot a histogram of the absolute error distribution\n",
    "    \n",
    "    Args:\n",
    "        target (Series):  target data\n",
    "        pred   (ndarray): predition results\n",
    "    '''\n",
    "    aboerr = pred - target   # aboerr is a Series\n",
    "    min_err = aboerr.min()\n",
    "    max_err = aboerr.max()\n",
    "    ax = aboerr.plot.hist(bins=20, figsize=(7,7), alpha=0.8)\n",
    "    ax.set_xticks(np.arange(math.floor(min_err),math.ceil(max_err)))\n",
    "    ax.set_title('%s - Absolute Error Distribution' % model_name, fontsize=18)\n",
    "    ax.set_xlabel('Absolute Error', fontsize=14)\n",
    "    ax.set_ylabel('Counts', fontsize=14)\n",
    "    ax.grid()"
   ]
  },
  {
   "cell_type": "code",
   "execution_count": 303,
   "metadata": {
    "collapsed": true
   },
   "outputs": [],
   "source": [
    "def prediction_error_map(model_name, target, pred):\n",
    "    '''Plot the prediction error map (similar to confusion matrices in classification problems)\n",
    "    \n",
    "    Args:\n",
    "        target (Series):  target data\n",
    "        pred   (ndarray): predition results\n",
    "    '''\n",
    "    y_min = target.min()*0.98\n",
    "    y_max = target.max()*1.01\n",
    "    fig, ax = plt.subplots(figsize=(7,7))\n",
    "    plt.scatter(target, pred, edgecolors=(0, 0, 0), s=20)\n",
    "    ax.plot([y_min, y_max], [y_min, y_max], 'k--', lw=2)\n",
    "    ax.set_xticks(np.arange(math.floor(y_min),math.ceil(y_max)))\n",
    "    ax.set_yticks(np.arange(math.floor(y_min),math.ceil(y_max)))\n",
    "    ax.set_title('%s - Prediction Error Map' % model_name, fontsize=18)\n",
    "    ax.set_xlabel('Real Spotify (log) Play Count', fontsize=14)\n",
    "    ax.set_ylabel('Prediction', fontsize=14)\n",
    "    ax.axis([y_min,y_max,y_min,y_max])\n",
    "    ax.grid()"
   ]
  },
  {
   "cell_type": "code",
   "execution_count": 347,
   "metadata": {
    "collapsed": true
   },
   "outputs": [],
   "source": [
    "def evaluation(model, feature, target):\n",
    "    \"\"\" Run the model on X and y using cross validation. Then output:\n",
    "        1) performance statistics\n",
    "        2) error distributions\n",
    "        3) prediction error map\n",
    "        \n",
    "    Args:\n",
    "        model   (object):    the machine learning object to fit the data\n",
    "        feature (DataFrame): feature data\n",
    "        target  (Series):    target  data\n",
    "        \n",
    "    This is version 0.11.10 (Nov. 10th)\n",
    "    \n",
    "    Todo:\n",
    "        parameter \"model\" should be a list of models in the future\n",
    "    \"\"\"\n",
    "    \n",
    "    model_name = str(model)        # 'LinearRegression(copy_X=True, fit_intercept=True, n_jobs=1, normalize=False)'\n",
    "    end = model_name.find('(')\n",
    "    model_name = model_name[0:end] # 'LinearRegression'\n",
    "    \n",
    "    '''Do the prediction by cross validation'''\n",
    "    pred = cross_val_predict(model, X=feature, y=target, cv=10)  # default is 10-fold\n",
    "    \n",
    "    print('This is the plots/reports of %s'  % model_name)\n",
    "        \n",
    "    error_distribution(model_name, target, pred)\n",
    "    \n",
    "    prediction_error_map(model_name, target, pred)\n",
    "    \n",
    "    performance_statistics(model_name, target, pred)    "
   ]
  },
  {
   "cell_type": "code",
   "execution_count": 348,
   "metadata": {},
   "outputs": [
    {
     "name": "stdout",
     "output_type": "stream",
     "text": [
      "This is the plots/reports of LinearRegression\n"
     ]
    },
    {
     "data": {
      "image/png": "[encoded data removed]",
      "text/plain": [
       "<matplotlib.figure.Figure at 0x2012b8307b8>"
      ]
     },
     "metadata": {},
     "output_type": "display_data"
    },
    {
     "data": {
      "image/png": "[encoded data removed]",
      "text/plain": [
       "<matplotlib.figure.Figure at 0x2012b5ec048>"
      ]
     },
     "metadata": {},
     "output_type": "display_data"
    },
    {
     "data": {
      "image/png": "[encoded data removed]",
      "text/plain": [
       "<matplotlib.figure.Figure at 0x2012b3d7da0>"
      ]
     },
     "metadata": {},
     "output_type": "display_data"
    }
   ],
   "source": [
    "evaluation(lr, feature, target)"
   ]
  }
 ],
 "metadata": {
  "kernelspec": {
   "display_name": "Python 3",
   "language": "python",
   "name": "python3"
  },
  "language_info": {
   "codemirror_mode": {
    "name": "ipython",
    "version": 3
   },
   "file_extension": ".py",
   "mimetype": "text/x-python",
   "name": "python",
   "nbconvert_exporter": "python",
   "pygments_lexer": "ipython3",
   "version": "3.6.1"
  }
 },
 "nbformat": 4,
 "nbformat_minor": 2
}
