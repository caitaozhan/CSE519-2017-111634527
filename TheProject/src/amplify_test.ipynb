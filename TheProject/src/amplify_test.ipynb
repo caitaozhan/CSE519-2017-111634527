{
 "cells": [
  {
   "cell_type": "markdown",
   "metadata": {},
   "source": [
    "# Sorry I wasn't thoughtful enough to foresee the issue: play counts grows."
   ]
  },
  {
   "cell_type": "markdown",
   "metadata": {},
   "source": [
    "# The growth rate is usually 1~2% per 10 days, average is 1.3~1.4%. We could amplify the play counts(according to its play counts range) we collected in Nov. 3~5. Or we recollect all the play counts. "
   ]
  },
  {
   "cell_type": "markdown",
   "metadata": {},
   "source": [
    "# Note that after we do a logarithm, the difference is very very small."
   ]
  },
  {
   "cell_type": "markdown",
   "metadata": {},
   "source": [
    "## log(1000000) = 13.8155\n",
    "## log(1002000) = 13.8175\n",
    "## The error of baseline linear regression is 1.6"
   ]
  },
  {
   "cell_type": "code",
   "execution_count": 1,
   "metadata": {
    "collapsed": true
   },
   "outputs": [],
   "source": [
    "import pandas as pd"
   ]
  },
  {
   "cell_type": "code",
   "execution_count": 4,
   "metadata": {
    "collapsed": true
   },
   "outputs": [],
   "source": [
    "music_old = pd.read_csv('../music_data/billboard_top_100_1960_1969-backup.csv')"
   ]
  },
  {
   "cell_type": "markdown",
   "metadata": {},
   "source": [
    "# < 100,000: 141 Songs"
   ]
  },
  {
   "cell_type": "code",
   "execution_count": 8,
   "metadata": {
    "collapsed": true
   },
   "outputs": [],
   "source": [
    "one_hun_thou = music_old[music_old.SpotifyPlayCount < 100000]"
   ]
  },
  {
   "cell_type": "code",
   "execution_count": 12,
   "metadata": {},
   "outputs": [
    {
     "data": {
      "text/plain": [
       "(141, 5)"
      ]
     },
     "execution_count": 12,
     "metadata": {},
     "output_type": "execute_result"
    }
   ],
   "source": [
    "one_hun_thou.shape"
   ]
  },
  {
   "cell_type": "code",
   "execution_count": 86,
   "metadata": {
    "scrolled": true
   },
   "outputs": [
    {
     "data": {
      "text/html": [
       "<div>\n",
       "<style>\n",
       "    .dataframe thead tr:only-child th {\n",
       "        text-align: right;\n",
       "    }\n",
       "\n",
       "    .dataframe thead th {\n",
       "        text-align: left;\n",
       "    }\n",
       "\n",
       "    .dataframe tbody tr th {\n",
       "        vertical-align: top;\n",
       "    }\n",
       "</style>\n",
       "<table border=\"1\" class=\"dataframe\">\n",
       "  <thead>\n",
       "    <tr style=\"text-align: right;\">\n",
       "      <th></th>\n",
       "      <th>Rank</th>\n",
       "      <th>Artist</th>\n",
       "      <th>Title</th>\n",
       "      <th>Year</th>\n",
       "      <th>SpotifyPlayCount</th>\n",
       "    </tr>\n",
       "  </thead>\n",
       "  <tbody>\n",
       "    <tr>\n",
       "      <th>45</th>\n",
       "      <td>46</td>\n",
       "      <td>Marv Johnson</td>\n",
       "      <td>You've Got What It Takes</td>\n",
       "      <td>1960</td>\n",
       "      <td>53493</td>\n",
       "    </tr>\n",
       "    <tr>\n",
       "      <th>60</th>\n",
       "      <td>61</td>\n",
       "      <td>The Little Dippers</td>\n",
       "      <td>Forever</td>\n",
       "      <td>1960</td>\n",
       "      <td>40043</td>\n",
       "    </tr>\n",
       "    <tr>\n",
       "      <th>135</th>\n",
       "      <td>36</td>\n",
       "      <td>Linda Scott</td>\n",
       "      <td>Don't Bet Money Honey</td>\n",
       "      <td>1961</td>\n",
       "      <td>1728</td>\n",
       "    </tr>\n",
       "    <tr>\n",
       "      <th>165</th>\n",
       "      <td>66</td>\n",
       "      <td>The Echoes</td>\n",
       "      <td>Baby Blue</td>\n",
       "      <td>1961</td>\n",
       "      <td>29769</td>\n",
       "    </tr>\n",
       "    <tr>\n",
       "      <th>330</th>\n",
       "      <td>31</td>\n",
       "      <td>The Dovells</td>\n",
       "      <td>You Can't Sit Down</td>\n",
       "      <td>1963</td>\n",
       "      <td>70658</td>\n",
       "    </tr>\n",
       "    <tr>\n",
       "      <th>480</th>\n",
       "      <td>81</td>\n",
       "      <td>The Jelly Beans</td>\n",
       "      <td>I Wanna Love Him So Bad</td>\n",
       "      <td>1964</td>\n",
       "      <td>47284</td>\n",
       "    </tr>\n",
       "    <tr>\n",
       "      <th>570</th>\n",
       "      <td>71</td>\n",
       "      <td>Dickey Lee</td>\n",
       "      <td>Laurie (Strange Things Happen)</td>\n",
       "      <td>1965</td>\n",
       "      <td>18958</td>\n",
       "    </tr>\n",
       "    <tr>\n",
       "      <th>690</th>\n",
       "      <td>91</td>\n",
       "      <td>Herman's Hermits</td>\n",
       "      <td>Dandy</td>\n",
       "      <td>1966</td>\n",
       "      <td>74173</td>\n",
       "    </tr>\n",
       "    <tr>\n",
       "      <th>840</th>\n",
       "      <td>41</td>\n",
       "      <td>Gene and Debbe</td>\n",
       "      <td>Playboy</td>\n",
       "      <td>1968</td>\n",
       "      <td>10759</td>\n",
       "    </tr>\n",
       "  </tbody>\n",
       "</table>\n",
       "</div>"
      ],
      "text/plain": [
       "     Rank              Artist                           Title  Year  \\\n",
       "45     46        Marv Johnson        You've Got What It Takes  1960   \n",
       "60     61  The Little Dippers                         Forever  1960   \n",
       "135    36         Linda Scott           Don't Bet Money Honey  1961   \n",
       "165    66          The Echoes                       Baby Blue  1961   \n",
       "330    31         The Dovells              You Can't Sit Down  1963   \n",
       "480    81     The Jelly Beans         I Wanna Love Him So Bad  1964   \n",
       "570    71          Dickey Lee  Laurie (Strange Things Happen)  1965   \n",
       "690    91    Herman's Hermits                           Dandy  1966   \n",
       "840    41      Gene and Debbe                         Playboy  1968   \n",
       "\n",
       "     SpotifyPlayCount  \n",
       "45              53493  \n",
       "60              40043  \n",
       "135              1728  \n",
       "165             29769  \n",
       "330             70658  \n",
       "480             47284  \n",
       "570             18958  \n",
       "690             74173  \n",
       "840             10759  "
      ]
     },
     "execution_count": 86,
     "metadata": {},
     "output_type": "execute_result"
    }
   ],
   "source": [
    "one_hun_thou[one_hun_thou.index % 15 == 0]"
   ]
  },
  {
   "cell_type": "code",
   "execution_count": 114,
   "metadata": {},
   "outputs": [],
   "source": [
    "ser1 = one_hun_thou[one_hun_thou.index % 15 == 0].SpotifyPlayCount"
   ]
  },
  {
   "cell_type": "code",
   "execution_count": 131,
   "metadata": {},
   "outputs": [],
   "source": [
    "list1 = [53869, 40777, 1745, 30000, 71526, 61779, 19228, 75023, 10894]"
   ]
  },
  {
   "cell_type": "code",
   "execution_count": 147,
   "metadata": {},
   "outputs": [],
   "source": [
    "def amplifyRate(oldser, newlist):\n",
    "    summ = 0\n",
    "    counter = 0\n",
    "    newser = pd.Series(newlist)\n",
    "    for i, j in zip(oldser, newser):\n",
    "        rate = (j-i)/i\n",
    "        print(rate)\n",
    "        if rate < 0.1:  # when growth rate > 0.1, there might be some error with the original play counts\n",
    "            summ = summ + rate\n",
    "            counter = counter + 1\n",
    "    print(counter)\n",
    "    print('-----')\n",
    "    print(summ/counter) "
   ]
  },
  {
   "cell_type": "code",
   "execution_count": 148,
   "metadata": {},
   "outputs": [
    {
     "name": "stdout",
     "output_type": "stream",
     "text": [
      "0.0070289570598\n",
      "0.0183302949329\n",
      "0.00983796296296\n",
      "0.00775975007558\n",
      "0.0122845254607\n",
      "0.306551899163\n",
      "0.0142420086507\n",
      "0.0114596955766\n",
      "0.0125476345385\n",
      "8\n",
      "-----\n",
      "0.0116863536572\n"
     ]
    }
   ],
   "source": [
    "amplifyRate(ser1, list1)"
   ]
  },
  {
   "cell_type": "markdown",
   "metadata": {},
   "source": [
    "# 100,000 ~ 300,000: 155 Songs"
   ]
  },
  {
   "cell_type": "code",
   "execution_count": 32,
   "metadata": {},
   "outputs": [],
   "source": [
    "thre_hun_thou = music_old[ music_old.SpotifyPlayCount < 300000]\n",
    "thre_hun_thou = thre_hun_thou[thre_hun_thou.SpotifyPlayCount > 100000]"
   ]
  },
  {
   "cell_type": "code",
   "execution_count": 33,
   "metadata": {},
   "outputs": [
    {
     "data": {
      "text/plain": [
       "(155, 5)"
      ]
     },
     "execution_count": 33,
     "metadata": {},
     "output_type": "execute_result"
    }
   ],
   "source": [
    "thre_hun_thou.shape"
   ]
  },
  {
   "cell_type": "code",
   "execution_count": 85,
   "metadata": {},
   "outputs": [
    {
     "data": {
      "text/html": [
       "<div>\n",
       "<style>\n",
       "    .dataframe thead tr:only-child th {\n",
       "        text-align: right;\n",
       "    }\n",
       "\n",
       "    .dataframe thead th {\n",
       "        text-align: left;\n",
       "    }\n",
       "\n",
       "    .dataframe tbody tr th {\n",
       "        vertical-align: top;\n",
       "    }\n",
       "</style>\n",
       "<table border=\"1\" class=\"dataframe\">\n",
       "  <thead>\n",
       "    <tr style=\"text-align: right;\">\n",
       "      <th></th>\n",
       "      <th>Rank</th>\n",
       "      <th>Artist</th>\n",
       "      <th>Title</th>\n",
       "      <th>Year</th>\n",
       "      <th>SpotifyPlayCount</th>\n",
       "    </tr>\n",
       "  </thead>\n",
       "  <tbody>\n",
       "    <tr>\n",
       "      <th>100</th>\n",
       "      <td>1</td>\n",
       "      <td>Bobby Lewis</td>\n",
       "      <td>Tossin' And Turnin'</td>\n",
       "      <td>1961</td>\n",
       "      <td>185664</td>\n",
       "    </tr>\n",
       "    <tr>\n",
       "      <th>240</th>\n",
       "      <td>41</td>\n",
       "      <td>Clyde McPhatter</td>\n",
       "      <td>Lover Please</td>\n",
       "      <td>1962</td>\n",
       "      <td>169633</td>\n",
       "    </tr>\n",
       "    <tr>\n",
       "      <th>260</th>\n",
       "      <td>61</td>\n",
       "      <td>Ray Stevens</td>\n",
       "      <td>Ahab The Arab</td>\n",
       "      <td>1962</td>\n",
       "      <td>194946</td>\n",
       "    </tr>\n",
       "    <tr>\n",
       "      <th>300</th>\n",
       "      <td>1</td>\n",
       "      <td>Jimmy Gilmer and The Fireballs</td>\n",
       "      <td>Sugar Shack</td>\n",
       "      <td>1963</td>\n",
       "      <td>226227</td>\n",
       "    </tr>\n",
       "    <tr>\n",
       "      <th>320</th>\n",
       "      <td>21</td>\n",
       "      <td>Al Martino</td>\n",
       "      <td>I Love You Because</td>\n",
       "      <td>1963</td>\n",
       "      <td>107611</td>\n",
       "    </tr>\n",
       "    <tr>\n",
       "      <th>720</th>\n",
       "      <td>21</td>\n",
       "      <td>Jay and The Techniques</td>\n",
       "      <td>Apples, Peaches, Pumpkin Pie</td>\n",
       "      <td>1967</td>\n",
       "      <td>280359</td>\n",
       "    </tr>\n",
       "    <tr>\n",
       "      <th>760</th>\n",
       "      <td>61</td>\n",
       "      <td>Lesley Gore</td>\n",
       "      <td>California Nights</td>\n",
       "      <td>1967</td>\n",
       "      <td>187214</td>\n",
       "    </tr>\n",
       "    <tr>\n",
       "      <th>940</th>\n",
       "      <td>42</td>\n",
       "      <td>Mercy</td>\n",
       "      <td>Love (Can Make You Happy)</td>\n",
       "      <td>1969</td>\n",
       "      <td>192564</td>\n",
       "    </tr>\n",
       "  </tbody>\n",
       "</table>\n",
       "</div>"
      ],
      "text/plain": [
       "     Rank                          Artist                         Title  Year  \\\n",
       "100     1                     Bobby Lewis           Tossin' And Turnin'  1961   \n",
       "240    41                 Clyde McPhatter                  Lover Please  1962   \n",
       "260    61                     Ray Stevens                 Ahab The Arab  1962   \n",
       "300     1  Jimmy Gilmer and The Fireballs                   Sugar Shack  1963   \n",
       "320    21                      Al Martino            I Love You Because  1963   \n",
       "720    21          Jay and The Techniques  Apples, Peaches, Pumpkin Pie  1967   \n",
       "760    61                     Lesley Gore             California Nights  1967   \n",
       "940    42                           Mercy     Love (Can Make You Happy)  1969   \n",
       "\n",
       "     SpotifyPlayCount  \n",
       "100            185664  \n",
       "240            169633  \n",
       "260            194946  \n",
       "300            226227  \n",
       "320            107611  \n",
       "720            280359  \n",
       "760            187214  \n",
       "940            192564  "
      ]
     },
     "execution_count": 85,
     "metadata": {},
     "output_type": "execute_result"
    }
   ],
   "source": [
    "thre_hun_thou[thre_hun_thou.index % 20 == 0]"
   ]
  },
  {
   "cell_type": "code",
   "execution_count": 133,
   "metadata": {
    "collapsed": true
   },
   "outputs": [],
   "source": [
    "ser2 = thre_hun_thou[thre_hun_thou.index % 20 == 0].SpotifyPlayCount"
   ]
  },
  {
   "cell_type": "code",
   "execution_count": 177,
   "metadata": {},
   "outputs": [],
   "source": [
    "list2 = [189599, 172417, 197406, 230332, 108794, 284709, 189758, 194658]"
   ]
  },
  {
   "cell_type": "code",
   "execution_count": 178,
   "metadata": {},
   "outputs": [
    {
     "name": "stdout",
     "output_type": "stream",
     "text": [
      "0.0211942002758\n",
      "0.0164119009862\n",
      "0.0126188790742\n",
      "0.0181454910333\n",
      "0.0109932999415\n",
      "0.0155158207869\n",
      "0.0135887273388\n",
      "0.010874306724\n",
      "8\n",
      "-----\n",
      "0.0149178282701\n"
     ]
    }
   ],
   "source": [
    "amplifyRate(ser2, list2)"
   ]
  },
  {
   "cell_type": "markdown",
   "metadata": {},
   "source": [
    "# 300,000 ~ 600,000: 128 Songs"
   ]
  },
  {
   "cell_type": "code",
   "execution_count": 38,
   "metadata": {
    "collapsed": true
   },
   "outputs": [],
   "source": [
    "six_hun_thou = music_old[ music_old.SpotifyPlayCount < 600000]\n",
    "six_hun_thou = six_hun_thou[six_hun_thou.SpotifyPlayCount > 300000]"
   ]
  },
  {
   "cell_type": "code",
   "execution_count": 39,
   "metadata": {},
   "outputs": [
    {
     "data": {
      "text/plain": [
       "(128, 5)"
      ]
     },
     "execution_count": 39,
     "metadata": {},
     "output_type": "execute_result"
    }
   ],
   "source": [
    "six_hun_thou.shape"
   ]
  },
  {
   "cell_type": "code",
   "execution_count": 82,
   "metadata": {},
   "outputs": [
    {
     "data": {
      "text/html": [
       "<div>\n",
       "<style>\n",
       "    .dataframe thead tr:only-child th {\n",
       "        text-align: right;\n",
       "    }\n",
       "\n",
       "    .dataframe thead th {\n",
       "        text-align: left;\n",
       "    }\n",
       "\n",
       "    .dataframe tbody tr th {\n",
       "        vertical-align: top;\n",
       "    }\n",
       "</style>\n",
       "<table border=\"1\" class=\"dataframe\">\n",
       "  <thead>\n",
       "    <tr style=\"text-align: right;\">\n",
       "      <th></th>\n",
       "      <th>Rank</th>\n",
       "      <th>Artist</th>\n",
       "      <th>Title</th>\n",
       "      <th>Year</th>\n",
       "      <th>SpotifyPlayCount</th>\n",
       "    </tr>\n",
       "  </thead>\n",
       "  <tbody>\n",
       "    <tr>\n",
       "      <th>90</th>\n",
       "      <td>91</td>\n",
       "      <td>The Everly Brothers</td>\n",
       "      <td>When Will I Be Loved</td>\n",
       "      <td>1960</td>\n",
       "      <td>508098</td>\n",
       "    </tr>\n",
       "    <tr>\n",
       "      <th>105</th>\n",
       "      <td>6</td>\n",
       "      <td>The Jive Five</td>\n",
       "      <td>My True Story</td>\n",
       "      <td>1961</td>\n",
       "      <td>549734</td>\n",
       "    </tr>\n",
       "    <tr>\n",
       "      <th>120</th>\n",
       "      <td>21</td>\n",
       "      <td>Ernie K-Doe</td>\n",
       "      <td>Mother-In-Law</td>\n",
       "      <td>1961</td>\n",
       "      <td>442939</td>\n",
       "    </tr>\n",
       "    <tr>\n",
       "      <th>360</th>\n",
       "      <td>61</td>\n",
       "      <td>Ricky Nelson</td>\n",
       "      <td>Fools Rush In</td>\n",
       "      <td>1963</td>\n",
       "      <td>528037</td>\n",
       "    </tr>\n",
       "    <tr>\n",
       "      <th>555</th>\n",
       "      <td>56</td>\n",
       "      <td>The Beau Brummels</td>\n",
       "      <td>Just a Little</td>\n",
       "      <td>1965</td>\n",
       "      <td>362180</td>\n",
       "    </tr>\n",
       "    <tr>\n",
       "      <th>750</th>\n",
       "      <td>51</td>\n",
       "      <td>The Buckinghams</td>\n",
       "      <td>Mercy, Mercy, Mercy</td>\n",
       "      <td>1967</td>\n",
       "      <td>418148</td>\n",
       "    </tr>\n",
       "    <tr>\n",
       "      <th>945</th>\n",
       "      <td>47</td>\n",
       "      <td>Watts 103rd Street Rhythm Band</td>\n",
       "      <td>Do Your Thing</td>\n",
       "      <td>1969</td>\n",
       "      <td>400774</td>\n",
       "    </tr>\n",
       "  </tbody>\n",
       "</table>\n",
       "</div>"
      ],
      "text/plain": [
       "     Rank                          Artist                 Title  Year  \\\n",
       "90     91             The Everly Brothers  When Will I Be Loved  1960   \n",
       "105     6                   The Jive Five         My True Story  1961   \n",
       "120    21                     Ernie K-Doe         Mother-In-Law  1961   \n",
       "360    61                    Ricky Nelson         Fools Rush In  1963   \n",
       "555    56               The Beau Brummels         Just a Little  1965   \n",
       "750    51                 The Buckinghams   Mercy, Mercy, Mercy  1967   \n",
       "945    47  Watts 103rd Street Rhythm Band         Do Your Thing  1969   \n",
       "\n",
       "     SpotifyPlayCount  \n",
       "90             508098  \n",
       "105            549734  \n",
       "120            442939  \n",
       "360            528037  \n",
       "555            362180  \n",
       "750            418148  \n",
       "945            400774  "
      ]
     },
     "execution_count": 82,
     "metadata": {},
     "output_type": "execute_result"
    }
   ],
   "source": [
    "six_hun_thou[six_hun_thou.index % 15 == 0]"
   ]
  },
  {
   "cell_type": "code",
   "execution_count": 140,
   "metadata": {
    "collapsed": true
   },
   "outputs": [],
   "source": [
    "ser3 = six_hun_thou[six_hun_thou.index % 15 == 0].SpotifyPlayCount"
   ]
  },
  {
   "cell_type": "code",
   "execution_count": 141,
   "metadata": {
    "collapsed": true
   },
   "outputs": [],
   "source": [
    "list3 = [515159, 558821, 447126, 538800, 366659, 423967, 403467]"
   ]
  },
  {
   "cell_type": "code",
   "execution_count": 150,
   "metadata": {},
   "outputs": [
    {
     "name": "stdout",
     "output_type": "stream",
     "text": [
      "0.0138969253963\n",
      "0.0165298126003\n",
      "0.00945276889143\n",
      "0.0203830413399\n",
      "0.0123667789497\n",
      "0.013916125391\n",
      "0.00671949777181\n",
      "7\n",
      "-----\n",
      "0.0133235643343\n"
     ]
    }
   ],
   "source": [
    "amplifyRate(ser3, list3)"
   ]
  },
  {
   "cell_type": "markdown",
   "metadata": {},
   "source": [
    "# 600,000 ~ 1,200,000: 123 Songs"
   ]
  },
  {
   "cell_type": "code",
   "execution_count": 48,
   "metadata": {
    "collapsed": true
   },
   "outputs": [],
   "source": [
    "mil_hun_thou = music_old[ music_old.SpotifyPlayCount < 1200000]\n",
    "mil_hun_thou = mil_hun_thou[mil_hun_thou.SpotifyPlayCount > 600000]"
   ]
  },
  {
   "cell_type": "code",
   "execution_count": 50,
   "metadata": {},
   "outputs": [
    {
     "data": {
      "text/plain": [
       "(123, 5)"
      ]
     },
     "execution_count": 50,
     "metadata": {},
     "output_type": "execute_result"
    }
   ],
   "source": [
    "mil_hun_thou.shape"
   ]
  },
  {
   "cell_type": "code",
   "execution_count": 79,
   "metadata": {},
   "outputs": [
    {
     "data": {
      "text/html": [
       "<div>\n",
       "<style>\n",
       "    .dataframe thead tr:only-child th {\n",
       "        text-align: right;\n",
       "    }\n",
       "\n",
       "    .dataframe thead th {\n",
       "        text-align: left;\n",
       "    }\n",
       "\n",
       "    .dataframe tbody tr th {\n",
       "        vertical-align: top;\n",
       "    }\n",
       "</style>\n",
       "<table border=\"1\" class=\"dataframe\">\n",
       "  <thead>\n",
       "    <tr style=\"text-align: right;\">\n",
       "      <th></th>\n",
       "      <th>Rank</th>\n",
       "      <th>Artist</th>\n",
       "      <th>Title</th>\n",
       "      <th>Year</th>\n",
       "      <th>SpotifyPlayCount</th>\n",
       "    </tr>\n",
       "  </thead>\n",
       "  <tbody>\n",
       "    <tr>\n",
       "      <th>20</th>\n",
       "      <td>21</td>\n",
       "      <td>Dion and The Belmonts</td>\n",
       "      <td>Where Or When</td>\n",
       "      <td>1960</td>\n",
       "      <td>799005</td>\n",
       "    </tr>\n",
       "    <tr>\n",
       "      <th>30</th>\n",
       "      <td>31</td>\n",
       "      <td>Jimmy Jones</td>\n",
       "      <td>Good Timin'</td>\n",
       "      <td>1960</td>\n",
       "      <td>616177</td>\n",
       "    </tr>\n",
       "    <tr>\n",
       "      <th>200</th>\n",
       "      <td>1</td>\n",
       "      <td>Acker Bilk</td>\n",
       "      <td>Stranger On The Shore</td>\n",
       "      <td>1962</td>\n",
       "      <td>921367</td>\n",
       "    </tr>\n",
       "    <tr>\n",
       "      <th>410</th>\n",
       "      <td>11</td>\n",
       "      <td>Barbra Streisand</td>\n",
       "      <td>People</td>\n",
       "      <td>1964</td>\n",
       "      <td>1096736</td>\n",
       "    </tr>\n",
       "    <tr>\n",
       "      <th>430</th>\n",
       "      <td>31</td>\n",
       "      <td>The Honeycombs</td>\n",
       "      <td>Have I the Right?</td>\n",
       "      <td>1964</td>\n",
       "      <td>1006483</td>\n",
       "    </tr>\n",
       "    <tr>\n",
       "      <th>440</th>\n",
       "      <td>41</td>\n",
       "      <td>Johnny Rivers</td>\n",
       "      <td>Memphis</td>\n",
       "      <td>1964</td>\n",
       "      <td>743377</td>\n",
       "    </tr>\n",
       "    <tr>\n",
       "      <th>600</th>\n",
       "      <td>1</td>\n",
       "      <td>SSgt Barry Sadler</td>\n",
       "      <td>Ballad of the Green Berets</td>\n",
       "      <td>1966</td>\n",
       "      <td>956352</td>\n",
       "    </tr>\n",
       "    <tr>\n",
       "      <th>670</th>\n",
       "      <td>71</td>\n",
       "      <td>Ray Conniff Singers</td>\n",
       "      <td>Somewhere My Love</td>\n",
       "      <td>1966</td>\n",
       "      <td>750017</td>\n",
       "    </tr>\n",
       "    <tr>\n",
       "      <th>850</th>\n",
       "      <td>51</td>\n",
       "      <td>Richard Harris</td>\n",
       "      <td>MacArthur Park</td>\n",
       "      <td>1968</td>\n",
       "      <td>998512</td>\n",
       "    </tr>\n",
       "  </tbody>\n",
       "</table>\n",
       "</div>"
      ],
      "text/plain": [
       "     Rank                 Artist                       Title  Year  \\\n",
       "20     21  Dion and The Belmonts               Where Or When  1960   \n",
       "30     31            Jimmy Jones                 Good Timin'  1960   \n",
       "200     1             Acker Bilk       Stranger On The Shore  1962   \n",
       "410    11       Barbra Streisand                      People  1964   \n",
       "430    31         The Honeycombs           Have I the Right?  1964   \n",
       "440    41          Johnny Rivers                     Memphis  1964   \n",
       "600     1      SSgt Barry Sadler  Ballad of the Green Berets  1966   \n",
       "670    71    Ray Conniff Singers           Somewhere My Love  1966   \n",
       "850    51         Richard Harris              MacArthur Park  1968   \n",
       "\n",
       "     SpotifyPlayCount  \n",
       "20             799005  \n",
       "30             616177  \n",
       "200            921367  \n",
       "410           1096736  \n",
       "430           1006483  \n",
       "440            743377  \n",
       "600            956352  \n",
       "670            750017  \n",
       "850            998512  "
      ]
     },
     "execution_count": 79,
     "metadata": {},
     "output_type": "execute_result"
    }
   ],
   "source": [
    "mil_hun_thou[mil_hun_thou.index % 10 ==  0]"
   ]
  },
  {
   "cell_type": "code",
   "execution_count": 143,
   "metadata": {
    "collapsed": true
   },
   "outputs": [],
   "source": [
    "ser4 = mil_hun_thou[mil_hun_thou.index % 10 ==  0].SpotifyPlayCount"
   ]
  },
  {
   "cell_type": "code",
   "execution_count": 145,
   "metadata": {},
   "outputs": [],
   "source": [
    "list4 = [809862, 622088, 935748, 1104136, 1020562, 755285, 970450, 768487, 1008662]"
   ]
  },
  {
   "cell_type": "code",
   "execution_count": 152,
   "metadata": {},
   "outputs": [
    {
     "name": "stdout",
     "output_type": "stream",
     "text": [
      "0.0135881502619\n",
      "0.00959302278404\n",
      "0.0156083297969\n",
      "0.00674729378811\n",
      "0.0139883137619\n",
      "0.0160187899276\n",
      "0.0147414341163\n",
      "0.0246261084749\n",
      "0.0101651257071\n",
      "9\n",
      "-----\n",
      "0.0138973965132\n"
     ]
    }
   ],
   "source": [
    "amplifyRate(ser4, list4)"
   ]
  },
  {
   "cell_type": "markdown",
   "metadata": {},
   "source": [
    "# 1,200,000 ~ 3,000,000: 133 Songs"
   ]
  },
  {
   "cell_type": "code",
   "execution_count": 154,
   "metadata": {
    "collapsed": true
   },
   "outputs": [],
   "source": [
    "threemil = music_old[ music_old.SpotifyPlayCount < 3000000]\n",
    "threemil = threemil[threemil.SpotifyPlayCount > 1200000]"
   ]
  },
  {
   "cell_type": "code",
   "execution_count": 155,
   "metadata": {},
   "outputs": [
    {
     "data": {
      "text/plain": [
       "(133, 5)"
      ]
     },
     "execution_count": 155,
     "metadata": {},
     "output_type": "execute_result"
    }
   ],
   "source": [
    "threemil.shape"
   ]
  },
  {
   "cell_type": "code",
   "execution_count": 156,
   "metadata": {},
   "outputs": [
    {
     "data": {
      "text/html": [
       "<div>\n",
       "<style>\n",
       "    .dataframe thead tr:only-child th {\n",
       "        text-align: right;\n",
       "    }\n",
       "\n",
       "    .dataframe thead th {\n",
       "        text-align: left;\n",
       "    }\n",
       "\n",
       "    .dataframe tbody tr th {\n",
       "        vertical-align: top;\n",
       "    }\n",
       "</style>\n",
       "<table border=\"1\" class=\"dataframe\">\n",
       "  <thead>\n",
       "    <tr style=\"text-align: right;\">\n",
       "      <th></th>\n",
       "      <th>Rank</th>\n",
       "      <th>Artist</th>\n",
       "      <th>Title</th>\n",
       "      <th>Year</th>\n",
       "      <th>SpotifyPlayCount</th>\n",
       "    </tr>\n",
       "  </thead>\n",
       "  <tbody>\n",
       "    <tr>\n",
       "      <th>225</th>\n",
       "      <td>26</td>\n",
       "      <td>Brenda Lee</td>\n",
       "      <td>Break It To Me Gently</td>\n",
       "      <td>1962</td>\n",
       "      <td>1564747</td>\n",
       "    </tr>\n",
       "    <tr>\n",
       "      <th>270</th>\n",
       "      <td>71</td>\n",
       "      <td>Barbara Lynn</td>\n",
       "      <td>You'll Lose A Good Thing</td>\n",
       "      <td>1962</td>\n",
       "      <td>1657027</td>\n",
       "    </tr>\n",
       "    <tr>\n",
       "      <th>630</th>\n",
       "      <td>31</td>\n",
       "      <td>Sam the Sham and the Pharaohs</td>\n",
       "      <td>Li'l Red Riding Hood</td>\n",
       "      <td>1966</td>\n",
       "      <td>1369674</td>\n",
       "    </tr>\n",
       "    <tr>\n",
       "      <th>675</th>\n",
       "      <td>76</td>\n",
       "      <td>Lee Dorsey</td>\n",
       "      <td>Working In The Coal Mine</td>\n",
       "      <td>1966</td>\n",
       "      <td>1841556</td>\n",
       "    </tr>\n",
       "    <tr>\n",
       "      <th>810</th>\n",
       "      <td>11</td>\n",
       "      <td>Jeannie C. Riley</td>\n",
       "      <td>Harper Valley P.T.A.</td>\n",
       "      <td>1968</td>\n",
       "      <td>2780119</td>\n",
       "    </tr>\n",
       "    <tr>\n",
       "      <th>825</th>\n",
       "      <td>26</td>\n",
       "      <td>Classics IV</td>\n",
       "      <td>Spooky</td>\n",
       "      <td>1968</td>\n",
       "      <td>2095546</td>\n",
       "    </tr>\n",
       "    <tr>\n",
       "      <th>885</th>\n",
       "      <td>87</td>\n",
       "      <td>The Chambers Brothers</td>\n",
       "      <td>Time Has Come Today</td>\n",
       "      <td>1968</td>\n",
       "      <td>2079713</td>\n",
       "    </tr>\n",
       "    <tr>\n",
       "      <th>915</th>\n",
       "      <td>17</td>\n",
       "      <td>The Friends Of Distinction</td>\n",
       "      <td>Grazin' In The Grass</td>\n",
       "      <td>1969</td>\n",
       "      <td>1278342</td>\n",
       "    </tr>\n",
       "    <tr>\n",
       "      <th>960</th>\n",
       "      <td>62</td>\n",
       "      <td>Tyrone Davis</td>\n",
       "      <td>Can I Change My Mind</td>\n",
       "      <td>1969</td>\n",
       "      <td>1826388</td>\n",
       "    </tr>\n",
       "    <tr>\n",
       "      <th>975</th>\n",
       "      <td>77</td>\n",
       "      <td>Tony Joe White</td>\n",
       "      <td>Polk Salad Annie</td>\n",
       "      <td>1969</td>\n",
       "      <td>2683579</td>\n",
       "    </tr>\n",
       "    <tr>\n",
       "      <th>990</th>\n",
       "      <td>92</td>\n",
       "      <td>The Originals</td>\n",
       "      <td>Baby I'm For Real</td>\n",
       "      <td>1969</td>\n",
       "      <td>2063514</td>\n",
       "    </tr>\n",
       "  </tbody>\n",
       "</table>\n",
       "</div>"
      ],
      "text/plain": [
       "     Rank                         Artist                     Title  Year  \\\n",
       "225    26                     Brenda Lee     Break It To Me Gently  1962   \n",
       "270    71                   Barbara Lynn  You'll Lose A Good Thing  1962   \n",
       "630    31  Sam the Sham and the Pharaohs      Li'l Red Riding Hood  1966   \n",
       "675    76                     Lee Dorsey  Working In The Coal Mine  1966   \n",
       "810    11               Jeannie C. Riley      Harper Valley P.T.A.  1968   \n",
       "825    26                    Classics IV                    Spooky  1968   \n",
       "885    87          The Chambers Brothers       Time Has Come Today  1968   \n",
       "915    17     The Friends Of Distinction      Grazin' In The Grass  1969   \n",
       "960    62                   Tyrone Davis      Can I Change My Mind  1969   \n",
       "975    77                 Tony Joe White          Polk Salad Annie  1969   \n",
       "990    92                  The Originals         Baby I'm For Real  1969   \n",
       "\n",
       "     SpotifyPlayCount  \n",
       "225           1564747  \n",
       "270           1657027  \n",
       "630           1369674  \n",
       "675           1841556  \n",
       "810           2780119  \n",
       "825           2095546  \n",
       "885           2079713  \n",
       "915           1278342  \n",
       "960           1826388  \n",
       "975           2683579  \n",
       "990           2063514  "
      ]
     },
     "execution_count": 156,
     "metadata": {},
     "output_type": "execute_result"
    }
   ],
   "source": [
    "threemil[threemil.index % 15 == 0]"
   ]
  },
  {
   "cell_type": "code",
   "execution_count": 157,
   "metadata": {
    "collapsed": true
   },
   "outputs": [],
   "source": [
    "ser5 = threemil[threemil.index % 15 == 0].SpotifyPlayCount"
   ]
  },
  {
   "cell_type": "code",
   "execution_count": 158,
   "metadata": {
    "collapsed": true
   },
   "outputs": [],
   "source": [
    "list5 = [1583325, 1686182, 1383388, 1871687, 2811199, 2114838, 2104760, 1291851, 1837578, 2719480, 2091885]"
   ]
  },
  {
   "cell_type": "code",
   "execution_count": 160,
   "metadata": {},
   "outputs": [
    {
     "name": "stdout",
     "output_type": "stream",
     "text": [
      "0.0118728458978\n",
      "0.0175947645995\n",
      "0.0100126015388\n",
      "0.016361707165\n",
      "0.0111793775734\n",
      "0.0092061925627\n",
      "0.0120434886929\n",
      "0.0105675945874\n",
      "0.00612684708835\n",
      "0.0133780298624\n",
      "0.0137488769158\n",
      "11\n",
      "-----\n",
      "0.0120083933167\n"
     ]
    }
   ],
   "source": [
    "amplifyRate(ser5, list5)"
   ]
  },
  {
   "cell_type": "markdown",
   "metadata": {},
   "source": [
    "# 3,000,000 ~ 8,000,000: 127 Songs"
   ]
  },
  {
   "cell_type": "code",
   "execution_count": 161,
   "metadata": {
    "collapsed": true
   },
   "outputs": [],
   "source": [
    "eightmil = music_old[ music_old.SpotifyPlayCount < 8000000]\n",
    "eightmil = eightmil[eightmil.SpotifyPlayCount > 3000000]"
   ]
  },
  {
   "cell_type": "code",
   "execution_count": 162,
   "metadata": {},
   "outputs": [
    {
     "data": {
      "text/plain": [
       "(127, 5)"
      ]
     },
     "execution_count": 162,
     "metadata": {},
     "output_type": "execute_result"
    }
   ],
   "source": [
    "eightmil.shape"
   ]
  },
  {
   "cell_type": "code",
   "execution_count": 163,
   "metadata": {},
   "outputs": [
    {
     "data": {
      "text/html": [
       "<div>\n",
       "<style>\n",
       "    .dataframe thead tr:only-child th {\n",
       "        text-align: right;\n",
       "    }\n",
       "\n",
       "    .dataframe thead th {\n",
       "        text-align: left;\n",
       "    }\n",
       "\n",
       "    .dataframe tbody tr th {\n",
       "        vertical-align: top;\n",
       "    }\n",
       "</style>\n",
       "<table border=\"1\" class=\"dataframe\">\n",
       "  <thead>\n",
       "    <tr style=\"text-align: right;\">\n",
       "      <th></th>\n",
       "      <th>Rank</th>\n",
       "      <th>Artist</th>\n",
       "      <th>Title</th>\n",
       "      <th>Year</th>\n",
       "      <th>SpotifyPlayCount</th>\n",
       "    </tr>\n",
       "  </thead>\n",
       "  <tbody>\n",
       "    <tr>\n",
       "      <th>0</th>\n",
       "      <td>1</td>\n",
       "      <td>Percy Faith</td>\n",
       "      <td>Theme From \"A Summer Place\"</td>\n",
       "      <td>1960</td>\n",
       "      <td>5001152</td>\n",
       "    </tr>\n",
       "    <tr>\n",
       "      <th>150</th>\n",
       "      <td>51</td>\n",
       "      <td>Elvis Presley</td>\n",
       "      <td>Surrender</td>\n",
       "      <td>1961</td>\n",
       "      <td>4599587</td>\n",
       "    </tr>\n",
       "    <tr>\n",
       "      <th>315</th>\n",
       "      <td>16</td>\n",
       "      <td>Peter, Paul and Mary</td>\n",
       "      <td>Puff, The Magic Dragon</td>\n",
       "      <td>1963</td>\n",
       "      <td>7184102</td>\n",
       "    </tr>\n",
       "    <tr>\n",
       "      <th>420</th>\n",
       "      <td>21</td>\n",
       "      <td>The Dixie Cups</td>\n",
       "      <td>Chapel of Love</td>\n",
       "      <td>1964</td>\n",
       "      <td>6887338</td>\n",
       "    </tr>\n",
       "    <tr>\n",
       "      <th>435</th>\n",
       "      <td>36</td>\n",
       "      <td>Lesley Gore</td>\n",
       "      <td>You Don't Own Me</td>\n",
       "      <td>1964</td>\n",
       "      <td>5423583</td>\n",
       "    </tr>\n",
       "    <tr>\n",
       "      <th>510</th>\n",
       "      <td>11</td>\n",
       "      <td>The Beach Boys</td>\n",
       "      <td>Help Me, Rhonda</td>\n",
       "      <td>1965</td>\n",
       "      <td>5635326</td>\n",
       "    </tr>\n",
       "    <tr>\n",
       "      <th>645</th>\n",
       "      <td>46</td>\n",
       "      <td>James and Bobby Purify</td>\n",
       "      <td>I'm Your Puppet</td>\n",
       "      <td>1966</td>\n",
       "      <td>3820190</td>\n",
       "    </tr>\n",
       "    <tr>\n",
       "      <th>735</th>\n",
       "      <td>36</td>\n",
       "      <td>Martha and The Vandellas</td>\n",
       "      <td>Jimmy Mack</td>\n",
       "      <td>1967</td>\n",
       "      <td>5617771</td>\n",
       "    </tr>\n",
       "    <tr>\n",
       "      <th>765</th>\n",
       "      <td>66</td>\n",
       "      <td>The Easybeats</td>\n",
       "      <td>Friday On My Mind</td>\n",
       "      <td>1967</td>\n",
       "      <td>6038048</td>\n",
       "    </tr>\n",
       "    <tr>\n",
       "      <th>855</th>\n",
       "      <td>57</td>\n",
       "      <td>Marvin Gaye and Tammi Terrell</td>\n",
       "      <td>Ain't Nothing Like The Real Thing</td>\n",
       "      <td>1968</td>\n",
       "      <td>7685617</td>\n",
       "    </tr>\n",
       "  </tbody>\n",
       "</table>\n",
       "</div>"
      ],
      "text/plain": [
       "     Rank                         Artist                              Title  \\\n",
       "0       1                    Percy Faith        Theme From \"A Summer Place\"   \n",
       "150    51                  Elvis Presley                          Surrender   \n",
       "315    16           Peter, Paul and Mary             Puff, The Magic Dragon   \n",
       "420    21                 The Dixie Cups                     Chapel of Love   \n",
       "435    36                    Lesley Gore                   You Don't Own Me   \n",
       "510    11                 The Beach Boys                    Help Me, Rhonda   \n",
       "645    46         James and Bobby Purify                    I'm Your Puppet   \n",
       "735    36       Martha and The Vandellas                         Jimmy Mack   \n",
       "765    66                  The Easybeats                  Friday On My Mind   \n",
       "855    57  Marvin Gaye and Tammi Terrell  Ain't Nothing Like The Real Thing   \n",
       "\n",
       "     Year  SpotifyPlayCount  \n",
       "0    1960           5001152  \n",
       "150  1961           4599587  \n",
       "315  1963           7184102  \n",
       "420  1964           6887338  \n",
       "435  1964           5423583  \n",
       "510  1965           5635326  \n",
       "645  1966           3820190  \n",
       "735  1967           5617771  \n",
       "765  1967           6038048  \n",
       "855  1968           7685617  "
      ]
     },
     "execution_count": 163,
     "metadata": {},
     "output_type": "execute_result"
    }
   ],
   "source": [
    "eightmil[eightmil.index % 15 == 0]"
   ]
  },
  {
   "cell_type": "code",
   "execution_count": 164,
   "metadata": {
    "collapsed": true
   },
   "outputs": [],
   "source": [
    "ser6 = eightmil[eightmil.index % 15 == 0].SpotifyPlayCount"
   ]
  },
  {
   "cell_type": "code",
   "execution_count": 165,
   "metadata": {
    "collapsed": true
   },
   "outputs": [],
   "source": [
    "list6 = [5054459, 4658472, 7281258, 7011798, 5543727, 5690119, 3882912, 5699332, 6128686, 7731069]"
   ]
  },
  {
   "cell_type": "code",
   "execution_count": 166,
   "metadata": {},
   "outputs": [
    {
     "name": "stdout",
     "output_type": "stream",
     "text": [
      "0.0106589441793\n",
      "0.0128022363747\n",
      "0.0135237500804\n",
      "0.0180708424648\n",
      "0.0221521455466\n",
      "0.00972312870631\n",
      "0.016418555098\n",
      "0.0145183917251\n",
      "0.0150111426739\n",
      "0.00591390385443\n",
      "10\n",
      "-----\n",
      "0.0138793040704\n"
     ]
    }
   ],
   "source": [
    "amplifyRate(ser6, list6)"
   ]
  },
  {
   "cell_type": "markdown",
   "metadata": {},
   "source": [
    "# 8,000,000 ~ 40,000,000: 138 Songs"
   ]
  },
  {
   "cell_type": "code",
   "execution_count": 104,
   "metadata": {
    "collapsed": true
   },
   "outputs": [],
   "source": [
    "fourty_mil = music_old[ music_old.SpotifyPlayCount < 40000000]\n",
    "fourty_mil = fourty_mil[fourty_mil.SpotifyPlayCount > 8000000]"
   ]
  },
  {
   "cell_type": "code",
   "execution_count": 105,
   "metadata": {},
   "outputs": [
    {
     "data": {
      "text/plain": [
       "(138, 5)"
      ]
     },
     "execution_count": 105,
     "metadata": {},
     "output_type": "execute_result"
    }
   ],
   "source": [
    "fourty_mil.shape"
   ]
  },
  {
   "cell_type": "code",
   "execution_count": 106,
   "metadata": {},
   "outputs": [
    {
     "data": {
      "text/html": [
       "<div>\n",
       "<style>\n",
       "    .dataframe thead tr:only-child th {\n",
       "        text-align: right;\n",
       "    }\n",
       "\n",
       "    .dataframe thead th {\n",
       "        text-align: left;\n",
       "    }\n",
       "\n",
       "    .dataframe tbody tr th {\n",
       "        vertical-align: top;\n",
       "    }\n",
       "</style>\n",
       "<table border=\"1\" class=\"dataframe\">\n",
       "  <thead>\n",
       "    <tr style=\"text-align: right;\">\n",
       "      <th></th>\n",
       "      <th>Rank</th>\n",
       "      <th>Artist</th>\n",
       "      <th>Title</th>\n",
       "      <th>Year</th>\n",
       "      <th>SpotifyPlayCount</th>\n",
       "    </tr>\n",
       "  </thead>\n",
       "  <tbody>\n",
       "    <tr>\n",
       "      <th>180</th>\n",
       "      <td>81</td>\n",
       "      <td>The Shirelles</td>\n",
       "      <td>Mama Said</td>\n",
       "      <td>1961</td>\n",
       "      <td>18984141</td>\n",
       "    </tr>\n",
       "    <tr>\n",
       "      <th>195</th>\n",
       "      <td>96</td>\n",
       "      <td>Elvis Presley</td>\n",
       "      <td>Are You Lonesome Tonight?</td>\n",
       "      <td>1961</td>\n",
       "      <td>11573507</td>\n",
       "    </tr>\n",
       "    <tr>\n",
       "      <th>210</th>\n",
       "      <td>11</td>\n",
       "      <td>Bruce Channel</td>\n",
       "      <td>Hey! Baby</td>\n",
       "      <td>1962</td>\n",
       "      <td>9727465</td>\n",
       "    </tr>\n",
       "    <tr>\n",
       "      <th>405</th>\n",
       "      <td>6</td>\n",
       "      <td>Dean Martin</td>\n",
       "      <td>Everybody Loves Somebody</td>\n",
       "      <td>1964</td>\n",
       "      <td>9620202</td>\n",
       "    </tr>\n",
       "    <tr>\n",
       "      <th>450</th>\n",
       "      <td>51</td>\n",
       "      <td>Stan Getz and Astrud Gilberto</td>\n",
       "      <td>The Girl from Ipanema</td>\n",
       "      <td>1964</td>\n",
       "      <td>31119332</td>\n",
       "    </tr>\n",
       "    <tr>\n",
       "      <th>585</th>\n",
       "      <td>86</td>\n",
       "      <td>The Animals</td>\n",
       "      <td>We Gotta Get out of This Place</td>\n",
       "      <td>1965</td>\n",
       "      <td>9687979</td>\n",
       "    </tr>\n",
       "    <tr>\n",
       "      <th>615</th>\n",
       "      <td>16</td>\n",
       "      <td>The Beatles</td>\n",
       "      <td>We Can Work It Out</td>\n",
       "      <td>1966</td>\n",
       "      <td>20400983</td>\n",
       "    </tr>\n",
       "    <tr>\n",
       "      <th>660</th>\n",
       "      <td>61</td>\n",
       "      <td>The Beach Boys</td>\n",
       "      <td>Sloop John B</td>\n",
       "      <td>1966</td>\n",
       "      <td>17048533</td>\n",
       "    </tr>\n",
       "    <tr>\n",
       "      <th>795</th>\n",
       "      <td>96</td>\n",
       "      <td>The Who</td>\n",
       "      <td>I Can See For Miles</td>\n",
       "      <td>1967</td>\n",
       "      <td>8118783</td>\n",
       "    </tr>\n",
       "    <tr>\n",
       "      <th>900</th>\n",
       "      <td>2</td>\n",
       "      <td>The 5th Dimension</td>\n",
       "      <td>Aquarius / Let The Sunshine In</td>\n",
       "      <td>1969</td>\n",
       "      <td>11308691</td>\n",
       "    </tr>\n",
       "    <tr>\n",
       "      <th>930</th>\n",
       "      <td>32</td>\n",
       "      <td>Stevie Wonder</td>\n",
       "      <td>My Cherie Amour</td>\n",
       "      <td>1969</td>\n",
       "      <td>15409195</td>\n",
       "    </tr>\n",
       "  </tbody>\n",
       "</table>\n",
       "</div>"
      ],
      "text/plain": [
       "     Rank                         Artist                           Title  \\\n",
       "180    81                  The Shirelles                       Mama Said   \n",
       "195    96                  Elvis Presley       Are You Lonesome Tonight?   \n",
       "210    11                  Bruce Channel                       Hey! Baby   \n",
       "405     6                    Dean Martin        Everybody Loves Somebody   \n",
       "450    51  Stan Getz and Astrud Gilberto           The Girl from Ipanema   \n",
       "585    86                    The Animals  We Gotta Get out of This Place   \n",
       "615    16                    The Beatles              We Can Work It Out   \n",
       "660    61                 The Beach Boys                    Sloop John B   \n",
       "795    96                        The Who             I Can See For Miles   \n",
       "900     2              The 5th Dimension  Aquarius / Let The Sunshine In   \n",
       "930    32                  Stevie Wonder                 My Cherie Amour   \n",
       "\n",
       "     Year  SpotifyPlayCount  \n",
       "180  1961          18984141  \n",
       "195  1961          11573507  \n",
       "210  1962           9727465  \n",
       "405  1964           9620202  \n",
       "450  1964          31119332  \n",
       "585  1965           9687979  \n",
       "615  1966          20400983  \n",
       "660  1966          17048533  \n",
       "795  1967           8118783  \n",
       "900  1969          11308691  \n",
       "930  1969          15409195  "
      ]
     },
     "execution_count": 106,
     "metadata": {},
     "output_type": "execute_result"
    }
   ],
   "source": [
    "fourty_mil[fourty_mil.index % 15 == 0]"
   ]
  },
  {
   "cell_type": "code",
   "execution_count": 167,
   "metadata": {
    "collapsed": true
   },
   "outputs": [],
   "source": [
    "ser7 = fourty_mil[fourty_mil.index % 15 == 0].SpotifyPlayCount"
   ]
  },
  {
   "cell_type": "code",
   "execution_count": 168,
   "metadata": {
    "collapsed": true
   },
   "outputs": [],
   "source": [
    "list7 = [19181190, 11733261, 9840666, 9812922, 31473574, 9824513, 20727434, 17232194, 8189879, 11418049, 15583182]"
   ]
  },
  {
   "cell_type": "code",
   "execution_count": 169,
   "metadata": {},
   "outputs": [
    {
     "name": "stdout",
     "output_type": "stream",
     "text": [
      "0.0103796637414\n",
      "0.0138034219014\n",
      "0.0116372559552\n",
      "0.0200328433852\n",
      "0.0113833420332\n",
      "0.0140931354207\n",
      "0.0160017289363\n",
      "0.0107728330643\n",
      "0.00875697749281\n",
      "0.00967026157139\n",
      "0.0112911154671\n",
      "11\n",
      "-----\n",
      "0.0125293253608\n"
     ]
    }
   ],
   "source": [
    "amplifyRate(ser7, list7)"
   ]
  },
  {
   "cell_type": "markdown",
   "metadata": {},
   "source": [
    "# > 40,000,000: 55 Songs"
   ]
  },
  {
   "cell_type": "code",
   "execution_count": 107,
   "metadata": {
    "collapsed": true
   },
   "outputs": [],
   "source": [
    "over_fourty_mil = music_old[ music_old.SpotifyPlayCount > 40000000]"
   ]
  },
  {
   "cell_type": "code",
   "execution_count": 108,
   "metadata": {},
   "outputs": [
    {
     "data": {
      "text/plain": [
       "(55, 5)"
      ]
     },
     "execution_count": 108,
     "metadata": {},
     "output_type": "execute_result"
    }
   ],
   "source": [
    "over_fourty_mil.shape"
   ]
  },
  {
   "cell_type": "code",
   "execution_count": 173,
   "metadata": {},
   "outputs": [
    {
     "data": {
      "text/html": [
       "<div>\n",
       "<style>\n",
       "    .dataframe thead tr:only-child th {\n",
       "        text-align: right;\n",
       "    }\n",
       "\n",
       "    .dataframe thead th {\n",
       "        text-align: left;\n",
       "    }\n",
       "\n",
       "    .dataframe tbody tr th {\n",
       "        vertical-align: top;\n",
       "    }\n",
       "</style>\n",
       "<table border=\"1\" class=\"dataframe\">\n",
       "  <thead>\n",
       "    <tr style=\"text-align: right;\">\n",
       "      <th></th>\n",
       "      <th>Rank</th>\n",
       "      <th>Artist</th>\n",
       "      <th>Title</th>\n",
       "      <th>Year</th>\n",
       "      <th>SpotifyPlayCount</th>\n",
       "    </tr>\n",
       "  </thead>\n",
       "  <tbody>\n",
       "    <tr>\n",
       "      <th>400</th>\n",
       "      <td>1</td>\n",
       "      <td>The Beatles</td>\n",
       "      <td>I Want to Hold Your Hand</td>\n",
       "      <td>1964</td>\n",
       "      <td>48975471</td>\n",
       "    </tr>\n",
       "    <tr>\n",
       "      <th>520</th>\n",
       "      <td>21</td>\n",
       "      <td>The Righteous Brothers</td>\n",
       "      <td>Unchained Melody</td>\n",
       "      <td>1965</td>\n",
       "      <td>64041107</td>\n",
       "    </tr>\n",
       "    <tr>\n",
       "      <th>540</th>\n",
       "      <td>41</td>\n",
       "      <td>Bob Dylan</td>\n",
       "      <td>Like a Rolling Stone</td>\n",
       "      <td>1965</td>\n",
       "      <td>86632146</td>\n",
       "    </tr>\n",
       "    <tr>\n",
       "      <th>620</th>\n",
       "      <td>21</td>\n",
       "      <td>The Rolling Stones</td>\n",
       "      <td>Paint It, Black</td>\n",
       "      <td>1966</td>\n",
       "      <td>170214002</td>\n",
       "    </tr>\n",
       "    <tr>\n",
       "      <th>780</th>\n",
       "      <td>81</td>\n",
       "      <td>Jefferson Airplane</td>\n",
       "      <td>White Rabbit</td>\n",
       "      <td>1967</td>\n",
       "      <td>49865242</td>\n",
       "    </tr>\n",
       "    <tr>\n",
       "      <th>800</th>\n",
       "      <td>1</td>\n",
       "      <td>The Beatles</td>\n",
       "      <td>Hey Jude</td>\n",
       "      <td>1968</td>\n",
       "      <td>71297498</td>\n",
       "    </tr>\n",
       "    <tr>\n",
       "      <th>860</th>\n",
       "      <td>62</td>\n",
       "      <td>Steppenwolf</td>\n",
       "      <td>Magic Carpet Ride</td>\n",
       "      <td>1968</td>\n",
       "      <td>42602063</td>\n",
       "    </tr>\n",
       "    <tr>\n",
       "      <th>920</th>\n",
       "      <td>22</td>\n",
       "      <td>Neil Diamond</td>\n",
       "      <td>Sweet Caroline</td>\n",
       "      <td>1969</td>\n",
       "      <td>72737534</td>\n",
       "    </tr>\n",
       "  </tbody>\n",
       "</table>\n",
       "</div>"
      ],
      "text/plain": [
       "     Rank                  Artist                     Title  Year  \\\n",
       "400     1             The Beatles  I Want to Hold Your Hand  1964   \n",
       "520    21  The Righteous Brothers          Unchained Melody  1965   \n",
       "540    41               Bob Dylan      Like a Rolling Stone  1965   \n",
       "620    21      The Rolling Stones           Paint It, Black  1966   \n",
       "780    81      Jefferson Airplane              White Rabbit  1967   \n",
       "800     1             The Beatles                  Hey Jude  1968   \n",
       "860    62             Steppenwolf         Magic Carpet Ride  1968   \n",
       "920    22            Neil Diamond            Sweet Caroline  1969   \n",
       "\n",
       "     SpotifyPlayCount  \n",
       "400          48975471  \n",
       "520          64041107  \n",
       "540          86632146  \n",
       "620         170214002  \n",
       "780          49865242  \n",
       "800          71297498  \n",
       "860          42602063  \n",
       "920          72737534  "
      ]
     },
     "execution_count": 173,
     "metadata": {},
     "output_type": "execute_result"
    }
   ],
   "source": [
    "over_fourty_mil[over_fourty_mil.index % 20 == 0]"
   ]
  },
  {
   "cell_type": "code",
   "execution_count": 174,
   "metadata": {
    "collapsed": true
   },
   "outputs": [],
   "source": [
    "ser8 = over_fourty_mil[over_fourty_mil.index % 20 == 0].SpotifyPlayCount"
   ]
  },
  {
   "cell_type": "code",
   "execution_count": 175,
   "metadata": {
    "collapsed": true
   },
   "outputs": [],
   "source": [
    "list8 = [49713188, 65082231, 87559811, 172610710, 50724017, 72486548, 43185718, 73996529]"
   ]
  },
  {
   "cell_type": "code",
   "execution_count": 176,
   "metadata": {},
   "outputs": [
    {
     "name": "stdout",
     "output_type": "stream",
     "text": [
      "0.0150629893891\n",
      "0.0162571206022\n",
      "0.0107080921209\n",
      "0.0140805572505\n",
      "0.0172219158186\n",
      "0.0166773033186\n",
      "0.0137001581355\n",
      "0.0173087391167\n",
      "8\n",
      "-----\n",
      "0.015127109469\n"
     ]
    }
   ],
   "source": [
    "amplifyRate(ser8, list8)"
   ]
  }
 ],
 "metadata": {
  "kernelspec": {
   "display_name": "Python 3",
   "language": "python",
   "name": "python3"
  },
  "language_info": {
   "codemirror_mode": {
    "name": "ipython",
    "version": 3
   },
   "file_extension": ".py",
   "mimetype": "text/x-python",
   "name": "python",
   "nbconvert_exporter": "python",
   "pygments_lexer": "ipython3",
   "version": "3.6.1"
  }
 },
 "nbformat": 4,
 "nbformat_minor": 2
}
