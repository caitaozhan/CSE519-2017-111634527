{
 "cells": [
  {
   "cell_type": "markdown",
   "metadata": {},
   "source": [
    "|**Name**| **ID #** | **Email** | **When Midterm**| \n",
    "| :--     |  :--      |  :--    | :--             |           \n",
    "|Xuan Xu |            |         |                 |             \n",
    "|Hae-Na Lee|          |         |                 |            \n",
    "|Caitao Zhan| 111634527| caitao.zhan@stonybrook.edu | 10/16 (CSE548) |\n",
    "\n"
   ]
  },
  {
   "cell_type": "code",
   "execution_count": 6,
   "metadata": {},
   "outputs": [
    {
     "name": "stdout",
     "output_type": "stream",
     "text": [
      "Hello Homework3!\n",
      "Always remember to git pull before you git push.\n",
      "When a conflict occurs, don't be nervous. Just manually fix the conflicts.\n",
      "Also, you can .gitignore whatever you don't want others see.\n"
     ]
    }
   ],
   "source": [
    "print(\"Hello Homework3!\")\n",
    "print(\"Always remember to git pull before you git push.\")\n",
    "print(\"When a conflict occurs, don't be nervous. Just manually fix the conflicts.\")\n",
    "print(\"Also, you can .gitignore whatever you don't want others see.\")"
   ]
  },
  {
   "cell_type": "code",
   "execution_count": 8,
   "metadata": {},
   "outputs": [
    {
     "name": "stdout",
     "output_type": "stream",
     "text": [
      "Hope we can finish task 1,2,3 by Sunday night (10/8).\n"
     ]
    }
   ],
   "source": [
    "print(\"Hope we can finish task 1,2,3 by Sunday night (10/8).\")"
   ]
  },
  {
   "cell_type": "markdown",
   "metadata": {},
   "source": [
    "# Task 1"
   ]
  },
  {
   "cell_type": "markdown",
   "metadata": {},
   "source": [
    "# Task 2"
   ]
  },
  {
   "cell_type": "markdown",
   "metadata": {},
   "source": [
    "# Task 3"
   ]
  }
 ],
 "metadata": {
  "kernelspec": {
   "display_name": "Python 3",
   "language": "python",
   "name": "python3"
  },
  "language_info": {
   "codemirror_mode": {
    "name": "ipython",
    "version": 3
   },
   "file_extension": ".py",
   "mimetype": "text/x-python",
   "name": "python",
   "nbconvert_exporter": "python",
   "pygments_lexer": "ipython3",
   "version": "3.6.1"
  }
 },
 "nbformat": 4,
 "nbformat_minor": 2
}
