{
 "cells": [
  {
   "cell_type": "code",
   "execution_count": null,
   "metadata": {
    "collapsed": true
   },
   "outputs": [],
   "source": [
    "import pandas as pd\n",
    "import numpy as np\n",
    "from sklearn import linear_model\n",
    "import datetime\n",
    "import time"
   ]
  },
  {
   "cell_type": "code",
   "execution_count": null,
   "metadata": {},
   "outputs": [],
   "source": [
    "house_df = pd.read_csv('../data/properties_2016_backup.csv')"
   ]
  },
  {
   "cell_type": "code",
   "execution_count": null,
   "metadata": {
    "collapsed": true
   },
   "outputs": [],
   "source": [
    "# delete features with too many missing values\n",
    "nan = house_df.isnull().sum()\n",
    "nan = nan[nan < 2900000]\n",
    "nan_feature = nan.index.tolist()\n",
    "house_nan_df = house_df.loc[:,nan_feature]"
   ]
  },
  {
   "cell_type": "code",
   "execution_count": null,
   "metadata": {
    "collapsed": true
   },
   "outputs": [],
   "source": [
    "# delete categorical features\n",
    "cate_feature = ['airconditioningtypeid','fips','heatingorsystemtypeid','pooltypeid7','propertycountylandusecode','propertylandusetypeid',\n",
    "                'propertyzoningdesc','rawcensustractandblock','regionidcity','regionidcounty','regionidneighborhood','regionidzip',\n",
    "                'censustractandblock']\n",
    "\n",
    "for i in cate_feature:\n",
    "    nan_feature.remove(i)\n",
    "\n",
    "nan_cate_feature = nan_feature\n",
    "\n",
    "house_nan_cate_df = house_nan_df.loc[:,nan_cate_feature]"
   ]
  },
  {
   "cell_type": "code",
   "execution_count": null,
   "metadata": {
    "collapsed": true
   },
   "outputs": [],
   "source": [
    "# delete highly correlated features\n",
    "\n",
    "highcorr_feature = ['finishedsquarefeet12','finishedsquarefeet15', 'finishedsquarefeet50','taxvaluedollarcnt']\n",
    "\n",
    "for i in highcorr_feature:\n",
    "    nan_cate_feature.remove(i)\n",
    "\n",
    "nan_cate_co_feature = nan_cate_feature\n",
    "\n",
    "house_nan_co_cate_df = house_nan_cate_df.loc[:,nan_cate_co_feature]\n",
    "\n",
    "# rename the dataframe, after deleting many features\n",
    "house_new_df = house_nan_co_cate_df"
   ]
  },
  {
   "cell_type": "code",
   "execution_count": null,
   "metadata": {},
   "outputs": [],
   "source": [
    "'''\n",
    "counter = 0\n",
    "for i in nan_cate_co_feature:\n",
    "    counter = counter + 1\n",
    "print(counter)\n",
    "'''"
   ]
  },
  {
   "cell_type": "code",
   "execution_count": null,
   "metadata": {},
   "outputs": [],
   "source": [
    "# house_new_df\n",
    "# house_new_df.isnull().sum()\n",
    "# house_new_df.shape`"
   ]
  },
  {
   "cell_type": "code",
   "execution_count": null,
   "metadata": {},
   "outputs": [],
   "source": [
    "# fill the missing values with it's column's mean\n",
    "\n",
    "house_new_df.fillna(house_new_df.mean(), inplace=True)"
   ]
  },
  {
   "cell_type": "code",
   "execution_count": null,
   "metadata": {
    "scrolled": true
   },
   "outputs": [],
   "source": [
    "house_new_df.isnull().sum()"
   ]
  },
  {
   "cell_type": "code",
   "execution_count": null,
   "metadata": {
    "collapsed": true
   },
   "outputs": [],
   "source": [
    "house_new_df_backup = house_new_df\n",
    "\n",
    "cols_to_norm = ['bathroomcnt', 'bedroomcnt', 'buildingqualitytypeid', 'calculatedbathnbr', 'finishedfloor1squarefeet',\n",
    "                'calculatedfinishedsquarefeet', 'fireplacecnt', 'fullbathcnt', 'garagecarcnt', 'garagetotalsqft', 'latitude', 'longitude',\n",
    "                'lotsizesquarefeet', 'poolcnt', 'roomcnt', 'threequarterbathnbr', 'unitcnt', 'yearbuilt', 'numberofstories', \n",
    "                'structuretaxvaluedollarcnt', 'assessmentyear', 'landtaxvaluedollarcnt', 'taxamount']\n",
    "\n",
    "house_new_df = house_new_df_backup\n",
    "house_new_df[cols_to_norm] = house_new_df[cols_to_norm].apply(lambda x: (x - x.min()) / (x.max() - x.min()))\n",
    "\n",
    "\n",
    "#house_new_df[cols_to_norm] = house_new_df[cols_to_norm].apply(lambda x: (x - x.mean()) / (x.std())"
   ]
  },
  {
   "cell_type": "code",
   "execution_count": null,
   "metadata": {},
   "outputs": [],
   "source": [
    "house_new_df"
   ]
  },
  {
   "cell_type": "code",
   "execution_count": null,
   "metadata": {
    "collapsed": true
   },
   "outputs": [],
   "source": [
    "train_df = pd.read_csv('../data/train_2016_v2.csv')"
   ]
  },
  {
   "cell_type": "code",
   "execution_count": null,
   "metadata": {},
   "outputs": [],
   "source": [
    "train_df"
   ]
  },
  {
   "cell_type": "code",
   "execution_count": null,
   "metadata": {
    "collapsed": true
   },
   "outputs": [],
   "source": [
    "join_df = train_df.merge(house_new_df, how='left', on='parcelid')"
   ]
  },
  {
   "cell_type": "code",
   "execution_count": null,
   "metadata": {},
   "outputs": [],
   "source": [
    "join_df"
   ]
  },
  {
   "cell_type": "code",
   "execution_count": null,
   "metadata": {
    "collapsed": true
   },
   "outputs": [],
   "source": [
    "# training data set: prediction target\n",
    "\n",
    "target = join_df.loc[:,'logerror']"
   ]
  },
  {
   "cell_type": "code",
   "execution_count": null,
   "metadata": {
    "collapsed": true
   },
   "outputs": [],
   "source": [
    "# training data set: attributes\n",
    "\n",
    "train = join_df.iloc[:,2:]\n",
    "\n",
    "# feature = join_df.iloc[:,2:]"
   ]
  },
  {
   "cell_type": "code",
   "execution_count": null,
   "metadata": {
    "collapsed": true
   },
   "outputs": [],
   "source": [
    "# poolcnt feature have problems during normalizations\n",
    "\n",
    "del train['poolcnt']"
   ]
  },
  {
   "cell_type": "code",
   "execution_count": null,
   "metadata": {
    "collapsed": true
   },
   "outputs": [],
   "source": [
    "# convert datetime into float\n",
    "# ToDo: normalize the datetime float\n",
    "\n",
    "for num,str in enumerate(train.transactiondate):\n",
    "        date_time = datetime.datetime.strptime(str,'%Y-%m-%d')\n",
    "        str = time.mktime(date_time.timetuple())\n",
    "        train.set_value(num,'transactiondate',str)\n",
    "        \n",
    "train['transactiondate'] = train['transactiondate'].astype(float)"
   ]
  },
  {
   "cell_type": "code",
   "execution_count": null,
   "metadata": {},
   "outputs": [],
   "source": [
    "# train.isnull().sum()"
   ]
  },
  {
   "cell_type": "code",
   "execution_count": null,
   "metadata": {
    "collapsed": true
   },
   "outputs": [],
   "source": [
    "lr = linear_model.LinearRegression()\n",
    "lr = lr.fit(train, target)"
   ]
  },
  {
   "cell_type": "code",
   "execution_count": null,
   "metadata": {},
   "outputs": [],
   "source": [
    "# train.shape"
   ]
  },
  {
   "cell_type": "code",
   "execution_count": null,
   "metadata": {
    "collapsed": true
   },
   "outputs": [],
   "source": [
    "sample = pd.read_csv(\"../data/sample_submission.csv\")"
   ]
  },
  {
   "cell_type": "code",
   "execution_count": null,
   "metadata": {
    "collapsed": true
   },
   "outputs": [],
   "source": [
    "sample1 = sample.ParcelId\n",
    "sample1 = sample1.to_frame()\n",
    "sample1.columns = ['parcelid']\n",
    "sample1.describe()\n",
    "df_test = sample1.merge(house_new_df, on='parcelid', how='left')"
   ]
  },
  {
   "cell_type": "code",
   "execution_count": null,
   "metadata": {
    "collapsed": true
   },
   "outputs": [],
   "source": [
    "del df_test['poolcnt']   # this need to be deleted before house_new_df is finished\n",
    "del df_test['parcelid']"
   ]
  },
  {
   "cell_type": "code",
   "execution_count": null,
   "metadata": {},
   "outputs": [],
   "source": [
    "# df_test.info()"
   ]
  },
  {
   "cell_type": "code",
   "execution_count": null,
   "metadata": {
    "collapsed": true
   },
   "outputs": [],
   "source": [
    "def pred(df_test):\n",
    "    for num,str in enumerate(df_test.transactiondate):\n",
    "        date_time = datetime.datetime.strptime(str,'%Y-%m-%d')\n",
    "        str = time.mktime(date_time.timetuple())\n",
    "        df_test.set_value(num,'transactiondate',str)\n",
    "    df_test['transactiondate'] = df_test['transactiondate'].astype(float) \n",
    "    df_test = df_test.as_matrix()\n",
    "    pred = lr.predict(df_test)\n",
    "    return pred"
   ]
  },
  {
   "cell_type": "code",
   "execution_count": null,
   "metadata": {
    "collapsed": true
   },
   "outputs": [],
   "source": [
    "result = sample1.copy()\n",
    "result.columns = ['ParcelId']\n",
    "\n",
    "df_test1 = df_test.copy()\n",
    "df_test1.insert(0,'transactiondate','2016-10-15')\n",
    "pred1 = pred(df_test1)\n",
    "pred1 = np.asarray(pred1)\n",
    "result.insert(1,'201610',pred1)\n",
    "del df_test1\n",
    "\n",
    "\n",
    "df_test2 = df_test.copy()\n",
    "df_test2.insert(0,'transactiondate','2016-11-15')\n",
    "pred2 = pred(df_test2)\n",
    "pred2 = np.asarray(pred2)\n",
    "result.insert(2,'201611',pred2)\n",
    "del df_test2\n",
    "\n",
    "df_test3 = df_test.copy()\n",
    "df_test3.insert(0,'transactiondate','2016-12-15')\n",
    "pred3 = pred(df_test3)\n",
    "pred3 = np.asarray(pred3)\n",
    "result.insert(3,'201612',pred3)\n",
    "del df_test3\n",
    "\n",
    "df_test4 = df_test.copy()\n",
    "df_test4.insert(0,'transactiondate','2017-10-15')\n",
    "pred4 = pred(df_test4)\n",
    "pred4 = np.asarray(pred4)\n",
    "result.insert(4,'201710',pred4)\n",
    "del df_test4\n",
    "\n",
    "df_test5 = df_test.copy()\n",
    "df_test5.insert(0,'transactiondate','2017-11-15')\n",
    "pred5 = pred(df_test5)\n",
    "pred5 = np.asarray(pred5)\n",
    "result.insert(5,'201711',pred5)\n",
    "del df_test5\n",
    "\n",
    "df_test6 = df_test.copy()\n",
    "df_test6.insert(0,'transactiondate','2017-12-15')\n",
    "pred6 = pred(df_test6)\n",
    "pred6 = np.asarray(pred6)\n",
    "result.insert(6,'201712',pred6)\n",
    "del df_test6\n",
    "\n",
    "\n",
    "# result.columns = ['ParcelId', '201610']\n",
    "\n",
    "result.columns = ['ParcelId', '201610', '201611', '201612', '201710','201711','201712']\n",
    "result.to_csv('../predictions/sample1.csv',index=False,header=True)  # need to change filename per run"
   ]
  }
 ],
 "metadata": {
  "kernelspec": {
   "display_name": "Python 3",
   "language": "python",
   "name": "python3"
  },
  "language_info": {
   "codemirror_mode": {
    "name": "ipython",
    "version": 3
   },
   "file_extension": ".py",
   "mimetype": "text/x-python",
   "name": "python",
   "nbconvert_exporter": "python",
   "pygments_lexer": "ipython3",
   "version": "3.6.1"
  }
 },
 "nbformat": 4,
 "nbformat_minor": 2
}
