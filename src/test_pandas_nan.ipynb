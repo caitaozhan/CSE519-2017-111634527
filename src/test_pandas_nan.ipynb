{
 "cells": [
  {
   "cell_type": "code",
   "execution_count": 1,
   "metadata": {
    "collapsed": true
   },
   "outputs": [],
   "source": [
    "import pandas as pd"
   ]
  },
  {
   "cell_type": "code",
   "execution_count": 2,
   "metadata": {},
   "outputs": [
    {
     "name": "stderr",
     "output_type": "stream",
     "text": [
      "D:\\Program Files\\anaconda\\lib\\site-packages\\IPython\\core\\interactiveshell.py:2717: DtypeWarning: Columns (22,32,34,49,55) have mixed types. Specify dtype option on import or set low_memory=False.\n",
      "  interactivity=interactivity, compiler=compiler, result=result)\n"
     ]
    }
   ],
   "source": [
    "house_df = pd.read_csv('../data/properties_2016_backup.csv')"
   ]
  },
  {
   "cell_type": "code",
   "execution_count": 6,
   "metadata": {},
   "outputs": [
    {
     "data": {
      "text/plain": [
       "(2985217, 58)"
      ]
     },
     "execution_count": 6,
     "metadata": {},
     "output_type": "execute_result"
    }
   ],
   "source": [
    "house_df.dropna(how='any').shape"
   ]
  },
  {
   "cell_type": "code",
   "execution_count": 4,
   "metadata": {},
   "outputs": [
    {
     "data": {
      "text/plain": [
       "(2985217, 58)"
      ]
     },
     "execution_count": 4,
     "metadata": {},
     "output_type": "execute_result"
    }
   ],
   "source": [
    "house_df.shape"
   ]
  },
  {
   "cell_type": "code",
   "execution_count": 5,
   "metadata": {},
   "outputs": [
    {
     "data": {
      "text/plain": [
       "parcelid                              0\n",
       "airconditioningtypeid           2173698\n",
       "architecturalstyletypeid        2979156\n",
       "basementsqft                    2983589\n",
       "bathroomcnt                       11462\n",
       "bedroomcnt                        11450\n",
       "buildingclasstypeid             2972588\n",
       "buildingqualitytypeid           1046729\n",
       "calculatedbathnbr                128912\n",
       "decktypeid                      2968121\n",
       "finishedfloor1squarefeet        2782500\n",
       "calculatedfinishedsquarefeet      55565\n",
       "finishedsquarefeet12             276033\n",
       "finishedsquarefeet13            2977545\n",
       "finishedsquarefeet15            2794419\n",
       "finishedsquarefeet50            2782500\n",
       "finishedsquarefeet6             2963216\n",
       "fips                              11437\n",
       "fireplacecnt                    2672580\n",
       "fullbathcnt                      128912\n",
       "garagecarcnt                    2101950\n",
       "garagetotalsqft                 2101950\n",
       "hashottuborspa                  2916203\n",
       "heatingorsystemtypeid           1178816\n",
       "latitude                          11437\n",
       "longitude                         11437\n",
       "lotsizesquarefeet                276099\n",
       "poolcnt                         2467683\n",
       "poolsizesum                     2957257\n",
       "pooltypeid10                    2948278\n",
       "pooltypeid2                     2953142\n",
       "pooltypeid7                     2499758\n",
       "propertycountylandusecode         12277\n",
       "propertylandusetypeid             11437\n",
       "propertyzoningdesc              1006588\n",
       "rawcensustractandblock            11437\n",
       "regionidcity                      62845\n",
       "regionidcounty                    11437\n",
       "regionidneighborhood            1828815\n",
       "regionidzip                       13980\n",
       "roomcnt                           11475\n",
       "storytypeid                     2983593\n",
       "threequarterbathnbr             2673586\n",
       "typeconstructiontypeid          2978470\n",
       "unitcnt                         1007727\n",
       "yardbuildingsqft17              2904862\n",
       "yardbuildingsqft26              2982570\n",
       "yearbuilt                         59928\n",
       "numberofstories                 2303148\n",
       "fireplaceflag                   2980054\n",
       "structuretaxvaluedollarcnt        54982\n",
       "taxvaluedollarcnt                 42550\n",
       "assessmentyear                    11439\n",
       "landtaxvaluedollarcnt             67733\n",
       "taxamount                         31250\n",
       "taxdelinquencyflag              2928755\n",
       "taxdelinquencyyear              2928753\n",
       "censustractandblock               75126\n",
       "dtype: int64"
      ]
     },
     "execution_count": 5,
     "metadata": {},
     "output_type": "execute_result"
    }
   ],
   "source": [
    "house_df.isnull().sum()"
   ]
  }
 ],
 "metadata": {
  "kernelspec": {
   "display_name": "Python 3",
   "language": "python",
   "name": "python3"
  },
  "language_info": {
   "codemirror_mode": {
    "name": "ipython",
    "version": 3
   },
   "file_extension": ".py",
   "mimetype": "text/x-python",
   "name": "python",
   "nbconvert_exporter": "python",
   "pygments_lexer": "ipython3",
   "version": "3.6.1"
  }
 },
 "nbformat": 4,
 "nbformat_minor": 2
}
