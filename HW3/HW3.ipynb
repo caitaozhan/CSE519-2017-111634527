{
 "cells": [
  {
   "cell_type": "markdown",
   "metadata": {},
   "source": [
    "|**Name**| **ID #** | **Email** | **When Midterm**| \n",
    "| :--     |  :--      |  :--    | :--             |           \n",
    "|Xuan Xu |   111675940 | xuaxu@cs.stonybrook.edu        |                 |             \n",
    "|Hae-Na Lee|          |         |                 |            \n",
    "|Caitao Zhan| 111634527| caitao.zhan@stonybrook.edu | 10/16 (CSE548) |\n",
    "\n"
   ]
  },
  {
   "cell_type": "code",
   "execution_count": 1,
   "metadata": {},
   "outputs": [
    {
     "name": "stdout",
     "output_type": "stream",
     "text": [
      "Hello Homework3!\n",
      "Always remember to git pull before you git push.\n",
      "When a conflict occurs, don't be nervous. Just manually fix the conflicts.\n",
      "Also, you can .gitignore whatever you don't want others see.\n",
      "Hope we can finish task 1,2,3 by Sunday night (10/8).\n"
     ]
    }
   ],
   "source": [
    "print(\"Hello Homework3!\")\n",
    "print(\"Always remember to git pull before you git push.\")\n",
    "print(\"When a conflict occurs, don't be nervous. Just manually fix the conflicts.\")\n",
    "print(\"Also, you can .gitignore whatever you don't want others see.\")\n",
    "print(\"Hope we can finish task 1,2,3 by Sunday night (10/8).\")"
   ]
  },
  {
   "cell_type": "code",
   "execution_count": null,
   "metadata": {
    "collapsed": true
   },
   "outputs": [],
   "source": [
    "# import all packages needed\n",
    "\n",
    "import pandas as pd\n",
    "import numpy as np\n",
    "%matplotlib inline\n",
    "import matplotlib.pyplot as plt\n",
    "import seaborn as sns\n",
    "import datetime, time\n",
    "from sklearn import linear_model"
   ]
  },
  {
   "cell_type": "code",
   "execution_count": null,
   "metadata": {
    "collapsed": true
   },
   "outputs": [],
   "source": [
    "# To all: let's all use the following names:\n",
    "# 'df_house16', 'df_house17', 'df_train16', 'df_train17', 'df_merge16', 'df_merge17'\n",
    "\n",
    "df_house16 = pd.read_csv('../data/properties_2016.csv')\n",
    "df_train16 = pd.read_csv('../data/train_2016_v2.csv')\n",
    "# df_merge16 = pd.merge(df_house16, df_train16, on='parcelid')\n",
    "\n",
    "df_house17 = pd.read_csv('../data/properties_2017.csv')\n",
    "df_train17 = pd.read_csv('../data/train_2017.csv')\n",
    "#df_merge17 = pd.merge(df_house17, df_train17, on='parcelid')"
   ]
  },
  {
   "cell_type": "markdown",
   "metadata": {},
   "source": [
    "# Task 1"
   ]
  },
  {
   "cell_type": "code",
   "execution_count": null,
   "metadata": {
    "collapsed": true
   },
   "outputs": [],
   "source": [
    "# Read the property data\n",
    "property_data_2016 = df_house16\n",
    "property_data_2017 = df_house17"
   ]
  },
  {
   "cell_type": "code",
   "execution_count": null,
   "metadata": {
    "collapsed": true
   },
   "outputs": [],
   "source": [
    "# Extract the features to analyze\n",
    "feature_list = ['parcelid','bedroomcnt','buildingqualitytypeid',\n",
    "                'calculatedbathnbr','calculatedfinishedsquarefeet',\n",
    "                'latitude','longitude','lotsizesquarefeet',\n",
    "                'yearbuilt','structuretaxvaluedollarcnt']\n",
    "\n",
    "feature_data_2016 = property_data_2016[feature_list]\n",
    "feature_data_2017 = property_data_2017[feature_list]"
   ]
  },
  {
   "cell_type": "code",
   "execution_count": null,
   "metadata": {
    "collapsed": true
   },
   "outputs": [],
   "source": [
    "# Read the training data\n",
    "train_2016 = df_train16\n",
    "train_2017 = df_train17"
   ]
  },
  {
   "cell_type": "code",
   "execution_count": null,
   "metadata": {
    "collapsed": true
   },
   "outputs": [],
   "source": [
    "# Combine the feature data and training data\n",
    "model_dataset_2016 = pd.merge(feature_data_2016, train_2016, on='parcelid')\n",
    "model_dataset_2017 = pd.merge(feature_data_2017, train_2017, on='parcelid')\n",
    "\n",
    "# Fill in missing feature data with mean values\n",
    "model_dataset_filled_2016 = model_dataset_2016.fillna(model_dataset_2016.mean())\n",
    "model_dataset_filled_2017 = model_dataset_2017.fillna(model_dataset_2017.mean())"
   ]
  },
  {
   "cell_type": "code",
   "execution_count": null,
   "metadata": {
    "collapsed": true
   },
   "outputs": [],
   "source": [
    "model_dataset = [model_dataset_filled_2016, model_dataset_filled_2017]\n",
    "model_dataset = pd.concat(model_dataset, ignore_index=True)"
   ]
  },
  {
   "cell_type": "code",
   "execution_count": null,
   "metadata": {
    "collapsed": true
   },
   "outputs": [],
   "source": [
    "# Preprocessing\n",
    "model_dataset_norm = model_dataset\n",
    "\n",
    "# Normalize the features with skewed distributions\n",
    "model_dataset_norm.calculatedbathnbr = np.log(model_dataset_norm.calculatedbathnbr)\n",
    "model_dataset_norm.calculatedfinishedsquarefeet = np.log(model_dataset_norm.calculatedfinishedsquarefeet)\n",
    "model_dataset_norm.lotsizesquarefeet = np.log(model_dataset_norm.lotsizesquarefeet)\n",
    "#model_dataset_norm.roomcnt = np.log(model_dataset_norm.roomcnt)\n",
    "model_dataset_norm.structuretaxvaluedollarcnt = np.log(model_dataset_norm.structuretaxvaluedollarcnt)"
   ]
  },
  {
   "cell_type": "code",
   "execution_count": null,
   "metadata": {
    "collapsed": true
   },
   "outputs": [],
   "source": [
    "from sklearn import preprocessing\n",
    "\n",
    "model_dataset_norm.loc[:,'bedroomcnt':'structuretaxvaluedollarcnt'] = \\\n",
    " preprocessing.scale(model_dataset_norm.loc[:,'bedroomcnt':'structuretaxvaluedollarcnt'])"
   ]
  },
  {
   "cell_type": "code",
   "execution_count": null,
   "metadata": {
    "collapsed": true
   },
   "outputs": [],
   "source": [
    "feature_list = ['parcelid','bedroomcnt','buildingqualitytypeid',\n",
    "                'calculatedbathnbr','calculatedfinishedsquarefeet',\n",
    "                'lotsizesquarefeet',#'roomcnt',\n",
    "                'yearbuilt','structuretaxvaluedollarcnt','transactiondate']\n",
    "\n",
    "scoring_dataset = model_dataset_norm[feature_list]\n",
    "\n",
    "desirability_score = pd.DataFrame(scoring_dataset.bedroomcnt\n",
    " - scoring_dataset.buildingqualitytypeid\n",
    " + scoring_dataset.calculatedbathnbr\n",
    " + scoring_dataset.calculatedfinishedsquarefeet\n",
    " + scoring_dataset.lotsizesquarefeet\n",
    " + scoring_dataset.yearbuilt\n",
    " + scoring_dataset.structuretaxvaluedollarcnt, columns=['score'])"
   ]
  },
  {
   "cell_type": "code",
   "execution_count": null,
   "metadata": {
    "collapsed": true
   },
   "outputs": [],
   "source": [
    "# Append the desirability score to the dataset\n",
    "scoring_result = pd.concat([scoring_dataset, desirability_score], axis=1)"
   ]
  },
  {
   "cell_type": "code",
   "execution_count": null,
   "metadata": {
    "collapsed": true
   },
   "outputs": [],
   "source": [
    "# Sort based on scores\n",
    "scoring_result_ordered = scoring_result.sort_values('score', ascending=False)"
   ]
  },
  {
   "cell_type": "code",
   "execution_count": null,
   "metadata": {
    "collapsed": true
   },
   "outputs": [],
   "source": [
    "# Get the ten most desirable houses in the dataset\n",
    "most_desirables = scoring_result_ordered[:10]\n",
    "most_desirables = scoring_result_ordered.head(n=10)\n",
    "\n",
    "print(most_desirables['buildingqualitytypeid'].mean())\n",
    "most_desirables"
   ]
  },
  {
   "cell_type": "code",
   "execution_count": null,
   "metadata": {
    "collapsed": true
   },
   "outputs": [],
   "source": [
    "# Get the ten least desirable houses in the dataset\n",
    "least_desirables = scoring_result_ordered[-10:]\n",
    "least_desirables = scoring_result_ordered.tail(n=10)\n",
    "\n",
    "print(least_desirables['buildingqualitytypeid'].mean())\n",
    "least_desirables"
   ]
  },
  {
   "cell_type": "markdown",
   "metadata": {},
   "source": [
    "# Task 2"
   ]
  },
  {
   "cell_type": "markdown",
   "metadata": {},
   "source": [
    "# Task 3"
   ]
  }
 ],
 "metadata": {
  "kernelspec": {
   "display_name": "Python 3",
   "language": "python",
   "name": "python3"
  },
  "language_info": {
   "codemirror_mode": {
    "name": "ipython",
    "version": 3
   },
   "file_extension": ".py",
   "mimetype": "text/x-python",
   "name": "python",
   "nbconvert_exporter": "python",
   "pygments_lexer": "ipython3",
   "version": "3.6.1"
  }
 },
 "nbformat": 4,
 "nbformat_minor": 2
}
