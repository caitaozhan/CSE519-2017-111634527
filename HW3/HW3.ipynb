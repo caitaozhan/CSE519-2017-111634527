{
 "cells": [
  {
   "cell_type": "markdown",
   "metadata": {},
   "source": [
    "|**Name**| **ID #** | **Email** | **When Midterm**| \n",
    "| :--     |  :--      |  :--    | :--             |           \n",
    "|Xuan Xu |   111675940 | xuaxu@cs.stonybrook.edu        |                 |             \n",
    "|Hae-Na Lee|          |         |                 |            \n",
    "|Caitao Zhan| 111634527| caitao.zhan@stonybrook.edu | 10/16 (CSE548) |\n",
    "\n"
   ]
  },
  {
   "cell_type": "code",
   "execution_count": null,
   "metadata": {},
   "outputs": [],
   "source": [
    "print(\"Hello Homework3!\")\n",
    "print(\"Always remember to git pull before you git push.\")\n",
    "print(\"When a conflict occurs, don't be nervous. Just manually fix the conflicts.\")\n",
    "print(\"Also, you can .gitignore whatever you don't want others see.\")\n",
    "print(\"Hope we can finish task 1,2,3 by Sunday night (10/8).\")"
   ]
  },
  {
   "cell_type": "code",
   "execution_count": null,
   "metadata": {
    "collapsed": true
   },
   "outputs": [],
   "source": [
    "# import all packages needed\n",
    "\n",
    "import pandas as pd\n",
    "import numpy as np\n",
    "import matplotlib.pyplot as plt\n",
    "import seaborn as sns\n",
    "import datetime, time\n",
    "from sklearn import linear_model"
   ]
  },
  {
   "cell_type": "code",
   "execution_count": null,
   "metadata": {
    "collapsed": true
   },
   "outputs": [],
   "source": [
    "# To all: let's all use the following names:\n",
    "# 'df_house16', 'df_house17', 'df_train16', 'df_train17', 'df_merge16', 'df_merge17'\n",
    "\n",
    "df_house16 = pd.read_csv('../../data/properties_2016.csv')\n",
    "df_train16 = pd.read_csv('../../data/train_2016_v2.csv')\n",
    "df_merge16 = pd.merge(df_house16, df_train16, on='parcelid')\n",
    "\n",
    "#df_house17 = pd.read_csv('../../data/properties_2017.csv')\n",
    "#df_train17 = pd.read_csv('../../data/train_2017.csv')\n",
    "#df_merge17 = pd.merge(df_house17, df_train17, on='parcelid')"
   ]
  },
  {
   "cell_type": "markdown",
   "metadata": {},
   "source": [
    "# Task 1"
   ]
  },
  {
   "cell_type": "markdown",
   "metadata": {},
   "source": [
    "# Task 2"
   ]
  },
  {
   "cell_type": "markdown",
   "metadata": {},
   "source": [
    "# Task 3"
   ]
  }
 ],
 "metadata": {
  "kernelspec": {
   "display_name": "Python 2",
   "language": "python",
   "name": "python2"
  },
  "language_info": {
   "codemirror_mode": {
    "name": "ipython",
    "version": 2
   },
   "file_extension": ".py",
   "mimetype": "text/x-python",
   "name": "python",
   "nbconvert_exporter": "python",
   "pygments_lexer": "ipython2",
   "version": "2.7.13"
  }
 },
 "nbformat": 4,
 "nbformat_minor": 2
}
