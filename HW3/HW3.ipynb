{
 "cells": [
  {
   "cell_type": "markdown",
   "metadata": {},
   "source": [
    "|**Name**| **ID #** | **Email** | **When Midterm**| \n",
    "| :--     |  :--      |  :--    | :--             |           \n",
    "|Xuan Xu |   111675940 | xuaxu@cs.stonybrook.edu        |                 |             \n",
    "|Hae-Na Lee| 111207004 | haenalee@cs.stonybrook.edu | 10/13, 10/23 |            \n",
    "|Caitao Zhan| 111634527| caitao.zhan@stonybrook.edu | 10/16 (CSE548) |\n",
    "\n"
   ]
  },
  {
   "cell_type": "code",
   "execution_count": 1,
   "metadata": {},
   "outputs": [
    {
     "name": "stdout",
     "output_type": "stream",
     "text": [
      "Hello Homework3!\n",
      "Always remember to git pull before you git push.\n",
      "When a conflict occurs, don't be nervous. Just manually fix the conflicts.\n",
      "Also, you can .gitignore whatever you don't want others see.\n",
      "Hope we can finish task 1,2,3 by Sunday night (10/8).\n"
     ]
    }
   ],
   "source": [
    "print(\"Hello Homework3!\")\n",
    "print(\"Always remember to git pull before you git push.\")\n",
    "print(\"When a conflict occurs, don't be nervous. Just manually fix the conflicts.\")\n",
    "print(\"Also, you can .gitignore whatever you don't want others see.\")\n",
    "print(\"Hope we can finish task 1,2,3 by Sunday night (10/8).\")"
   ]
  },
  {
   "cell_type": "code",
   "execution_count": 2,
   "metadata": {
    "collapsed": true
   },
   "outputs": [],
   "source": [
    "# import all packages needed\n",
    "\n",
    "import pandas as pd\n",
    "import numpy as np\n",
    "%matplotlib inline\n",
    "import matplotlib.pyplot as plt\n",
    "import seaborn as sns\n",
    "import datetime, time\n",
    "from sklearn import linear_model"
   ]
  },
  {
   "cell_type": "code",
   "execution_count": 3,
   "metadata": {},
   "outputs": [
    {
     "name": "stderr",
     "output_type": "stream",
     "text": [
      "/Users/haenalee/anaconda/lib/python3.6/site-packages/IPython/core/interactiveshell.py:2717: DtypeWarning: Columns (22,32,34,49,55) have mixed types. Specify dtype option on import or set low_memory=False.\n",
      "  interactivity=interactivity, compiler=compiler, result=result)\n",
      "/Users/haenalee/anaconda/lib/python3.6/site-packages/IPython/core/interactiveshell.py:2717: DtypeWarning: Columns (49) have mixed types. Specify dtype option on import or set low_memory=False.\n",
      "  interactivity=interactivity, compiler=compiler, result=result)\n"
     ]
    }
   ],
   "source": [
    "# To all: let's all use the following names:\n",
    "# 'df_house16', 'df_house17', 'df_train16', 'df_train17', 'df_merge16', 'df_merge17'\n",
    "\n",
    "df_house16 = pd.read_csv('../data/properties_2016.csv', na_values=['NA'])\n",
    "df_train16 = pd.read_csv('../data/train_2016_v2.csv', na_values=['NA'])\n",
    "# df_merge16 = pd.merge(df_house16, df_train16, on='parcelid')\n",
    "\n",
    "df_house17 = pd.read_csv('../data/properties_2017.csv', na_values=['NA'])\n",
    "df_train17 = pd.read_csv('../data/train_2017.csv', na_values=['NA'])\n",
    "#df_merge17 = pd.merge(df_house17, df_train17, on='parcelid')"
   ]
  },
  {
   "cell_type": "markdown",
   "metadata": {},
   "source": [
    "# Task 1"
   ]
  },
  {
   "cell_type": "code",
   "execution_count": 4,
   "metadata": {
    "collapsed": true
   },
   "outputs": [],
   "source": [
    "# Read the property data\n",
    "property_data_2016 = df_house16\n",
    "property_data_2017 = df_house17"
   ]
  },
  {
   "cell_type": "code",
   "execution_count": 5,
   "metadata": {
    "collapsed": true
   },
   "outputs": [],
   "source": [
    "# Extract the features to analyze\n",
    "feature_list = ['parcelid','bedroomcnt','buildingqualitytypeid',\n",
    "                'calculatedbathnbr','calculatedfinishedsquarefeet',\n",
    "                'latitude','longitude','lotsizesquarefeet',\n",
    "                'yearbuilt','structuretaxvaluedollarcnt']\n",
    "\n",
    "feature_data_2016 = property_data_2016[feature_list]\n",
    "feature_data_2017 = property_data_2017[feature_list]"
   ]
  },
  {
   "cell_type": "code",
   "execution_count": 6,
   "metadata": {
    "collapsed": true
   },
   "outputs": [],
   "source": [
    "# Read the training data\n",
    "train_2016 = df_train16\n",
    "train_2017 = df_train17"
   ]
  },
  {
   "cell_type": "code",
   "execution_count": 7,
   "metadata": {
    "collapsed": true
   },
   "outputs": [],
   "source": [
    "# Combine the feature data and training data\n",
    "model_dataset_2016 = pd.merge(feature_data_2016, train_2016, on='parcelid')\n",
    "model_dataset_2017 = pd.merge(feature_data_2017, train_2017, on='parcelid')\n",
    "\n",
    "# Fill in missing feature data with mean values\n",
    "model_dataset_filled_2016 = model_dataset_2016.fillna(model_dataset_2016.mean())\n",
    "model_dataset_filled_2017 = model_dataset_2017.fillna(model_dataset_2017.mean())"
   ]
  },
  {
   "cell_type": "code",
   "execution_count": 8,
   "metadata": {
    "collapsed": true
   },
   "outputs": [],
   "source": [
    "model_dataset = [model_dataset_filled_2016, model_dataset_filled_2017]\n",
    "model_dataset = pd.concat(model_dataset, ignore_index=True)"
   ]
  },
  {
   "cell_type": "code",
   "execution_count": 9,
   "metadata": {
    "collapsed": true
   },
   "outputs": [],
   "source": [
    "# Preprocessing\n",
    "model_dataset_norm = model_dataset\n",
    "\n",
    "# Normalize the features with skewed distributions\n",
    "model_dataset_norm.calculatedbathnbr = np.log(model_dataset_norm.calculatedbathnbr)\n",
    "model_dataset_norm.calculatedfinishedsquarefeet = np.log(model_dataset_norm.calculatedfinishedsquarefeet)\n",
    "model_dataset_norm.lotsizesquarefeet = np.log(model_dataset_norm.lotsizesquarefeet)\n",
    "#model_dataset_norm.roomcnt = np.log(model_dataset_norm.roomcnt)\n",
    "model_dataset_norm.structuretaxvaluedollarcnt = np.log(model_dataset_norm.structuretaxvaluedollarcnt)"
   ]
  },
  {
   "cell_type": "code",
   "execution_count": 10,
   "metadata": {
    "collapsed": true
   },
   "outputs": [],
   "source": [
    "from sklearn import preprocessing\n",
    "\n",
    "model_dataset_norm.loc[:,'bedroomcnt':'structuretaxvaluedollarcnt'] = \\\n",
    " preprocessing.scale(model_dataset_norm.loc[:,'bedroomcnt':'structuretaxvaluedollarcnt'])"
   ]
  },
  {
   "cell_type": "code",
   "execution_count": 11,
   "metadata": {
    "collapsed": true
   },
   "outputs": [],
   "source": [
    "feature_list = ['parcelid','bedroomcnt','buildingqualitytypeid',\n",
    "                'calculatedbathnbr','calculatedfinishedsquarefeet',\n",
    "                'lotsizesquarefeet',#'roomcnt',\n",
    "                'yearbuilt','structuretaxvaluedollarcnt','transactiondate']\n",
    "\n",
    "scoring_dataset = model_dataset_norm[feature_list]\n",
    "\n",
    "desirability_score = pd.DataFrame(scoring_dataset.bedroomcnt\n",
    " - scoring_dataset.buildingqualitytypeid\n",
    " + scoring_dataset.calculatedbathnbr\n",
    " + scoring_dataset.calculatedfinishedsquarefeet\n",
    " + scoring_dataset.lotsizesquarefeet\n",
    " + scoring_dataset.yearbuilt\n",
    " + scoring_dataset.structuretaxvaluedollarcnt, columns=['score'])"
   ]
  },
  {
   "cell_type": "code",
   "execution_count": 12,
   "metadata": {
    "collapsed": true
   },
   "outputs": [],
   "source": [
    "# Append the desirability score to the dataset\n",
    "scoring_result = pd.concat([scoring_dataset, desirability_score], axis=1)"
   ]
  },
  {
   "cell_type": "code",
   "execution_count": 13,
   "metadata": {
    "collapsed": true
   },
   "outputs": [],
   "source": [
    "# Sort based on scores\n",
    "scoring_result_ordered = scoring_result.sort_values('score', ascending=False)"
   ]
  },
  {
   "cell_type": "code",
   "execution_count": 14,
   "metadata": {},
   "outputs": [
    {
     "name": "stdout",
     "output_type": "stream",
     "text": [
      "-0.7071146176209302\n"
     ]
    },
    {
     "data": {
      "text/html": [
       "<div>\n",
       "<style>\n",
       "    .dataframe thead tr:only-child th {\n",
       "        text-align: right;\n",
       "    }\n",
       "\n",
       "    .dataframe thead th {\n",
       "        text-align: left;\n",
       "    }\n",
       "\n",
       "    .dataframe tbody tr th {\n",
       "        vertical-align: top;\n",
       "    }\n",
       "</style>\n",
       "<table border=\"1\" class=\"dataframe\">\n",
       "  <thead>\n",
       "    <tr style=\"text-align: right;\">\n",
       "      <th></th>\n",
       "      <th>parcelid</th>\n",
       "      <th>bedroomcnt</th>\n",
       "      <th>buildingqualitytypeid</th>\n",
       "      <th>calculatedbathnbr</th>\n",
       "      <th>calculatedfinishedsquarefeet</th>\n",
       "      <th>lotsizesquarefeet</th>\n",
       "      <th>yearbuilt</th>\n",
       "      <th>structuretaxvaluedollarcnt</th>\n",
       "      <th>transactiondate</th>\n",
       "      <th>score</th>\n",
       "    </tr>\n",
       "  </thead>\n",
       "  <tbody>\n",
       "    <tr>\n",
       "      <th>141942</th>\n",
       "      <td>10862245</td>\n",
       "      <td>6.055848</td>\n",
       "      <td>0.339878</td>\n",
       "      <td>3.912069</td>\n",
       "      <td>5.338689</td>\n",
       "      <td>2.561337</td>\n",
       "      <td>0.988559</td>\n",
       "      <td>4.922572</td>\n",
       "      <td>2017-08-30</td>\n",
       "      <td>23.439196</td>\n",
       "    </tr>\n",
       "    <tr>\n",
       "      <th>60710</th>\n",
       "      <td>11650918</td>\n",
       "      <td>4.315227</td>\n",
       "      <td>-0.292207</td>\n",
       "      <td>3.434757</td>\n",
       "      <td>5.281846</td>\n",
       "      <td>2.402344</td>\n",
       "      <td>1.747990</td>\n",
       "      <td>5.050215</td>\n",
       "      <td>2016-01-11</td>\n",
       "      <td>22.524585</td>\n",
       "    </tr>\n",
       "    <tr>\n",
       "      <th>144297</th>\n",
       "      <td>11655139</td>\n",
       "      <td>3.444916</td>\n",
       "      <td>0.339878</td>\n",
       "      <td>4.309422</td>\n",
       "      <td>5.739236</td>\n",
       "      <td>2.787843</td>\n",
       "      <td>1.072940</td>\n",
       "      <td>5.269655</td>\n",
       "      <td>2017-04-07</td>\n",
       "      <td>22.284133</td>\n",
       "    </tr>\n",
       "    <tr>\n",
       "      <th>87193</th>\n",
       "      <td>11654953</td>\n",
       "      <td>3.444916</td>\n",
       "      <td>-0.292207</td>\n",
       "      <td>4.649799</td>\n",
       "      <td>5.673003</td>\n",
       "      <td>2.002286</td>\n",
       "      <td>1.326084</td>\n",
       "      <td>4.601712</td>\n",
       "      <td>2016-10-20</td>\n",
       "      <td>21.990007</td>\n",
       "    </tr>\n",
       "    <tr>\n",
       "      <th>115381</th>\n",
       "      <td>11641869</td>\n",
       "      <td>4.315227</td>\n",
       "      <td>0.339878</td>\n",
       "      <td>3.912069</td>\n",
       "      <td>5.878335</td>\n",
       "      <td>1.424656</td>\n",
       "      <td>1.410465</td>\n",
       "      <td>4.744048</td>\n",
       "      <td>2017-02-01</td>\n",
       "      <td>21.344922</td>\n",
       "    </tr>\n",
       "    <tr>\n",
       "      <th>61813</th>\n",
       "      <td>11670010</td>\n",
       "      <td>3.444916</td>\n",
       "      <td>-3.272181</td>\n",
       "      <td>3.685366</td>\n",
       "      <td>4.117994</td>\n",
       "      <td>0.474359</td>\n",
       "      <td>1.916753</td>\n",
       "      <td>4.409567</td>\n",
       "      <td>2016-12-29</td>\n",
       "      <td>21.321135</td>\n",
       "    </tr>\n",
       "    <tr>\n",
       "      <th>3971</th>\n",
       "      <td>11650903</td>\n",
       "      <td>5.185538</td>\n",
       "      <td>-0.292207</td>\n",
       "      <td>3.685366</td>\n",
       "      <td>4.768280</td>\n",
       "      <td>0.815932</td>\n",
       "      <td>1.452656</td>\n",
       "      <td>4.842481</td>\n",
       "      <td>2016-07-11</td>\n",
       "      <td>21.042459</td>\n",
       "    </tr>\n",
       "    <tr>\n",
       "      <th>79388</th>\n",
       "      <td>10883206</td>\n",
       "      <td>7.796470</td>\n",
       "      <td>-1.313993</td>\n",
       "      <td>3.154600</td>\n",
       "      <td>3.361436</td>\n",
       "      <td>0.881665</td>\n",
       "      <td>1.705800</td>\n",
       "      <td>2.331928</td>\n",
       "      <td>2016-09-27</td>\n",
       "      <td>20.545892</td>\n",
       "    </tr>\n",
       "    <tr>\n",
       "      <th>133332</th>\n",
       "      <td>11706270</td>\n",
       "      <td>11.277714</td>\n",
       "      <td>-1.313993</td>\n",
       "      <td>3.154600</td>\n",
       "      <td>2.637588</td>\n",
       "      <td>-0.587304</td>\n",
       "      <td>0.735415</td>\n",
       "      <td>1.464498</td>\n",
       "      <td>2017-07-20</td>\n",
       "      <td>19.996504</td>\n",
       "    </tr>\n",
       "    <tr>\n",
       "      <th>88506</th>\n",
       "      <td>10837531</td>\n",
       "      <td>7.796470</td>\n",
       "      <td>-1.313993</td>\n",
       "      <td>3.154600</td>\n",
       "      <td>2.883729</td>\n",
       "      <td>0.881665</td>\n",
       "      <td>1.621418</td>\n",
       "      <td>1.619915</td>\n",
       "      <td>2016-08-16</td>\n",
       "      <td>19.271790</td>\n",
       "    </tr>\n",
       "  </tbody>\n",
       "</table>\n",
       "</div>"
      ],
      "text/plain": [
       "        parcelid  bedroomcnt  buildingqualitytypeid  calculatedbathnbr  \\\n",
       "141942  10862245    6.055848               0.339878           3.912069   \n",
       "60710   11650918    4.315227              -0.292207           3.434757   \n",
       "144297  11655139    3.444916               0.339878           4.309422   \n",
       "87193   11654953    3.444916              -0.292207           4.649799   \n",
       "115381  11641869    4.315227               0.339878           3.912069   \n",
       "61813   11670010    3.444916              -3.272181           3.685366   \n",
       "3971    11650903    5.185538              -0.292207           3.685366   \n",
       "79388   10883206    7.796470              -1.313993           3.154600   \n",
       "133332  11706270   11.277714              -1.313993           3.154600   \n",
       "88506   10837531    7.796470              -1.313993           3.154600   \n",
       "\n",
       "        calculatedfinishedsquarefeet  lotsizesquarefeet  yearbuilt  \\\n",
       "141942                      5.338689           2.561337   0.988559   \n",
       "60710                       5.281846           2.402344   1.747990   \n",
       "144297                      5.739236           2.787843   1.072940   \n",
       "87193                       5.673003           2.002286   1.326084   \n",
       "115381                      5.878335           1.424656   1.410465   \n",
       "61813                       4.117994           0.474359   1.916753   \n",
       "3971                        4.768280           0.815932   1.452656   \n",
       "79388                       3.361436           0.881665   1.705800   \n",
       "133332                      2.637588          -0.587304   0.735415   \n",
       "88506                       2.883729           0.881665   1.621418   \n",
       "\n",
       "        structuretaxvaluedollarcnt transactiondate      score  \n",
       "141942                    4.922572      2017-08-30  23.439196  \n",
       "60710                     5.050215      2016-01-11  22.524585  \n",
       "144297                    5.269655      2017-04-07  22.284133  \n",
       "87193                     4.601712      2016-10-20  21.990007  \n",
       "115381                    4.744048      2017-02-01  21.344922  \n",
       "61813                     4.409567      2016-12-29  21.321135  \n",
       "3971                      4.842481      2016-07-11  21.042459  \n",
       "79388                     2.331928      2016-09-27  20.545892  \n",
       "133332                    1.464498      2017-07-20  19.996504  \n",
       "88506                     1.619915      2016-08-16  19.271790  "
      ]
     },
     "execution_count": 14,
     "metadata": {},
     "output_type": "execute_result"
    }
   ],
   "source": [
    "# Get the ten most desirable houses in the dataset\n",
    "most_desirables = scoring_result_ordered[:10]\n",
    "most_desirables = scoring_result_ordered.head(n=10)\n",
    "\n",
    "print(most_desirables['buildingqualitytypeid'].mean())\n",
    "most_desirables"
   ]
  },
  {
   "cell_type": "code",
   "execution_count": 15,
   "metadata": {},
   "outputs": [
    {
     "name": "stdout",
     "output_type": "stream",
     "text": [
      "0.2959364818476111\n"
     ]
    },
    {
     "data": {
      "text/html": [
       "<div>\n",
       "<style>\n",
       "    .dataframe thead tr:only-child th {\n",
       "        text-align: right;\n",
       "    }\n",
       "\n",
       "    .dataframe thead th {\n",
       "        text-align: left;\n",
       "    }\n",
       "\n",
       "    .dataframe tbody tr th {\n",
       "        vertical-align: top;\n",
       "    }\n",
       "</style>\n",
       "<table border=\"1\" class=\"dataframe\">\n",
       "  <thead>\n",
       "    <tr style=\"text-align: right;\">\n",
       "      <th></th>\n",
       "      <th>parcelid</th>\n",
       "      <th>bedroomcnt</th>\n",
       "      <th>buildingqualitytypeid</th>\n",
       "      <th>calculatedbathnbr</th>\n",
       "      <th>calculatedfinishedsquarefeet</th>\n",
       "      <th>lotsizesquarefeet</th>\n",
       "      <th>yearbuilt</th>\n",
       "      <th>structuretaxvaluedollarcnt</th>\n",
       "      <th>transactiondate</th>\n",
       "      <th>score</th>\n",
       "    </tr>\n",
       "  </thead>\n",
       "  <tbody>\n",
       "    <tr>\n",
       "      <th>88130</th>\n",
       "      <td>11807594</td>\n",
       "      <td>-1.776949</td>\n",
       "      <td>2.602381</td>\n",
       "      <td>-1.791531</td>\n",
       "      <td>-2.559796</td>\n",
       "      <td>-1.364967</td>\n",
       "      <td>-1.880403</td>\n",
       "      <td>-2.654792</td>\n",
       "      <td>2016-04-22</td>\n",
       "      <td>-14.630819</td>\n",
       "    </tr>\n",
       "    <tr>\n",
       "      <th>81433</th>\n",
       "      <td>12660907</td>\n",
       "      <td>-2.647260</td>\n",
       "      <td>-1.313993</td>\n",
       "      <td>0.821613</td>\n",
       "      <td>-15.013332</td>\n",
       "      <td>-0.096297</td>\n",
       "      <td>0.482272</td>\n",
       "      <td>0.374094</td>\n",
       "      <td>2016-03-25</td>\n",
       "      <td>-14.764918</td>\n",
       "    </tr>\n",
       "    <tr>\n",
       "      <th>72306</th>\n",
       "      <td>12231898</td>\n",
       "      <td>-1.776949</td>\n",
       "      <td>0.644194</td>\n",
       "      <td>-1.791531</td>\n",
       "      <td>-3.217609</td>\n",
       "      <td>-0.970576</td>\n",
       "      <td>-1.964784</td>\n",
       "      <td>-4.534240</td>\n",
       "      <td>2016-07-15</td>\n",
       "      <td>-14.899885</td>\n",
       "    </tr>\n",
       "    <tr>\n",
       "      <th>44273</th>\n",
       "      <td>11330994</td>\n",
       "      <td>-1.776949</td>\n",
       "      <td>0.644194</td>\n",
       "      <td>-1.791531</td>\n",
       "      <td>-3.205881</td>\n",
       "      <td>1.261461</td>\n",
       "      <td>-0.150588</td>\n",
       "      <td>-8.936016</td>\n",
       "      <td>2016-01-06</td>\n",
       "      <td>-15.243699</td>\n",
       "    </tr>\n",
       "    <tr>\n",
       "      <th>76819</th>\n",
       "      <td>11810855</td>\n",
       "      <td>-2.647260</td>\n",
       "      <td>-0.292207</td>\n",
       "      <td>0.199127</td>\n",
       "      <td>-5.172037</td>\n",
       "      <td>-0.526313</td>\n",
       "      <td>-1.964784</td>\n",
       "      <td>-6.073198</td>\n",
       "      <td>2016-10-07</td>\n",
       "      <td>-15.892259</td>\n",
       "    </tr>\n",
       "    <tr>\n",
       "      <th>41121</th>\n",
       "      <td>12059289</td>\n",
       "      <td>-1.776949</td>\n",
       "      <td>0.644194</td>\n",
       "      <td>-1.791531</td>\n",
       "      <td>-3.114202</td>\n",
       "      <td>-1.313725</td>\n",
       "      <td>-1.964784</td>\n",
       "      <td>-5.868466</td>\n",
       "      <td>2016-06-20</td>\n",
       "      <td>-16.473853</td>\n",
       "    </tr>\n",
       "    <tr>\n",
       "      <th>89349</th>\n",
       "      <td>11524235</td>\n",
       "      <td>-2.647260</td>\n",
       "      <td>-0.292207</td>\n",
       "      <td>0.199127</td>\n",
       "      <td>-8.285421</td>\n",
       "      <td>1.052183</td>\n",
       "      <td>1.537037</td>\n",
       "      <td>-8.887253</td>\n",
       "      <td>2016-02-26</td>\n",
       "      <td>-16.739380</td>\n",
       "    </tr>\n",
       "    <tr>\n",
       "      <th>157491</th>\n",
       "      <td>12664381</td>\n",
       "      <td>-2.647260</td>\n",
       "      <td>0.339878</td>\n",
       "      <td>0.206507</td>\n",
       "      <td>-5.673180</td>\n",
       "      <td>0.063147</td>\n",
       "      <td>-0.825638</td>\n",
       "      <td>-8.198329</td>\n",
       "      <td>2017-02-10</td>\n",
       "      <td>-17.414630</td>\n",
       "    </tr>\n",
       "    <tr>\n",
       "      <th>3631</th>\n",
       "      <td>10979838</td>\n",
       "      <td>-2.647260</td>\n",
       "      <td>0.644194</td>\n",
       "      <td>-1.791531</td>\n",
       "      <td>-2.761598</td>\n",
       "      <td>-1.231372</td>\n",
       "      <td>-1.880403</td>\n",
       "      <td>-6.693889</td>\n",
       "      <td>2016-03-08</td>\n",
       "      <td>-17.650248</td>\n",
       "    </tr>\n",
       "    <tr>\n",
       "      <th>90781</th>\n",
       "      <td>11589514</td>\n",
       "      <td>-1.776949</td>\n",
       "      <td>-0.661264</td>\n",
       "      <td>-1.791531</td>\n",
       "      <td>-2.310925</td>\n",
       "      <td>-1.363869</td>\n",
       "      <td>-2.682025</td>\n",
       "      <td>-8.448588</td>\n",
       "      <td>2017-03-13</td>\n",
       "      <td>-17.712624</td>\n",
       "    </tr>\n",
       "  </tbody>\n",
       "</table>\n",
       "</div>"
      ],
      "text/plain": [
       "        parcelid  bedroomcnt  buildingqualitytypeid  calculatedbathnbr  \\\n",
       "88130   11807594   -1.776949               2.602381          -1.791531   \n",
       "81433   12660907   -2.647260              -1.313993           0.821613   \n",
       "72306   12231898   -1.776949               0.644194          -1.791531   \n",
       "44273   11330994   -1.776949               0.644194          -1.791531   \n",
       "76819   11810855   -2.647260              -0.292207           0.199127   \n",
       "41121   12059289   -1.776949               0.644194          -1.791531   \n",
       "89349   11524235   -2.647260              -0.292207           0.199127   \n",
       "157491  12664381   -2.647260               0.339878           0.206507   \n",
       "3631    10979838   -2.647260               0.644194          -1.791531   \n",
       "90781   11589514   -1.776949              -0.661264          -1.791531   \n",
       "\n",
       "        calculatedfinishedsquarefeet  lotsizesquarefeet  yearbuilt  \\\n",
       "88130                      -2.559796          -1.364967  -1.880403   \n",
       "81433                     -15.013332          -0.096297   0.482272   \n",
       "72306                      -3.217609          -0.970576  -1.964784   \n",
       "44273                      -3.205881           1.261461  -0.150588   \n",
       "76819                      -5.172037          -0.526313  -1.964784   \n",
       "41121                      -3.114202          -1.313725  -1.964784   \n",
       "89349                      -8.285421           1.052183   1.537037   \n",
       "157491                     -5.673180           0.063147  -0.825638   \n",
       "3631                       -2.761598          -1.231372  -1.880403   \n",
       "90781                      -2.310925          -1.363869  -2.682025   \n",
       "\n",
       "        structuretaxvaluedollarcnt transactiondate      score  \n",
       "88130                    -2.654792      2016-04-22 -14.630819  \n",
       "81433                     0.374094      2016-03-25 -14.764918  \n",
       "72306                    -4.534240      2016-07-15 -14.899885  \n",
       "44273                    -8.936016      2016-01-06 -15.243699  \n",
       "76819                    -6.073198      2016-10-07 -15.892259  \n",
       "41121                    -5.868466      2016-06-20 -16.473853  \n",
       "89349                    -8.887253      2016-02-26 -16.739380  \n",
       "157491                   -8.198329      2017-02-10 -17.414630  \n",
       "3631                     -6.693889      2016-03-08 -17.650248  \n",
       "90781                    -8.448588      2017-03-13 -17.712624  "
      ]
     },
     "execution_count": 15,
     "metadata": {},
     "output_type": "execute_result"
    }
   ],
   "source": [
    "# Get the ten least desirable houses in the dataset\n",
    "least_desirables = scoring_result_ordered[-10:]\n",
    "least_desirables = scoring_result_ordered.tail(n=10)\n",
    "\n",
    "print(least_desirables['buildingqualitytypeid'].mean())\n",
    "least_desirables"
   ]
  },
  {
   "cell_type": "markdown",
   "metadata": {},
   "source": [
    "# Task 2"
   ]
  },
  {
   "cell_type": "markdown",
   "metadata": {},
   "source": [
    "# Task 3"
   ]
  }
 ],
 "metadata": {
  "kernelspec": {
   "display_name": "Python 3",
   "language": "python",
   "name": "python3"
  },
  "language_info": {
   "codemirror_mode": {
    "name": "ipython",
    "version": 3
   },
   "file_extension": ".py",
   "mimetype": "text/x-python",
   "name": "python",
   "nbconvert_exporter": "python",
   "pygments_lexer": "ipython3",
   "version": "3.6.1"
  }
 },
 "nbformat": 4,
 "nbformat_minor": 2
}
