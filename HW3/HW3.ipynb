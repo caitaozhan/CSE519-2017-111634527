{
 "cells": [
  {
   "cell_type": "markdown",
   "metadata": {},
   "source": [
    "|**Name**| **ID #** | **Email** | **When Midterm**| \n",
    "| :--     |  :--      |  :--    | :--             |           \n",
    "|Xuan Xu |   111675940 | xuaxu@cs.stonybrook.edu        | 10/9                |             \n",
    "|Hae-Na Lee| 111207004 | haenalee@cs.stonybrook.edu | 10/13, 10/23 |            \n",
    "|Caitao Zhan| 111634527| caitao.zhan@stonybrook.edu | 10/16  |\n",
    "\n"
   ]
  },
  {
   "cell_type": "code",
   "execution_count": 9,
   "metadata": {
    "collapsed": true
   },
   "outputs": [],
   "source": [
    "# import all packages needed\n",
    "\n",
    "import pandas as pd\n",
    "import numpy as np\n",
    "import matplotlib.pyplot as plt\n",
    "%matplotlib inline\n",
    "import seaborn as sns\n",
    "import datetime, time\n",
    "import copy\n",
    "import random\n",
    "\n",
    "from sklearn.metrics.pairwise import manhattan_distances as man_dis\n",
    "from sklearn.metrics.pairwise import euclidean_distances as euc_dis\n",
    "\n",
    "from sklearn.cluster import KMeans"
   ]
  },
  {
   "cell_type": "code",
   "execution_count": null,
   "metadata": {},
   "outputs": [],
   "source": [
    "# Separately maintain both the raw data and its cleaned version.\n",
    "\n",
    "df_house16 = pd.read_csv('../data/properties_2016.csv')\n",
    "df_train16 = pd.read_csv('../data/train_2016_v2.csv')\n",
    "\n",
    "#df_house17 = pd.read_csv('../data/properties_2017.csv')\n",
    "#df_train17 = pd.read_csv('../data/train_2017.csv')"
   ]
  },
  {
   "cell_type": "markdown",
   "metadata": {},
   "source": [
    "# Task 1"
   ]
  },
  {
   "cell_type": "code",
   "execution_count": 4,
   "metadata": {
    "collapsed": true
   },
   "outputs": [],
   "source": [
    "# Read the property data\n",
    "property_data_2016 = df_house16\n",
    "property_data_2017 = df_house17"
   ]
  },
  {
   "cell_type": "code",
   "execution_count": 5,
   "metadata": {
    "collapsed": true
   },
   "outputs": [],
   "source": [
    "# Extract the features to analyze\n",
    "feature_list = ['parcelid','bedroomcnt','buildingqualitytypeid',\n",
    "                'calculatedbathnbr','calculatedfinishedsquarefeet',\n",
    "                'latitude','longitude','lotsizesquarefeet',\n",
    "                'yearbuilt','structuretaxvaluedollarcnt']\n",
    "\n",
    "feature_data_2016 = property_data_2016[feature_list]\n",
    "feature_data_2017 = property_data_2017[feature_list]"
   ]
  },
  {
   "cell_type": "code",
   "execution_count": 6,
   "metadata": {
    "collapsed": true
   },
   "outputs": [],
   "source": [
    "# Read the training data\n",
    "train_2016 = df_train16\n",
    "train_2017 = df_train17"
   ]
  },
  {
   "cell_type": "code",
   "execution_count": 7,
   "metadata": {
    "collapsed": true
   },
   "outputs": [],
   "source": [
    "# Combine the feature data and training data\n",
    "model_dataset_2016 = pd.merge(feature_data_2016, train_2016, on='parcelid')\n",
    "model_dataset_2017 = pd.merge(feature_data_2017, train_2017, on='parcelid')\n",
    "\n",
    "# Fill in missing feature data with mean values\n",
    "model_dataset_filled_2016 = model_dataset_2016.fillna(model_dataset_2016.mean())\n",
    "model_dataset_filled_2017 = model_dataset_2017.fillna(model_dataset_2017.mean())"
   ]
  },
  {
   "cell_type": "code",
   "execution_count": 8,
   "metadata": {
    "collapsed": true
   },
   "outputs": [],
   "source": [
    "model_dataset = [model_dataset_filled_2016, model_dataset_filled_2017]\n",
    "model_dataset = pd.concat(model_dataset, ignore_index=True)"
   ]
  },
  {
   "cell_type": "code",
   "execution_count": 9,
   "metadata": {
    "collapsed": true
   },
   "outputs": [],
   "source": [
    "# Preprocessing\n",
    "model_dataset_norm = model_dataset\n",
    "\n",
    "# Normalize the features with skewed distributions\n",
    "model_dataset_norm.calculatedbathnbr = np.log(model_dataset_norm.calculatedbathnbr)\n",
    "model_dataset_norm.calculatedfinishedsquarefeet = np.log(model_dataset_norm.calculatedfinishedsquarefeet)\n",
    "model_dataset_norm.lotsizesquarefeet = np.log(model_dataset_norm.lotsizesquarefeet)\n",
    "#model_dataset_norm.roomcnt = np.log(model_dataset_norm.roomcnt)\n",
    "model_dataset_norm.structuretaxvaluedollarcnt = np.log(model_dataset_norm.structuretaxvaluedollarcnt)"
   ]
  },
  {
   "cell_type": "code",
   "execution_count": 10,
   "metadata": {
    "collapsed": true
   },
   "outputs": [],
   "source": [
    "from sklearn import preprocessing\n",
    "\n",
    "model_dataset_norm.loc[:,'bedroomcnt':'structuretaxvaluedollarcnt'] = \\\n",
    " preprocessing.scale(model_dataset_norm.loc[:,'bedroomcnt':'structuretaxvaluedollarcnt'])"
   ]
  },
  {
   "cell_type": "code",
   "execution_count": 11,
   "metadata": {
    "collapsed": true
   },
   "outputs": [],
   "source": [
    "feature_list = ['parcelid','bedroomcnt','buildingqualitytypeid',\n",
    "                'calculatedbathnbr','calculatedfinishedsquarefeet',\n",
    "                'lotsizesquarefeet',#'roomcnt',\n",
    "                'yearbuilt','structuretaxvaluedollarcnt','transactiondate']\n",
    "\n",
    "scoring_dataset = model_dataset_norm[feature_list]\n",
    "\n",
    "desirability_score = pd.DataFrame(scoring_dataset.bedroomcnt\n",
    " - scoring_dataset.buildingqualitytypeid\n",
    " + scoring_dataset.calculatedbathnbr\n",
    " + scoring_dataset.calculatedfinishedsquarefeet\n",
    " + scoring_dataset.lotsizesquarefeet\n",
    " + scoring_dataset.yearbuilt\n",
    " + scoring_dataset.structuretaxvaluedollarcnt, columns=['score'])"
   ]
  },
  {
   "cell_type": "code",
   "execution_count": 12,
   "metadata": {
    "collapsed": true
   },
   "outputs": [],
   "source": [
    "# Append the desirability score to the dataset\n",
    "scoring_result = pd.concat([scoring_dataset, desirability_score], axis=1)"
   ]
  },
  {
   "cell_type": "code",
   "execution_count": 13,
   "metadata": {
    "collapsed": true
   },
   "outputs": [],
   "source": [
    "# Sort based on scores\n",
    "scoring_result_ordered = scoring_result.sort_values('score', ascending=False)"
   ]
  },
  {
   "cell_type": "code",
   "execution_count": 14,
   "metadata": {},
   "outputs": [
    {
     "name": "stdout",
     "output_type": "stream",
     "text": [
      "-0.7071146176209302\n"
     ]
    },
    {
     "data": {
      "text/html": [
       "<div>\n",
       "<style>\n",
       "    .dataframe thead tr:only-child th {\n",
       "        text-align: right;\n",
       "    }\n",
       "\n",
       "    .dataframe thead th {\n",
       "        text-align: left;\n",
       "    }\n",
       "\n",
       "    .dataframe tbody tr th {\n",
       "        vertical-align: top;\n",
       "    }\n",
       "</style>\n",
       "<table border=\"1\" class=\"dataframe\">\n",
       "  <thead>\n",
       "    <tr style=\"text-align: right;\">\n",
       "      <th></th>\n",
       "      <th>parcelid</th>\n",
       "      <th>bedroomcnt</th>\n",
       "      <th>buildingqualitytypeid</th>\n",
       "      <th>calculatedbathnbr</th>\n",
       "      <th>calculatedfinishedsquarefeet</th>\n",
       "      <th>lotsizesquarefeet</th>\n",
       "      <th>yearbuilt</th>\n",
       "      <th>structuretaxvaluedollarcnt</th>\n",
       "      <th>transactiondate</th>\n",
       "      <th>score</th>\n",
       "    </tr>\n",
       "  </thead>\n",
       "  <tbody>\n",
       "    <tr>\n",
       "      <th>141942</th>\n",
       "      <td>10862245</td>\n",
       "      <td>6.055848</td>\n",
       "      <td>0.339878</td>\n",
       "      <td>3.912069</td>\n",
       "      <td>5.338689</td>\n",
       "      <td>2.561337</td>\n",
       "      <td>0.988559</td>\n",
       "      <td>4.922572</td>\n",
       "      <td>2017-08-30</td>\n",
       "      <td>23.439196</td>\n",
       "    </tr>\n",
       "    <tr>\n",
       "      <th>60710</th>\n",
       "      <td>11650918</td>\n",
       "      <td>4.315227</td>\n",
       "      <td>-0.292207</td>\n",
       "      <td>3.434757</td>\n",
       "      <td>5.281846</td>\n",
       "      <td>2.402344</td>\n",
       "      <td>1.747990</td>\n",
       "      <td>5.050215</td>\n",
       "      <td>2016-01-11</td>\n",
       "      <td>22.524585</td>\n",
       "    </tr>\n",
       "    <tr>\n",
       "      <th>144297</th>\n",
       "      <td>11655139</td>\n",
       "      <td>3.444916</td>\n",
       "      <td>0.339878</td>\n",
       "      <td>4.309422</td>\n",
       "      <td>5.739236</td>\n",
       "      <td>2.787843</td>\n",
       "      <td>1.072940</td>\n",
       "      <td>5.269655</td>\n",
       "      <td>2017-04-07</td>\n",
       "      <td>22.284133</td>\n",
       "    </tr>\n",
       "    <tr>\n",
       "      <th>87193</th>\n",
       "      <td>11654953</td>\n",
       "      <td>3.444916</td>\n",
       "      <td>-0.292207</td>\n",
       "      <td>4.649799</td>\n",
       "      <td>5.673003</td>\n",
       "      <td>2.002286</td>\n",
       "      <td>1.326084</td>\n",
       "      <td>4.601712</td>\n",
       "      <td>2016-10-20</td>\n",
       "      <td>21.990007</td>\n",
       "    </tr>\n",
       "    <tr>\n",
       "      <th>115381</th>\n",
       "      <td>11641869</td>\n",
       "      <td>4.315227</td>\n",
       "      <td>0.339878</td>\n",
       "      <td>3.912069</td>\n",
       "      <td>5.878335</td>\n",
       "      <td>1.424656</td>\n",
       "      <td>1.410465</td>\n",
       "      <td>4.744048</td>\n",
       "      <td>2017-02-01</td>\n",
       "      <td>21.344922</td>\n",
       "    </tr>\n",
       "    <tr>\n",
       "      <th>61813</th>\n",
       "      <td>11670010</td>\n",
       "      <td>3.444916</td>\n",
       "      <td>-3.272181</td>\n",
       "      <td>3.685366</td>\n",
       "      <td>4.117994</td>\n",
       "      <td>0.474359</td>\n",
       "      <td>1.916753</td>\n",
       "      <td>4.409567</td>\n",
       "      <td>2016-12-29</td>\n",
       "      <td>21.321135</td>\n",
       "    </tr>\n",
       "    <tr>\n",
       "      <th>3971</th>\n",
       "      <td>11650903</td>\n",
       "      <td>5.185538</td>\n",
       "      <td>-0.292207</td>\n",
       "      <td>3.685366</td>\n",
       "      <td>4.768280</td>\n",
       "      <td>0.815932</td>\n",
       "      <td>1.452656</td>\n",
       "      <td>4.842481</td>\n",
       "      <td>2016-07-11</td>\n",
       "      <td>21.042459</td>\n",
       "    </tr>\n",
       "    <tr>\n",
       "      <th>79388</th>\n",
       "      <td>10883206</td>\n",
       "      <td>7.796470</td>\n",
       "      <td>-1.313993</td>\n",
       "      <td>3.154600</td>\n",
       "      <td>3.361436</td>\n",
       "      <td>0.881665</td>\n",
       "      <td>1.705800</td>\n",
       "      <td>2.331928</td>\n",
       "      <td>2016-09-27</td>\n",
       "      <td>20.545892</td>\n",
       "    </tr>\n",
       "    <tr>\n",
       "      <th>133332</th>\n",
       "      <td>11706270</td>\n",
       "      <td>11.277714</td>\n",
       "      <td>-1.313993</td>\n",
       "      <td>3.154600</td>\n",
       "      <td>2.637588</td>\n",
       "      <td>-0.587304</td>\n",
       "      <td>0.735415</td>\n",
       "      <td>1.464498</td>\n",
       "      <td>2017-07-20</td>\n",
       "      <td>19.996504</td>\n",
       "    </tr>\n",
       "    <tr>\n",
       "      <th>88506</th>\n",
       "      <td>10837531</td>\n",
       "      <td>7.796470</td>\n",
       "      <td>-1.313993</td>\n",
       "      <td>3.154600</td>\n",
       "      <td>2.883729</td>\n",
       "      <td>0.881665</td>\n",
       "      <td>1.621418</td>\n",
       "      <td>1.619915</td>\n",
       "      <td>2016-08-16</td>\n",
       "      <td>19.271790</td>\n",
       "    </tr>\n",
       "  </tbody>\n",
       "</table>\n",
       "</div>"
      ],
      "text/plain": [
       "        parcelid  bedroomcnt  buildingqualitytypeid  calculatedbathnbr  \\\n",
       "141942  10862245    6.055848               0.339878           3.912069   \n",
       "60710   11650918    4.315227              -0.292207           3.434757   \n",
       "144297  11655139    3.444916               0.339878           4.309422   \n",
       "87193   11654953    3.444916              -0.292207           4.649799   \n",
       "115381  11641869    4.315227               0.339878           3.912069   \n",
       "61813   11670010    3.444916              -3.272181           3.685366   \n",
       "3971    11650903    5.185538              -0.292207           3.685366   \n",
       "79388   10883206    7.796470              -1.313993           3.154600   \n",
       "133332  11706270   11.277714              -1.313993           3.154600   \n",
       "88506   10837531    7.796470              -1.313993           3.154600   \n",
       "\n",
       "        calculatedfinishedsquarefeet  lotsizesquarefeet  yearbuilt  \\\n",
       "141942                      5.338689           2.561337   0.988559   \n",
       "60710                       5.281846           2.402344   1.747990   \n",
       "144297                      5.739236           2.787843   1.072940   \n",
       "87193                       5.673003           2.002286   1.326084   \n",
       "115381                      5.878335           1.424656   1.410465   \n",
       "61813                       4.117994           0.474359   1.916753   \n",
       "3971                        4.768280           0.815932   1.452656   \n",
       "79388                       3.361436           0.881665   1.705800   \n",
       "133332                      2.637588          -0.587304   0.735415   \n",
       "88506                       2.883729           0.881665   1.621418   \n",
       "\n",
       "        structuretaxvaluedollarcnt transactiondate      score  \n",
       "141942                    4.922572      2017-08-30  23.439196  \n",
       "60710                     5.050215      2016-01-11  22.524585  \n",
       "144297                    5.269655      2017-04-07  22.284133  \n",
       "87193                     4.601712      2016-10-20  21.990007  \n",
       "115381                    4.744048      2017-02-01  21.344922  \n",
       "61813                     4.409567      2016-12-29  21.321135  \n",
       "3971                      4.842481      2016-07-11  21.042459  \n",
       "79388                     2.331928      2016-09-27  20.545892  \n",
       "133332                    1.464498      2017-07-20  19.996504  \n",
       "88506                     1.619915      2016-08-16  19.271790  "
      ]
     },
     "execution_count": 14,
     "metadata": {},
     "output_type": "execute_result"
    }
   ],
   "source": [
    "# Get the ten most desirable houses in the dataset\n",
    "most_desirables = scoring_result_ordered[:10]\n",
    "most_desirables = scoring_result_ordered.head(n=10)\n",
    "\n",
    "print(most_desirables['buildingqualitytypeid'].mean())\n",
    "most_desirables"
   ]
  },
  {
   "cell_type": "code",
   "execution_count": 15,
   "metadata": {},
   "outputs": [
    {
     "name": "stdout",
     "output_type": "stream",
     "text": [
      "0.2959364818476111\n"
     ]
    },
    {
     "data": {
      "text/html": [
       "<div>\n",
       "<style>\n",
       "    .dataframe thead tr:only-child th {\n",
       "        text-align: right;\n",
       "    }\n",
       "\n",
       "    .dataframe thead th {\n",
       "        text-align: left;\n",
       "    }\n",
       "\n",
       "    .dataframe tbody tr th {\n",
       "        vertical-align: top;\n",
       "    }\n",
       "</style>\n",
       "<table border=\"1\" class=\"dataframe\">\n",
       "  <thead>\n",
       "    <tr style=\"text-align: right;\">\n",
       "      <th></th>\n",
       "      <th>parcelid</th>\n",
       "      <th>bedroomcnt</th>\n",
       "      <th>buildingqualitytypeid</th>\n",
       "      <th>calculatedbathnbr</th>\n",
       "      <th>calculatedfinishedsquarefeet</th>\n",
       "      <th>lotsizesquarefeet</th>\n",
       "      <th>yearbuilt</th>\n",
       "      <th>structuretaxvaluedollarcnt</th>\n",
       "      <th>transactiondate</th>\n",
       "      <th>score</th>\n",
       "    </tr>\n",
       "  </thead>\n",
       "  <tbody>\n",
       "    <tr>\n",
       "      <th>88130</th>\n",
       "      <td>11807594</td>\n",
       "      <td>-1.776949</td>\n",
       "      <td>2.602381</td>\n",
       "      <td>-1.791531</td>\n",
       "      <td>-2.559796</td>\n",
       "      <td>-1.364967</td>\n",
       "      <td>-1.880403</td>\n",
       "      <td>-2.654792</td>\n",
       "      <td>2016-04-22</td>\n",
       "      <td>-14.630819</td>\n",
       "    </tr>\n",
       "    <tr>\n",
       "      <th>81433</th>\n",
       "      <td>12660907</td>\n",
       "      <td>-2.647260</td>\n",
       "      <td>-1.313993</td>\n",
       "      <td>0.821613</td>\n",
       "      <td>-15.013332</td>\n",
       "      <td>-0.096297</td>\n",
       "      <td>0.482272</td>\n",
       "      <td>0.374094</td>\n",
       "      <td>2016-03-25</td>\n",
       "      <td>-14.764918</td>\n",
       "    </tr>\n",
       "    <tr>\n",
       "      <th>72306</th>\n",
       "      <td>12231898</td>\n",
       "      <td>-1.776949</td>\n",
       "      <td>0.644194</td>\n",
       "      <td>-1.791531</td>\n",
       "      <td>-3.217609</td>\n",
       "      <td>-0.970576</td>\n",
       "      <td>-1.964784</td>\n",
       "      <td>-4.534240</td>\n",
       "      <td>2016-07-15</td>\n",
       "      <td>-14.899885</td>\n",
       "    </tr>\n",
       "    <tr>\n",
       "      <th>44273</th>\n",
       "      <td>11330994</td>\n",
       "      <td>-1.776949</td>\n",
       "      <td>0.644194</td>\n",
       "      <td>-1.791531</td>\n",
       "      <td>-3.205881</td>\n",
       "      <td>1.261461</td>\n",
       "      <td>-0.150588</td>\n",
       "      <td>-8.936016</td>\n",
       "      <td>2016-01-06</td>\n",
       "      <td>-15.243699</td>\n",
       "    </tr>\n",
       "    <tr>\n",
       "      <th>76819</th>\n",
       "      <td>11810855</td>\n",
       "      <td>-2.647260</td>\n",
       "      <td>-0.292207</td>\n",
       "      <td>0.199127</td>\n",
       "      <td>-5.172037</td>\n",
       "      <td>-0.526313</td>\n",
       "      <td>-1.964784</td>\n",
       "      <td>-6.073198</td>\n",
       "      <td>2016-10-07</td>\n",
       "      <td>-15.892259</td>\n",
       "    </tr>\n",
       "    <tr>\n",
       "      <th>41121</th>\n",
       "      <td>12059289</td>\n",
       "      <td>-1.776949</td>\n",
       "      <td>0.644194</td>\n",
       "      <td>-1.791531</td>\n",
       "      <td>-3.114202</td>\n",
       "      <td>-1.313725</td>\n",
       "      <td>-1.964784</td>\n",
       "      <td>-5.868466</td>\n",
       "      <td>2016-06-20</td>\n",
       "      <td>-16.473853</td>\n",
       "    </tr>\n",
       "    <tr>\n",
       "      <th>89349</th>\n",
       "      <td>11524235</td>\n",
       "      <td>-2.647260</td>\n",
       "      <td>-0.292207</td>\n",
       "      <td>0.199127</td>\n",
       "      <td>-8.285421</td>\n",
       "      <td>1.052183</td>\n",
       "      <td>1.537037</td>\n",
       "      <td>-8.887253</td>\n",
       "      <td>2016-02-26</td>\n",
       "      <td>-16.739380</td>\n",
       "    </tr>\n",
       "    <tr>\n",
       "      <th>157491</th>\n",
       "      <td>12664381</td>\n",
       "      <td>-2.647260</td>\n",
       "      <td>0.339878</td>\n",
       "      <td>0.206507</td>\n",
       "      <td>-5.673180</td>\n",
       "      <td>0.063147</td>\n",
       "      <td>-0.825638</td>\n",
       "      <td>-8.198329</td>\n",
       "      <td>2017-02-10</td>\n",
       "      <td>-17.414630</td>\n",
       "    </tr>\n",
       "    <tr>\n",
       "      <th>3631</th>\n",
       "      <td>10979838</td>\n",
       "      <td>-2.647260</td>\n",
       "      <td>0.644194</td>\n",
       "      <td>-1.791531</td>\n",
       "      <td>-2.761598</td>\n",
       "      <td>-1.231372</td>\n",
       "      <td>-1.880403</td>\n",
       "      <td>-6.693889</td>\n",
       "      <td>2016-03-08</td>\n",
       "      <td>-17.650248</td>\n",
       "    </tr>\n",
       "    <tr>\n",
       "      <th>90781</th>\n",
       "      <td>11589514</td>\n",
       "      <td>-1.776949</td>\n",
       "      <td>-0.661264</td>\n",
       "      <td>-1.791531</td>\n",
       "      <td>-2.310925</td>\n",
       "      <td>-1.363869</td>\n",
       "      <td>-2.682025</td>\n",
       "      <td>-8.448588</td>\n",
       "      <td>2017-03-13</td>\n",
       "      <td>-17.712624</td>\n",
       "    </tr>\n",
       "  </tbody>\n",
       "</table>\n",
       "</div>"
      ],
      "text/plain": [
       "        parcelid  bedroomcnt  buildingqualitytypeid  calculatedbathnbr  \\\n",
       "88130   11807594   -1.776949               2.602381          -1.791531   \n",
       "81433   12660907   -2.647260              -1.313993           0.821613   \n",
       "72306   12231898   -1.776949               0.644194          -1.791531   \n",
       "44273   11330994   -1.776949               0.644194          -1.791531   \n",
       "76819   11810855   -2.647260              -0.292207           0.199127   \n",
       "41121   12059289   -1.776949               0.644194          -1.791531   \n",
       "89349   11524235   -2.647260              -0.292207           0.199127   \n",
       "157491  12664381   -2.647260               0.339878           0.206507   \n",
       "3631    10979838   -2.647260               0.644194          -1.791531   \n",
       "90781   11589514   -1.776949              -0.661264          -1.791531   \n",
       "\n",
       "        calculatedfinishedsquarefeet  lotsizesquarefeet  yearbuilt  \\\n",
       "88130                      -2.559796          -1.364967  -1.880403   \n",
       "81433                     -15.013332          -0.096297   0.482272   \n",
       "72306                      -3.217609          -0.970576  -1.964784   \n",
       "44273                      -3.205881           1.261461  -0.150588   \n",
       "76819                      -5.172037          -0.526313  -1.964784   \n",
       "41121                      -3.114202          -1.313725  -1.964784   \n",
       "89349                      -8.285421           1.052183   1.537037   \n",
       "157491                     -5.673180           0.063147  -0.825638   \n",
       "3631                       -2.761598          -1.231372  -1.880403   \n",
       "90781                      -2.310925          -1.363869  -2.682025   \n",
       "\n",
       "        structuretaxvaluedollarcnt transactiondate      score  \n",
       "88130                    -2.654792      2016-04-22 -14.630819  \n",
       "81433                     0.374094      2016-03-25 -14.764918  \n",
       "72306                    -4.534240      2016-07-15 -14.899885  \n",
       "44273                    -8.936016      2016-01-06 -15.243699  \n",
       "76819                    -6.073198      2016-10-07 -15.892259  \n",
       "41121                    -5.868466      2016-06-20 -16.473853  \n",
       "89349                    -8.887253      2016-02-26 -16.739380  \n",
       "157491                   -8.198329      2017-02-10 -17.414630  \n",
       "3631                     -6.693889      2016-03-08 -17.650248  \n",
       "90781                    -8.448588      2017-03-13 -17.712624  "
      ]
     },
     "execution_count": 15,
     "metadata": {},
     "output_type": "execute_result"
    }
   ],
   "source": [
    "# Get the ten least desirable houses in the dataset\n",
    "least_desirables = scoring_result_ordered[-10:]\n",
    "least_desirables = scoring_result_ordered.tail(n=10)\n",
    "\n",
    "print(least_desirables['buildingqualitytypeid'].mean())\n",
    "least_desirables"
   ]
  },
  {
   "cell_type": "markdown",
   "metadata": {},
   "source": [
    "# 2 Task Two: Design Pairwise Distance Function"
   ]
  },
  {
   "cell_type": "markdown",
   "metadata": {},
   "source": [
    "Many algorithms in machine learning and data mining require a *pairwise distance function (distance function)* as a basic component. This chapter shows our insights and efforts on building decent distance functions. **First** we fill elaborate on our four steps of designing a distance function. **Then** introduce a baseline distance function. **Finally** we will introduce an advanced distance function.## 2.1 Four Steps\n",
    "We break down designing a pairwise distance function into four steps, as follows:"
   ]
  },
  {
   "cell_type": "markdown",
   "metadata": {},
   "source": [
    "## 2.1 Four Steps\n",
    "We break down designing a pairwise distance function into four steps, as follows:\n",
    "\n",
    "| Step | Description | Memo |\n",
    "|:--|:--|:--|\n",
    "|1| feature selection| curse of high dimension :( |\n",
    "|2| impute missing value| what is the distance between two NaN ?! |\n",
    "|3| normalization| z-score ~ |\n",
    "|4| what kind of distance| $L_k\\ (k = ?)$|"
   ]
  },
  {
   "cell_type": "markdown",
   "metadata": {},
   "source": [
    "### 2.1.1 Feature Selection"
   ]
  },
  {
   "cell_type": "markdown",
   "metadata": {},
   "source": [
    "In high dimensional space, the concept of proximity, distance or nearest neighbor may not be qualitatively meaningful[[1]]. For example, in high dimensions, the performance of similarity indeing structures degrades rapidly, thus each query requires the access of almost all the data[[2]]. In english, this is known as *curse of dimensionality*[[3]]. \n",
    "\n",
    "`[1]`: Charu C. Aggarwal, Alexander Hinneburg, and Daniel A. Keim. \"On the Surprising Behavior of Distance Metrics in High Dimensional Space\".\n",
    "\n",
    "`[2]`: Weber R., Schek H.-J., Blott S.. \"A Quantitative Analysis and Performance Study for Similarity-Search Methods in High-Dimensional Spaces\". VLDB Conference Proceedings, 1998.\n",
    "\n",
    "`[3]`: Wikipedia: Curse_of_dimensionality\n",
    "\n",
    "\n",
    "[1]:https://bib.dbvis.de/uploadedFiles/155.pdf\n",
    "[2]:https://pdfs.semanticscholar.org/63ea/eb0c48175065ffd096aad10aed712c6d7bbb.pdf\n",
    "[3]:https://en.wikipedia.org/wiki/Curse_of_dimensionality\n",
    "\n"
   ]
  },
  {
   "cell_type": "markdown",
   "metadata": {},
   "source": [
    "### 2.1.2 Distance Between Missing Values"
   ]
  },
  {
   "cell_type": "markdown",
   "metadata": {},
   "source": [
    "The **distance between two missing values** is an annoying part when designing a distance function. Of course, an easy way is replacing all the *NaN* with *mean*. But we do not think this is a good idea. The reason is as follows:\n",
    "\n",
    "**mean == mean**, but **np.nan != np.nan**.\n",
    "\n",
    "Suppose there is a feature named *bathroomcnt*. So, when replacing *NaN* with *mean*, then the distance of two *bathroomcnt = NaN* will be zero (*mean* - *mean* = 0). However, we believe the distance should not be zero. The distance should be zero, for example, when two houses both have 2 bathrooms."
   ]
  },
  {
   "cell_type": "markdown",
   "metadata": {},
   "source": [
    "### 2.1.3 Normalization"
   ]
  },
  {
   "cell_type": "markdown",
   "metadata": {},
   "source": [
    "If we do not normalize our variables before computing distances, there will be serious biases and screw up the distance metrics. Thus, we have to first normalize the values of each dimension by Z-scores, then compute distances.\n",
    "\n",
    "$$Z_i = (a_i-\\mu )/\\sigma $$\n",
    "\n",
    "where $\\mu$ is the mean of the distribution and $\\sigma$ the associated standard deviation."
   ]
  },
  {
   "cell_type": "markdown",
   "metadata": {},
   "source": [
    "### 2.1.4 What Kind of Distance"
   ]
  },
  {
   "cell_type": "markdown",
   "metadata": {},
   "source": [
    "*Manhatten* distance and *euclidian* distance are two commonly used distances. Actually, they are just two special cases of $L_K$ distance metric or norm, where *K=1* and *K=2* respectively.\n",
    "\n",
    "Research results[[1]] show that Manhattan distance metric ($L_1$ norm) is consistently more preferable than the Euclidean distance metric ($L_2$ norm) for high dimensional data science applications.\n",
    "\n",
    "[1]:https://bib.dbvis.de/uploadedFiles/155.pdf\n",
    "\n",
    "`[1]`: Charu C. Aggarwal, Alexander Hinneburg, and Daniel A. Keim. \"On the Surprising Behavior of Distance Metrics in High Dimensional Space\"."
   ]
  },
  {
   "cell_type": "markdown",
   "metadata": {},
   "source": [
    "## 2.2 Baseline Distance Function"
   ]
  },
  {
   "cell_type": "markdown",
   "metadata": {},
   "source": [
    "### 2.2.1 Location, Location, Location"
   ]
  },
  {
   "cell_type": "markdown",
   "metadata": {},
   "source": [
    "Britain real estate tycoon Harold Samuel said: 'There are three things that matter in property: location, location, location.' Let's visualize where are the locations of the properties in the data provided by [Kaggle](https://www.kaggle.com/c/zillow-prize-1/data)."
   ]
  },
  {
   "cell_type": "code",
   "execution_count": 3,
   "metadata": {},
   "outputs": [
    {
     "data": {
      "text/plain": [
       "<matplotlib.axes._subplots.AxesSubplot at 0x12b704f1cf8>"
      ]
     },
     "execution_count": 3,
     "metadata": {},
     "output_type": "execute_result"
    },
    {
     "data": {
      "image/png": "[encoded data removed]",
      "text/plain": [
       "<matplotlib.figure.Figure at 0x12b704f1470>"
      ]
     },
     "metadata": {},
     "output_type": "display_data"
    }
   ],
   "source": [
    "X = 'longitude'\n",
    "Y = 'latitude'\n",
    "\n",
    "df_ll = df_house16.loc[:,[X, Y]]\n",
    "df_ll.dropna(how='any', inplace=True)\n",
    "df_ll.plot(x=X, y=Y, kind='scatter', figsize=(10,10))"
   ]
  },
  {
   "cell_type": "markdown",
   "metadata": {},
   "source": [
    "![los angeles](./figure/los_angeles.png)"
   ]
  },
  {
   "cell_type": "markdown",
   "metadata": {},
   "source": [
    "After visualizing *longitude* and *latitude* and comparing them to google maps, we can find out that all the properties are in the greater Los Angeles area. Our **baseline distance function** will **only be based on locations: (longitude, latitude)**."
   ]
  },
  {
   "cell_type": "markdown",
   "metadata": {},
   "source": [
    "### 2.2.2 Replace *NaN* with a *Random* Value"
   ]
  },
  {
   "cell_type": "markdown",
   "metadata": {},
   "source": [
    "We believe the **distance between two *NaN* should not be *zero***. If we replace all the *NaN* with *mean*, then the distance will be *mean* - *mean* = *0*.\n",
    "\n",
    "After hard thinking, we finally decide to use the **random value imputation** method to replace *NaN*. It replaces *NaN* with a random value **sampled from its column (feature)**. Then the distance between two original *NaN* will be a *random value*. This will be a lot better than a *zero* distance.\n",
    "\n",
    "Furthermore, if one is a numeric number and the other is *NaN*, then the distance will be that numeric value minus a random value sampled from its column."
   ]
  },
  {
   "cell_type": "code",
   "execution_count": 4,
   "metadata": {
    "collapsed": true
   },
   "outputs": [],
   "source": [
    "def randomSampleImpute(df, feature_list):\n",
    "    \"\"\" Replace NaN with a random value sampled from its column(feature).\n",
    "    \n",
    "    Args:\n",
    "        df (pandas.DataFrame): data set\n",
    "        feature_list   (list): a list of features, each element is a string\n",
    "    \"\"\"\n",
    "    \n",
    "    for col in feature_list:\n",
    "        nan_indexes = np.argwhere(np.isnan(df[col]))             # which rows have NaN, array\n",
    "        valid_series = df[col].dropna()                          # drop the NaN, Series\n",
    "        random_values = valid_series.sample(n=nan_indexes.size)  # random samples, Series\n",
    "        \n",
    "        for nan_index, random_value in zip(nan_indexes, random_values):\n",
    "            df.iat[nan_index[0], df.columns.get_loc(col)] = random_value  # replace NaN"
   ]
  },
  {
   "cell_type": "markdown",
   "metadata": {},
   "source": [
    "### 2.2.3 Normalization"
   ]
  },
  {
   "cell_type": "code",
   "execution_count": 5,
   "metadata": {
    "collapsed": true
   },
   "outputs": [],
   "source": [
    "def z_score_norm(df, feature_list):\n",
    "    \"\"\" Dot the z-score method on selected features in feature_list. \n",
    "        z = (x - mean)/std\n",
    "    \n",
    "    Args:\n",
    "        df (pandas.DataFrame): data set\n",
    "        feature_list   (list): a list of features, each element is a string\n",
    "    \"\"\"\n",
    "    \n",
    "    for col in feature_list:\n",
    "        df[col] = (df[col] - df[col].mean())/(df[col].std())"
   ]
  },
  {
   "cell_type": "markdown",
   "metadata": {},
   "source": [
    "### 2.2.4 The Distance Function"
   ]
  },
  {
   "cell_type": "code",
   "execution_count": 6,
   "metadata": {
    "collapsed": true
   },
   "outputs": [],
   "source": [
    "def pairwise_distance_baseline(s1, s2, feature_list):\n",
    "    \"\"\" Compute the distance between two series using euclidian distance. \n",
    "    \n",
    "    Args:\n",
    "        s1 (Series): a row in a dataframe, i.e. a property.\n",
    "        s2 (Series): a row in a dataframe, i.e. a property.\n",
    "    \"\"\"\n",
    "    X  = feature_list[0]\n",
    "    Y  = feature_list[1]\n",
    "    x1 = s1.at[X]\n",
    "    y1 = s1.at[Y]\n",
    "    x2 = s2.at[X]\n",
    "    y2 = s2.at[Y]\n",
    "    return euc_dis([[x1,y1]], [[x2,y2]])"
   ]
  },
  {
   "cell_type": "markdown",
   "metadata": {},
   "source": [
    "### 2.2.5 Example \n",
    "In this section, we will caculate the distance between two randomly selected properites. "
   ]
  },
  {
   "cell_type": "markdown",
   "metadata": {},
   "source": [
    "First clean the data."
   ]
  },
  {
   "cell_type": "code",
   "execution_count": 8,
   "metadata": {
    "collapsed": true
   },
   "outputs": [],
   "source": [
    "# Operate the raw data and cleaned data separately.\n",
    "df_house16_clean = copy.deepcopy(df_house16)"
   ]
  },
  {
   "cell_type": "code",
   "execution_count": 9,
   "metadata": {
    "collapsed": true
   },
   "outputs": [],
   "source": [
    "feature_list = ['longitude', 'latitude']\n",
    "randomSampleImpute(df_house16_clean, feature_list)   # Missing value imputation\n",
    "z_score_norm(df_house16_clean, feature_list)         # Normalization"
   ]
  },
  {
   "cell_type": "markdown",
   "metadata": {},
   "source": [
    "Then calculate the distance between two randomly selected properties."
   ]
  },
  {
   "cell_type": "code",
   "execution_count": 14,
   "metadata": {},
   "outputs": [
    {
     "name": "stdout",
     "output_type": "stream",
     "text": [
      "The distance between #693607 and #1955271 is 1.175066\n"
     ]
    }
   ],
   "source": [
    "row1 = random.randint(0, 2985217)\n",
    "row2 = random.randint(0, 2985217)\n",
    "\n",
    "dis = pairwise_distance_baseline(df_house16_clean.iloc[row1], df_house16_clean.iloc[row2], feature_list)\n",
    "print('The distance between #%d and #%d is %f' % (row1, row2, dis))"
   ]
  },
  {
   "cell_type": "code",
   "execution_count": 15,
   "metadata": {
    "collapsed": true
   },
   "outputs": [],
   "source": [
    "del df_house16_clean                                 # release memory"
   ]
  },
  {
   "cell_type": "markdown",
   "metadata": {},
   "source": [
    "# Task 3: Clustering"
   ]
  },
  {
   "cell_type": "code",
   "execution_count": 6,
   "metadata": {},
   "outputs": [],
   "source": [
    "feature_list = ['longitude', 'latitude']\n",
    "df_ll = df_house16[feature_list]"
   ]
  },
  {
   "cell_type": "code",
   "execution_count": null,
   "metadata": {},
   "outputs": [],
   "source": [
    "randomSampleImpute(df_ll, feature_list)\n",
    "z_score_norm(df_ll, feature_list)"
   ]
  },
  {
   "cell_type": "code",
   "execution_count": 10,
   "metadata": {},
   "outputs": [
    {
     "data": {
      "text/plain": [
       "KMeans(algorithm='auto', copy_x=True, init='k-means++', max_iter=300,\n",
       "    n_clusters=15, n_init=10, n_jobs=1, precompute_distances='auto',\n",
       "    random_state=None, tol=0.0001, verbose=0)"
      ]
     },
     "execution_count": 10,
     "metadata": {},
     "output_type": "execute_result"
    }
   ],
   "source": [
    "kmeans = KMeans(init='k-means++', n_clusters=15)\n",
    "kmeans.fit(df_ll)"
   ]
  },
  {
   "cell_type": "code",
   "execution_count": 11,
   "metadata": {},
   "outputs": [
    {
     "data": {
      "image/png": "[encoded data removed]",
      "text/plain": [
       "<matplotlib.figure.Figure at 0x1a18c1de3c8>"
      ]
     },
     "metadata": {},
     "output_type": "display_data"
    }
   ],
   "source": [
    "# Step size of the mesh. Decrease to increase the quality of the VQ.\n",
    "h = .02     # point in the mesh [x_min, x_max]x[y_min, y_max].\n",
    "\n",
    "# Plot the decision boundary. For that, we will assign a color to each\n",
    "x_min, x_max = df_ll.iloc[:, 0].min(), df_ll.iloc[:, 0].max()\n",
    "y_min, y_max = df_ll.iloc[:, 1].min(), df_ll.iloc[:, 1].max()\n",
    "xx, yy = np.meshgrid(np.arange(x_min, x_max, h), np.arange(y_min, y_max, h))\n",
    "\n",
    "# Obtain labels for each point in mesh. Use last trained model.\n",
    "Z = kmeans.predict(np.c_[xx.ravel(), yy.ravel()])\n",
    "\n",
    "# Put the result into a color plot\n",
    "Z = Z.reshape(xx.shape)\n",
    "plt.figure(figsize=(10,10))\n",
    "plt.clf()\n",
    "plt.imshow(Z, interpolation='nearest',\n",
    "           extent=(xx.min(), xx.max(), yy.min(), yy.max()),\n",
    "           cmap=plt.cm.Paired,\n",
    "           aspect='auto', origin='lower')\n",
    "\n",
    "plt.plot(df_ll.iloc[:, 0], df_ll.iloc[:, 1], 'k.', markersize=2)\n",
    "# Plot the centroids as a white X\n",
    "centroids = kmeans.cluster_centers_\n",
    "plt.scatter(centroids[:, 0], centroids[:, 1],\n",
    "            marker='x', s=169, linewidths=3,\n",
    "            color='w', zorder=10)\n",
    "plt.title('K-means clustering: the Greater Los Angeles Area')\n",
    "plt.xlim(x_min, x_max)\n",
    "plt.ylim(y_min, y_max)\n",
    "plt.xticks(())\n",
    "plt.yticks(())\n",
    "plt.show()"
   ]
  }
 ],
 "metadata": {
  "kernelspec": {
   "display_name": "Python 3",
   "language": "python",
   "name": "python3"
  },
  "language_info": {
   "codemirror_mode": {
    "name": "ipython",
    "version": 3
   },
   "file_extension": ".py",
   "mimetype": "text/x-python",
   "name": "python",
   "nbconvert_exporter": "python",
   "pygments_lexer": "ipython3",
   "version": "3.6.1"
  }
 },
 "nbformat": 4,
 "nbformat_minor": 2
}
