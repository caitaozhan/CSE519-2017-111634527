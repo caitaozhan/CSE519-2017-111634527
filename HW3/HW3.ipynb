{
 "cells": [
  {
   "cell_type": "markdown",
   "metadata": {},
   "source": [
    "|**Name**| **ID #** | **Email** | **When Midterm**|\n",
    "| :--     |  :--      |  :--    | :--             |          \n",
    "|Xuan Xu |   111675940 | xuaxu@cs.stonybrook.edu        | 10/9                |             \n",
    "|Hae-Na Lee| 111207004 | haenalee@cs.stonybrook.edu | 10/13, 10/23 |            \n",
    "|Caitao Zhan| 111634527| caitao.zhan@stonybrook.edu | 10/16  |\n",
    "\n"
   ]
  },
  {
   "cell_type": "markdown",
   "metadata": {},
   "source": [
    "\n",
    "Table of  | Content\n",
    ":---  |:---\n",
    "**1** |**Task 1: Scoring Function to Rank Houses**\n",
    "1.1   |Scoring Function\n",
    "1.2   |Distribution of Desirability Scores\n",
    "1.3   |Score Analysis\n",
    "1.3.1 |The Most Desirable Houses\n",
    "1.3.2 |The Least Desirable Houses\n",
    "**2** |**Task 2: Design Pairwise Distance Function**\n",
    "2.1   |Four Aspects of a Distance Function\n",
    "2.2   |Baseline Distance Function\n",
    "2.2.1 |Design\n",
    "2.2.2 |Example\n",
    "2.3   |Advanced Distance Function\n",
    "2.3.1 |Design\n",
    "2.3.2 |Experiment\n",
    "2.4   |Discussion\n",
    "**3** |**Task 3: Clustering**\n",
    "3.1   |KMeans + Euclidean (pairwise_distance_baseline)\n",
    "3.2   |DBSCAN + Manhanttan (pairwise_distance_advance)\n",
    "3.2.1 |Data Cleaning\n",
    "3.2.2 |Do the Clustering and Visualization\n",
    "3.3   |Discussion\n",
    "**4** |**Task 4: Adding External Data Set**\n",
    "4.1   |External Data\n",
    "4.1.1 |Import the Data\n",
    "4.1.2 |Choose Features\n",
    "4.2   |Prediction\n",
    "4.3   |Discussion\n",
    "**5** |**Task 5: Prediction Model**\n",
    "5.1   |Modified Prediction Model\n",
    "5.2   |Discussion\n",
    "**6** |**Task 6: Permutation Tests**\n",
    "6.1   |Preparation for test\n",
    "6.2   |120 Tests\n",
    "6.3   |Discussion\n"
   ]
  },
  {
   "cell_type": "code",
   "execution_count": 16,
   "metadata": {
    "collapsed": true
   },
   "outputs": [],
   "source": [
    "# import all packages needed\n",
    "\n",
    "import pandas as pd\n",
    "import numpy as np\n",
    "import scipy as sp\n",
    "import matplotlib.pyplot as plt\n",
    "%matplotlib inline\n",
    "import seaborn as sns\n",
    "import datetime, time\n",
    "import copy\n",
    "import random\n",
    "\n",
    "from sklearn import preprocessing\n",
    "from sklearn import linear_model\n",
    "from sklearn.metrics import mean_absolute_error\n",
    "from sklearn.metrics.pairwise import manhattan_distances as man_dis\n",
    "from sklearn.metrics.pairwise import euclidean_distances as euc_dis\n",
    "\n",
    "from sklearn.cluster import KMeans\n",
    "from sklearn.cluster import DBSCAN"
   ]
  },
  {
   "cell_type": "code",
   "execution_count": 17,
   "metadata": {},
   "outputs": [
    {
     "name": "stderr",
     "output_type": "stream",
     "text": [
      "/Users/haenalee/anaconda/lib/python3.6/site-packages/IPython/core/interactiveshell.py:2717: DtypeWarning: Columns (22,32,34,49,55) have mixed types. Specify dtype option on import or set low_memory=False.\n",
      "  interactivity=interactivity, compiler=compiler, result=result)\n",
      "/Users/haenalee/anaconda/lib/python3.6/site-packages/IPython/core/interactiveshell.py:2717: DtypeWarning: Columns (49) have mixed types. Specify dtype option on import or set low_memory=False.\n",
      "  interactivity=interactivity, compiler=compiler, result=result)\n"
     ]
    }
   ],
   "source": [
    "# Separately maintain both the raw data and its cleaned version.\n",
    "\n",
    "df_house16 = pd.read_csv('../data/properties_2016.csv')\n",
    "df_train16 = pd.read_csv('../data/train_2016_v2.csv')\n",
    "\n",
    "df_house17 = pd.read_csv('../data/properties_2017.csv')\n",
    "df_train17 = pd.read_csv('../data/train_2017.csv')"
   ]
  },
  {
   "cell_type": "markdown",
   "metadata": {},
   "source": [
    "# 1 Task 1: Scoring Function to Rank Houses"
   ]
  },
  {
   "cell_type": "markdown",
   "metadata": {},
   "source": [
    "## 1.1 Scoring Function"
   ]
  },
  {
   "cell_type": "markdown",
   "metadata": {},
   "source": [
    "A scoring function is designed to rank houses by desirability, which reflects cost or value.\n",
    "We selected the housing variables considered to be effective on the housing value. The real-estate site ([1]) emphasized that property location is important and also mentioned that the factors such as physical state, neighborhood and layout affect property price. Therefore, the following variables are chosen to be used for the scoring function:\n",
    "\n",
    "|  | Variable |\n",
    "|:--|:--|\n",
    "|1| *bedroomcnt* |\n",
    "|2| *buildingqualitytypeid* |\n",
    "|3| *calculatedbathnbr* |\n",
    "|4| *calculatedfinishedsquarefeet* |\n",
    "|5| *lotsizesquarefeet* |\n",
    "|6| *yearbuilt* |\n",
    "\n",
    "The scoring function is a linear combination of normalized variable values. The vital variables such as *buildingqualitytypeid* and *calculatedfinishedsquarefeet* are given higher weights than those of other variables.\n",
    "\n",
    "Variables relevant to housing location (e.g. *latitude*, *longitude*) are not used to build the scoring function because the values of variables are not proper to be used in a linear combination, i.e. the higher value of latitude may not mean the higher desirability. Instead they are utilized to verify how well the scoring function works.\n",
    "\n",
    "`[1]`: 10 Timeless Factors That Affect Property Price, http://www.propertylogy.com/knowledge/10-timeless-factors-that-affect-property-price/"
   ]
  },
  {
   "cell_type": "code",
   "execution_count": 3,
   "metadata": {
    "collapsed": true
   },
   "outputs": [],
   "source": [
    "# Read the property data\n",
    "property_2017 = df_house17"
   ]
  },
  {
   "cell_type": "code",
   "execution_count": 4,
   "metadata": {
    "collapsed": true
   },
   "outputs": [],
   "source": [
    "# Extract the features to analyze\n",
    "feature_list = ['parcelid','bedroomcnt','buildingqualitytypeid',\n",
    "                'calculatedbathnbr','calculatedfinishedsquarefeet',\n",
    "                'lotsizesquarefeet','yearbuilt','structuretaxvaluedollarcnt',\n",
    "                'latitude','longitude','regionidcity','regionidzip']\n",
    "\n",
    "feature_2017 = property_2017[feature_list]"
   ]
  },
  {
   "cell_type": "code",
   "execution_count": 5,
   "metadata": {
    "collapsed": true
   },
   "outputs": [],
   "source": [
    "# Fill in missing feature data with mean values\n",
    "model_dataset_filled_2017 = feature_2017.fillna(feature_2017.mean())"
   ]
  },
  {
   "cell_type": "code",
   "execution_count": 6,
   "metadata": {
    "collapsed": true
   },
   "outputs": [],
   "source": [
    "# Preprocessing Step\n",
    "#model_dataset_norm = model_dataset\n",
    "model_dataset_norm = model_dataset_filled_2017\n",
    "\n",
    "# Normalize the features with skewed distributions\n",
    "model_dataset_norm.calculatedbathnbr = np.log(model_dataset_norm.calculatedbathnbr)\n",
    "model_dataset_norm.calculatedfinishedsquarefeet = np.log(model_dataset_norm.calculatedfinishedsquarefeet)\n",
    "model_dataset_norm.lotsizesquarefeet = np.log(model_dataset_norm.lotsizesquarefeet)\n",
    "#model_dataset_norm.roomcnt = np.log(model_dataset_norm.roomcnt)\n",
    "model_dataset_norm.structuretaxvaluedollarcnt = np.log(model_dataset_norm.structuretaxvaluedollarcnt)"
   ]
  },
  {
   "cell_type": "code",
   "execution_count": 7,
   "metadata": {
    "collapsed": true
   },
   "outputs": [],
   "source": [
    "# Normalize all features\n",
    "\n",
    "model_dataset_norm.loc[:,'bedroomcnt':'structuretaxvaluedollarcnt'] = \\\n",
    " preprocessing.scale(model_dataset_norm.loc[:,'bedroomcnt':'structuretaxvaluedollarcnt'])"
   ]
  },
  {
   "cell_type": "code",
   "execution_count": 8,
   "metadata": {
    "collapsed": true
   },
   "outputs": [],
   "source": [
    "# Scoring function\n",
    "feature_list = ['parcelid','bedroomcnt','buildingqualitytypeid',\n",
    "                'calculatedbathnbr','calculatedfinishedsquarefeet',\n",
    "                'lotsizesquarefeet','yearbuilt',\n",
    "                'structuretaxvaluedollarcnt','latitude','longitude','regionidcity','regionidzip']\n",
    "scoring_dataset = model_dataset_norm[feature_list]\n",
    "\n",
    "desirability_score = pd.DataFrame(scoring_dataset.bedroomcnt*0.8\n",
    " - scoring_dataset.buildingqualitytypeid\n",
    " + scoring_dataset.calculatedbathnbr*0.8\n",
    " + scoring_dataset.calculatedfinishedsquarefeet\n",
    " + scoring_dataset.lotsizesquarefeet*0.8\n",
    " + scoring_dataset.yearbuilt, columns=['score'])\n",
    "\n",
    "# simple linear combination\n",
    "# structuretaxvaluedollarcnt\n",
    "# most desirables: 3.921996353698721\n",
    "# lease desirables: -0.4135856986788523"
   ]
  },
  {
   "cell_type": "code",
   "execution_count": 9,
   "metadata": {
    "collapsed": true
   },
   "outputs": [],
   "source": [
    "# Append the desirability score to the dataset\n",
    "scoring_result = pd.concat([scoring_dataset, desirability_score], axis=1)"
   ]
  },
  {
   "cell_type": "markdown",
   "metadata": {},
   "source": [
    "## 1.2 Distribution of Desirability Scores"
   ]
  },
  {
   "cell_type": "markdown",
   "metadata": {},
   "source": [
    "The histogram shows the distribution of desirability scores."
   ]
  },
  {
   "cell_type": "code",
   "execution_count": 12,
   "metadata": {},
   "outputs": [
    {
     "data": {
      "image/png": "[encoded data removed]",
      "text/plain": [
       "<matplotlib.figure.Figure at 0x110e74208>"
      ]
     },
     "metadata": {},
     "output_type": "display_data"
    }
   ],
   "source": [
    "# Plot. Histogram of score\n",
    "num_bins = 50\n",
    "ax = plt.subplot()\n",
    "n, bins, patches = ax.hist(scoring_result.score, num_bins)\n",
    "\n",
    "ax.set_xlabel('$score$', fontsize=12)\n",
    "ax.set_ylabel('Number of houses', fontsize=12)\n",
    "#ax.set_title('Histogram of $score$', fontsize=12)\n",
    "\n",
    "plt.tight_layout()\n",
    "plt.show()"
   ]
  },
  {
   "cell_type": "markdown",
   "metadata": {},
   "source": [
    "## 1.3 Score Analysis"
   ]
  },
  {
   "cell_type": "markdown",
   "metadata": {},
   "source": [
    "The scores were ranked to figure out the most and least desirable houses. The variable *regionidcity* is also included in the scoring tables for analysis. It is used to decide whether the most desirable or least desirable houses are located in common areas."
   ]
  },
  {
   "cell_type": "markdown",
   "metadata": {},
   "source": [
    "### 1.3.1 The Most Desirable Houses"
   ]
  },
  {
   "cell_type": "markdown",
   "metadata": {},
   "source": [
    "The score table and strip plot show the tendency of the most desirable houses. Among the ten most desirable houses, six houses are found to be located in the same city. The city is identified to have the variable *regionidcity* value of 12447."
   ]
  },
  {
   "cell_type": "code",
   "execution_count": 13,
   "metadata": {
    "collapsed": true
   },
   "outputs": [],
   "source": [
    "# Sort based on scores\n",
    "scoring_result_ordered = scoring_result.sort_values('score', ascending=False)"
   ]
  },
  {
   "cell_type": "code",
   "execution_count": 14,
   "metadata": {},
   "outputs": [
    {
     "data": {
      "text/html": [
       "<div>\n",
       "<style>\n",
       "    .dataframe thead tr:only-child th {\n",
       "        text-align: right;\n",
       "    }\n",
       "\n",
       "    .dataframe thead th {\n",
       "        text-align: left;\n",
       "    }\n",
       "\n",
       "    .dataframe tbody tr th {\n",
       "        vertical-align: top;\n",
       "    }\n",
       "</style>\n",
       "<table border=\"1\" class=\"dataframe\">\n",
       "  <thead>\n",
       "    <tr style=\"text-align: right;\">\n",
       "      <th></th>\n",
       "      <th>parcelid</th>\n",
       "      <th>score</th>\n",
       "      <th>regionidcity</th>\n",
       "    </tr>\n",
       "  </thead>\n",
       "  <tbody>\n",
       "    <tr>\n",
       "      <th>1</th>\n",
       "      <td>11779475</td>\n",
       "      <td>27.336368</td>\n",
       "      <td>12447.000000</td>\n",
       "    </tr>\n",
       "    <tr>\n",
       "      <th>2</th>\n",
       "      <td>12325767</td>\n",
       "      <td>23.707704</td>\n",
       "      <td>6395.000000</td>\n",
       "    </tr>\n",
       "    <tr>\n",
       "      <th>3</th>\n",
       "      <td>10960072</td>\n",
       "      <td>21.260040</td>\n",
       "      <td>396054.000000</td>\n",
       "    </tr>\n",
       "    <tr>\n",
       "      <th>4</th>\n",
       "      <td>11641900</td>\n",
       "      <td>20.314718</td>\n",
       "      <td>12447.000000</td>\n",
       "    </tr>\n",
       "    <tr>\n",
       "      <th>5</th>\n",
       "      <td>11642367</td>\n",
       "      <td>20.284545</td>\n",
       "      <td>12447.000000</td>\n",
       "    </tr>\n",
       "    <tr>\n",
       "      <th>6</th>\n",
       "      <td>11645396</td>\n",
       "      <td>20.189754</td>\n",
       "      <td>12447.000000</td>\n",
       "    </tr>\n",
       "    <tr>\n",
       "      <th>7</th>\n",
       "      <td>11349969</td>\n",
       "      <td>19.936472</td>\n",
       "      <td>10734.000000</td>\n",
       "    </tr>\n",
       "    <tr>\n",
       "      <th>8</th>\n",
       "      <td>167638338</td>\n",
       "      <td>19.771696</td>\n",
       "      <td>34987.659995</td>\n",
       "    </tr>\n",
       "    <tr>\n",
       "      <th>9</th>\n",
       "      <td>11654998</td>\n",
       "      <td>19.508479</td>\n",
       "      <td>12447.000000</td>\n",
       "    </tr>\n",
       "    <tr>\n",
       "      <th>10</th>\n",
       "      <td>12651052</td>\n",
       "      <td>19.482287</td>\n",
       "      <td>12447.000000</td>\n",
       "    </tr>\n",
       "  </tbody>\n",
       "</table>\n",
       "</div>"
      ],
      "text/plain": [
       "     parcelid      score   regionidcity\n",
       "1    11779475  27.336368   12447.000000\n",
       "2    12325767  23.707704    6395.000000\n",
       "3    10960072  21.260040  396054.000000\n",
       "4    11641900  20.314718   12447.000000\n",
       "5    11642367  20.284545   12447.000000\n",
       "6    11645396  20.189754   12447.000000\n",
       "7    11349969  19.936472   10734.000000\n",
       "8   167638338  19.771696   34987.659995\n",
       "9    11654998  19.508479   12447.000000\n",
       "10   12651052  19.482287   12447.000000"
      ]
     },
     "execution_count": 14,
     "metadata": {},
     "output_type": "execute_result"
    }
   ],
   "source": [
    "# Get the ten most desirable houses in the dataset\n",
    "most_desirables = scoring_result_ordered[:10]\n",
    "most_desirables = most_desirables.reset_index(drop=True)\n",
    "\n",
    "most_desirables.index = most_desirables.index + 1\n",
    "most_desirables.loc[:,['parcelid','score','regionidcity']]"
   ]
  },
  {
   "cell_type": "markdown",
   "metadata": {},
   "source": [
    "The strip plot of the most desirable houses is drawn using the variable *regionidcity* and scores. Since *regionidcity* is distinct to each city and it is a categorical data, plotting as a strip plot is suitable.\n",
    "\n",
    "In particular, the plot indicates that there are more houses with the scores between 19 and 21 regardless of *regionidcity* values. The top-ranked house is outstanding with the highest score of 27.336368."
   ]
  },
  {
   "cell_type": "code",
   "execution_count": 22,
   "metadata": {},
   "outputs": [
    {
     "data": {
      "text/plain": [
       "<matplotlib.axes._subplots.AxesSubplot at 0x15048f748>"
      ]
     },
     "execution_count": 22,
     "metadata": {},
     "output_type": "execute_result"
    },
    {
     "data": {
      "image/png": "[encoded data removed]",
      "text/plain": [
       "<matplotlib.figure.Figure at 0x11d4f15c0>"
      ]
     },
     "metadata": {},
     "output_type": "display_data"
    }
   ],
   "source": [
    "# Stripplot of the most desirable housing scores\n",
    "sns.set(style=\"whitegrid\", color_codes=True)\n",
    "\n",
    "ax = plt.subplot()\n",
    "sns.stripplot(x=\"regionidcity\", y=\"score\", hue=\"regionidcity\", data=most_desirables, jitter=True)"
   ]
  },
  {
   "cell_type": "markdown",
   "metadata": {},
   "source": [
    "We found out the location of the most desirable houses with variables *longitude* and *latitude*. For the most desirable housing data, the average values of *longitude* and *latitude* were calculated to locate a city on the map. Those values indicated Beverly Hills in Los Angeles County, which is a plausible area to have a number of valuable houses."
   ]
  },
  {
   "cell_type": "code",
   "execution_count": 23,
   "metadata": {},
   "outputs": [
    {
     "name": "stdout",
     "output_type": "stream",
     "text": [
      "Average location of most desirable houses\n",
      " Longitude : -118.373906\n",
      " Latitude : 34.0631053\n"
     ]
    }
   ],
   "source": [
    "# Compute the average location of most desirable houses\n",
    "print('Average location of most desirable houses')\n",
    "print(' Longitude : ' + str(most_desirables['longitude'].mean()/1e+6))\n",
    "print(' Latitude : ' + str(most_desirables['latitude'].mean()/1e+6))"
   ]
  },
  {
   "cell_type": "markdown",
   "metadata": {},
   "source": [
    "![LatLong mostdesirables](./figure/LatLong_mostdesirables.png)"
   ]
  },
  {
   "cell_type": "markdown",
   "metadata": {},
   "source": [
    "### 1.3.2 The Least Desirable Houses"
   ]
  },
  {
   "cell_type": "markdown",
   "metadata": {},
   "source": [
    "The same analysis was performed for the least desirable houses. However, the least desirable houses found with the scoring function does not show a specific tendency. They show a diffuse distribution across regions showing diverse *regionidcity* values. This is represented in the strip plot of the least desirable houses below. "
   ]
  },
  {
   "cell_type": "code",
   "execution_count": 24,
   "metadata": {},
   "outputs": [
    {
     "data": {
      "text/html": [
       "<div>\n",
       "<style>\n",
       "    .dataframe thead tr:only-child th {\n",
       "        text-align: right;\n",
       "    }\n",
       "\n",
       "    .dataframe thead th {\n",
       "        text-align: left;\n",
       "    }\n",
       "\n",
       "    .dataframe tbody tr th {\n",
       "        vertical-align: top;\n",
       "    }\n",
       "</style>\n",
       "<table border=\"1\" class=\"dataframe\">\n",
       "  <thead>\n",
       "    <tr style=\"text-align: right;\">\n",
       "      <th></th>\n",
       "      <th>parcelid</th>\n",
       "      <th>score</th>\n",
       "      <th>regionidcity</th>\n",
       "    </tr>\n",
       "  </thead>\n",
       "  <tbody>\n",
       "    <tr>\n",
       "      <th>1</th>\n",
       "      <td>11243663</td>\n",
       "      <td>-15.884499</td>\n",
       "      <td>13232.0</td>\n",
       "    </tr>\n",
       "    <tr>\n",
       "      <th>2</th>\n",
       "      <td>11651552</td>\n",
       "      <td>-16.064363</td>\n",
       "      <td>12447.0</td>\n",
       "    </tr>\n",
       "    <tr>\n",
       "      <th>3</th>\n",
       "      <td>12152324</td>\n",
       "      <td>-16.081543</td>\n",
       "      <td>396551.0</td>\n",
       "    </tr>\n",
       "    <tr>\n",
       "      <th>4</th>\n",
       "      <td>12660907</td>\n",
       "      <td>-16.139544</td>\n",
       "      <td>33612.0</td>\n",
       "    </tr>\n",
       "    <tr>\n",
       "      <th>5</th>\n",
       "      <td>12147406</td>\n",
       "      <td>-16.657134</td>\n",
       "      <td>50749.0</td>\n",
       "    </tr>\n",
       "    <tr>\n",
       "      <th>6</th>\n",
       "      <td>11490532</td>\n",
       "      <td>-16.866039</td>\n",
       "      <td>33612.0</td>\n",
       "    </tr>\n",
       "    <tr>\n",
       "      <th>7</th>\n",
       "      <td>12586087</td>\n",
       "      <td>-17.343808</td>\n",
       "      <td>10723.0</td>\n",
       "    </tr>\n",
       "    <tr>\n",
       "      <th>8</th>\n",
       "      <td>12201284</td>\n",
       "      <td>-18.629019</td>\n",
       "      <td>396053.0</td>\n",
       "    </tr>\n",
       "    <tr>\n",
       "      <th>9</th>\n",
       "      <td>12546681</td>\n",
       "      <td>-18.833180</td>\n",
       "      <td>46298.0</td>\n",
       "    </tr>\n",
       "    <tr>\n",
       "      <th>10</th>\n",
       "      <td>12186499</td>\n",
       "      <td>-19.060037</td>\n",
       "      <td>396053.0</td>\n",
       "    </tr>\n",
       "  </tbody>\n",
       "</table>\n",
       "</div>"
      ],
      "text/plain": [
       "    parcelid      score  regionidcity\n",
       "1   11243663 -15.884499       13232.0\n",
       "2   11651552 -16.064363       12447.0\n",
       "3   12152324 -16.081543      396551.0\n",
       "4   12660907 -16.139544       33612.0\n",
       "5   12147406 -16.657134       50749.0\n",
       "6   11490532 -16.866039       33612.0\n",
       "7   12586087 -17.343808       10723.0\n",
       "8   12201284 -18.629019      396053.0\n",
       "9   12546681 -18.833180       46298.0\n",
       "10  12186499 -19.060037      396053.0"
      ]
     },
     "execution_count": 24,
     "metadata": {},
     "output_type": "execute_result"
    }
   ],
   "source": [
    "# Get the ten least desirable houses in the dataset\n",
    "least_desirables = scoring_result_ordered[-10:]\n",
    "least_desirables = least_desirables.reset_index(drop=True)\n",
    "\n",
    "least_desirables.index = least_desirables.index + 1\n",
    "least_desirables.loc[:,['parcelid','score','regionidcity']]"
   ]
  },
  {
   "cell_type": "code",
   "execution_count": 25,
   "metadata": {},
   "outputs": [
    {
     "data": {
      "text/plain": [
       "<matplotlib.axes._subplots.AxesSubplot at 0x121844ef0>"
      ]
     },
     "execution_count": 25,
     "metadata": {},
     "output_type": "execute_result"
    },
    {
     "data": {
      "image/png": "[encoded data removed]",
      "text/plain": [
       "<matplotlib.figure.Figure at 0x124b8f438>"
      ]
     },
     "metadata": {},
     "output_type": "display_data"
    }
   ],
   "source": [
    "# Stripplot of the least desirable housing scores\n",
    "sns.stripplot(x=\"regionidcity\", y=\"score\", hue=\"regionidcity\", data=least_desirables, jitter=True)"
   ]
  },
  {
   "cell_type": "markdown",
   "metadata": {},
   "source": [
    "To compare the most desirable and the least desirable houses at a glance, we plotted locations of the 20 most desirable and 20 least desirable houses in a scatter plot. A cluster of the most desirable houses is found in Los Angeles area. On the other hand, the least desirable houses are rather spread across the region. "
   ]
  },
  {
   "cell_type": "code",
   "execution_count": 15,
   "metadata": {},
   "outputs": [
    {
     "data": {
      "image/png": "[encoded data removed]",
      "text/plain": [
       "<matplotlib.figure.Figure at 0x110d70dd8>"
      ]
     },
     "metadata": {},
     "output_type": "display_data"
    }
   ],
   "source": [
    "# Plot. Scatter plot of most and least desirable houses\n",
    "most_desirables_multi = scoring_result_ordered[:20]\n",
    "least_desirables_multi = scoring_result_ordered[-20:]\n",
    "\n",
    "ax = plt.subplot()\n",
    "most_des = ax.scatter(most_desirables_multi.longitude, \n",
    "           most_desirables_multi.latitude, s=5, color='blue')\n",
    "least_des = ax.scatter(least_desirables_multi.longitude, \n",
    "           least_desirables_multi.latitude, s=5, color='red')\n",
    "\n",
    "ax.legend((most_des, least_des),('20 most desirable houses','20 least desirable houses'))\n",
    "ax.set_xlabel('$longitude$', fontsize=12)\n",
    "ax.set_ylabel('$latitude$', fontsize=12)\n",
    "ax.set_title('Scatter plot', fontsize=12)\n",
    "\n",
    "plt.tight_layout()\n",
    "plt.show()"
   ]
  },
  {
   "cell_type": "markdown",
   "metadata": {},
   "source": [
    "# 2 Task Two: Design Pairwise Distance Function"
   ]
  },
  {
   "cell_type": "markdown",
   "metadata": {},
   "source": [
    "Many algorithms in machine learning and data mining require a *pairwise distance function (distance function)* as a basic component. This chapter shows our insights and efforts on building decent distance functions. **First** we fill elaborate on our four steps of designing a distance function. **Then** introduce a baseline distance function. **Finally** we will introduce an advanced distance function."
   ]
  },
  {
   "cell_type": "markdown",
   "metadata": {},
   "source": [
    "## 2.1 Four Aspects of a Distance Function\n",
    "We break down designing a pairwise distance function into four parts:\n",
    "\n",
    "| Aspect | Description | Memo |\n",
    "|:--|:--|:--|\n",
    "|1| feature selection| curse of high dimension :( |\n",
    "|2| impute missing value| what is the distance between two NaN ?! |\n",
    "|3| normalization| z-score ~ |\n",
    "|4| what kind of distance| $L_k\\ (k = ?)$|"
   ]
  },
  {
   "cell_type": "markdown",
   "metadata": {},
   "source": [
    "**1) Feature Selection**"
   ]
  },
  {
   "cell_type": "markdown",
   "metadata": {},
   "source": [
    "In high dimensional space, the concept of proximity, distance or nearest neighbor may not be qualitatively meaningful[[1]]. For example, in high dimensions, the performance of similarity indeing structures degrades rapidly, thus each query requires the access of almost all the data[[2]]. In english, this is known as *curse of dimensionality*[[3]]. \n",
    "\n",
    "`[1]`: Charu C. Aggarwal, Alexander Hinneburg, and Daniel A. Keim. \"On the Surprising Behavior of Distance Metrics in High Dimensional Space\".\n",
    "\n",
    "`[2]`: Weber R., Schek H.-J., Blott S.. \"A Quantitative Analysis and Performance Study for Similarity-Search Methods in High-Dimensional Spaces\". VLDB Conference Proceedings, 1998.\n",
    "\n",
    "`[3]`: Wikipedia: Curse_of_dimensionality\n",
    "\n",
    "\n",
    "[1]:https://bib.dbvis.de/uploadedFiles/155.pdf\n",
    "[2]:https://pdfs.semanticscholar.org/63ea/eb0c48175065ffd096aad10aed712c6d7bbb.pdf\n",
    "[3]:https://en.wikipedia.org/wiki/Curse_of_dimensionality\n",
    "\n"
   ]
  },
  {
   "cell_type": "markdown",
   "metadata": {},
   "source": [
    "**2) Distance Between Missing Values **"
   ]
  },
  {
   "cell_type": "markdown",
   "metadata": {},
   "source": [
    "The **distance between two missing values** is an annoying part when designing a distance function. Of course, an easy way is replacing all the *NaN* with *mean*. But we do not think this is a good idea. The reason is as follows:\n",
    "\n",
    "**mean == mean**, but **np.nan != np.nan**.\n",
    "\n",
    "Suppose there is a feature named *bathroomcnt*. So, when replacing *NaN* with *mean*, then the distance of two *bathroomcnt = NaN* will be zero (*mean* - *mean* = 0). However, we believe the distance should not be zero. The distance should be zero, for example, when two houses both have 2 bathrooms.\n",
    "\n",
    "After hard thinking, we finally decide to use the **random value imputation** method to replace *NaN*. It replaces *NaN* with a random value **sampled from its column (feature)**. Then the distance between two original *NaN* will be a *random value*. This will be a lot better than a *zero* distance.\n",
    "\n",
    "Furthermore, if one is a numeric number and the other is *NaN*, then the distance will be that numeric value minus a random value sampled from its column."
   ]
  },
  {
   "cell_type": "code",
   "execution_count": 3,
   "metadata": {
    "collapsed": true
   },
   "outputs": [],
   "source": [
    "def randomSampleImpute(df, feature_list):\n",
    "    \"\"\" Replace NaN with a random value sampled from its column(feature).\n",
    "    \n",
    "    Args:\n",
    "        df (pandas.DataFrame): data set\n",
    "        feature_list   (list): a list of features, each element is a string\n",
    "    \"\"\"\n",
    "    \n",
    "    for col in feature_list:\n",
    "        nan_indexes = np.argwhere(np.isnan(df[col]))             # which rows have NaN, array\n",
    "        valid_series = df[col].dropna()                          # drop the NaN, Series\n",
    "        random_values = valid_series.sample(n=nan_indexes.size)  # random samples, Series\n",
    "        \n",
    "        for nan_index, random_value in zip(nan_indexes, random_values):\n",
    "            df.iat[nan_index[0], df.columns.get_loc(col)] = random_value  # replace NaN"
   ]
  },
  {
   "cell_type": "markdown",
   "metadata": {},
   "source": [
    "**3) Normalization**"
   ]
  },
  {
   "cell_type": "markdown",
   "metadata": {},
   "source": [
    "If we do not normalize our variables before computing distances, there will be serious biases and screw up the distance metrics. Thus, we have to first normalize the values of each dimension by Z-scores, then compute distances.\n",
    "\n",
    "$$Z_i = (a_i-\\mu )/\\sigma $$\n",
    "\n",
    "where $\\mu$ is the mean of the distribution and $\\sigma$ the associated standard deviation.\n",
    "\n",
    "Also, whenever we detect a specific feature's distribution is skewed, we might need to log that feature."
   ]
  },
  {
   "cell_type": "code",
   "execution_count": 4,
   "metadata": {
    "collapsed": true
   },
   "outputs": [],
   "source": [
    "def z_score_norm(df, feature_list):\n",
    "    \"\"\" Dot the z-score method on selected features in feature_list. \n",
    "        z = (x - mean)/std\n",
    "    \n",
    "    Args:\n",
    "        df (pandas.DataFrame): data set\n",
    "        feature_list   (list): a list of features, each element is a string\n",
    "    \"\"\"\n",
    "    \n",
    "    for col in feature_list:\n",
    "        df[col] = (df[col] - df[col].mean())/(df[col].std())"
   ]
  },
  {
   "cell_type": "markdown",
   "metadata": {},
   "source": [
    "**4) What Kind of Distance**"
   ]
  },
  {
   "cell_type": "markdown",
   "metadata": {},
   "source": [
    "*Manhatten* distance and *euclidian* distance are two commonly used distances. Actually, they are just two special cases of $L_K$ distance metric or norm, where *K=1* and *K=2* respectively.\n",
    "\n",
    "Research results[[1]] show that Manhattan distance metric ($L_1$ norm) is consistently more preferable than the Euclidean distance metric ($L_2$ norm) for high dimensional data science applications.\n",
    "\n",
    "[1]:https://bib.dbvis.de/uploadedFiles/155.pdf\n",
    "\n",
    "`[1]`: Charu C. Aggarwal, Alexander Hinneburg, and Daniel A. Keim. \"On the Surprising Behavior of Distance Metrics in High Dimensional Space\"."
   ]
  },
  {
   "cell_type": "markdown",
   "metadata": {},
   "source": [
    "## 2.2 Baseline Distance Function\n",
    "A simple baseline distance function will only be based on two features: **[longiude, latitude]**. The metrics is **euclidiean**."
   ]
  },
  {
   "cell_type": "markdown",
   "metadata": {},
   "source": [
    "### 2.2.1 Design\n",
    "Britain real estate tycoon Harold Samuel said: 'There are three things that matter in property: location, location, location.' Let's visualize where are the locations of the properties in the data provided by [Kaggle](https://www.kaggle.com/c/zillow-prize-1/data)."
   ]
  },
  {
   "cell_type": "code",
   "execution_count": null,
   "metadata": {
    "collapsed": true
   },
   "outputs": [],
   "source": [
    "def pairwise_distance_baseline(s1, s2, feature_list):\n",
    "    \"\"\" Compute the distance between two series using euclidian distance. \n",
    "    \n",
    "    Args:\n",
    "        s1 (Series): a row in a dataframe, i.e. a property.\n",
    "        s2 (Series): a row in a dataframe, i.e. a property.\n",
    "    \"\"\"\n",
    "    X  = feature_list[0]\n",
    "    Y  = feature_list[1]\n",
    "    x1 = s1.at[X]\n",
    "    y1 = s1.at[Y]\n",
    "    x2 = s2.at[X]\n",
    "    y2 = s2.at[Y]\n",
    "    return euc_dis([[x1,y1]], [[x2,y2]])"
   ]
  },
  {
   "cell_type": "code",
   "execution_count": null,
   "metadata": {
    "collapsed": true,
    "scrolled": true
   },
   "outputs": [],
   "source": [
    "X = 'longitude'\n",
    "Y = 'latitude'\n",
    "\n",
    "df_ll = df_house16.loc[:,[X, Y]]\n",
    "df_ll.dropna(how='any', inplace=True)\n",
    "df_ll.plot.scatter(x=X, y=Y, s=1, figsize=(8,8))"
   ]
  },
  {
   "cell_type": "markdown",
   "metadata": {},
   "source": [
    "After visualizing *longitude* and *latitude* and comparing them to google maps, we can find out that all the properties are in the greater Los Angeles area. Our **baseline distance function** will **only be based on locations: (longitude, latitude)**.\n",
    "![la](./figure/LA_scatter.png)\n",
    "![los angeles](./figure/los_angeles.png)"
   ]
  },
  {
   "cell_type": "markdown",
   "metadata": {},
   "source": [
    "### 2.2.2 Example \n",
    "In this section, we will caculate the distance between two randomly selected properites. \n",
    "\n",
    "First clean the data."
   ]
  },
  {
   "cell_type": "code",
   "execution_count": 8,
   "metadata": {
    "collapsed": true
   },
   "outputs": [],
   "source": [
    "# Operate the raw data and cleaned data separately.\n",
    "df_house16_clean = copy.deepcopy(df_house16)"
   ]
  },
  {
   "cell_type": "code",
   "execution_count": 9,
   "metadata": {
    "collapsed": true
   },
   "outputs": [],
   "source": [
    "feature_list = ['longitude', 'latitude']\n",
    "randomSampleImpute(df_house16_clean, feature_list)   # Missing value imputation\n",
    "z_score_norm(df_house16_clean, feature_list)         # Normalization"
   ]
  },
  {
   "cell_type": "markdown",
   "metadata": {},
   "source": [
    "Then calculate the distance between two randomly selected properties."
   ]
  },
  {
   "cell_type": "code",
   "execution_count": 14,
   "metadata": {},
   "outputs": [
    {
     "name": "stdout",
     "output_type": "stream",
     "text": [
      "The distance between #693607 and #1955271 is 1.175066\n"
     ]
    }
   ],
   "source": [
    "row1 = random.randint(0, 2985217)\n",
    "row2 = random.randint(0, 2985217)\n",
    "\n",
    "dis = pairwise_distance_baseline(df_house16_clean.iloc[row1], df_house16_clean.iloc[row2], feature_list)\n",
    "print('The distance between #%d and #%d is %f' % (row1, row2, dis))"
   ]
  },
  {
   "cell_type": "code",
   "execution_count": 15,
   "metadata": {
    "collapsed": true
   },
   "outputs": [],
   "source": [
    "del df_house16_clean                                 # release memory"
   ]
  },
  {
   "cell_type": "markdown",
   "metadata": {},
   "source": [
    "## 2.3 Advanced Distance Function\n",
    "Our advanced distance function will contain four dimensions: **['longitude', 'latitude', 'calculatedfinishedsquarefeet', 'yearbuilt']**, using **manhattan** distances."
   ]
  },
  {
   "cell_type": "markdown",
   "metadata": {},
   "source": [
    "### 2.3.1 Design\n",
    "\n",
    "Comparing to baseline distance function with only two geographic features, we added *calculatedfinishedsquarefeet* and *yearbuilt* in the advanced distance function. This is because we believe these two are typical features for a property. \n",
    "\n",
    "\n",
    "||Dimension|\n",
    "|:--|:--|\n",
    "|1| longitude |\n",
    "|2| latitude  |\n",
    "|3| calculatedfinishedsquarefeet|\n",
    "|4| yearbuilt|\n"
   ]
  },
  {
   "cell_type": "code",
   "execution_count": 5,
   "metadata": {
    "collapsed": true
   },
   "outputs": [],
   "source": [
    "def pairwise_distance_advance(row1, row2):\n",
    "    \"\"\" Compute the distance between two properties using manhattan distance. \n",
    "    \n",
    "    Args:\n",
    "        s1 (1d array): a row in a matrix, i.e. a property.\n",
    "        s2 (1d array): a row in a matrix, i.e. a property.\n",
    "    \"\"\"\n",
    "        \n",
    "    x1 = row1[0]  # 'longitude'\n",
    "    y1 = row1[1]  # 'latitude'\n",
    "    a1 = row1[2]  # 'calculatedfinishedsquarefeet'\n",
    "    b1 = row1[3]  # 'yearbuilt'\n",
    "    \n",
    "    x2 = row2[0]\n",
    "    y2 = row2[1]\n",
    "    a2 = row2[2]\n",
    "    b2 = row2[3]\n",
    "    \n",
    "    return abs(x2-x1) + abs(y2-y1) + abs(a2-a1) + abs(b2-b1)  # manhattan"
   ]
  },
  {
   "cell_type": "markdown",
   "metadata": {},
   "source": [
    "### 2.3.2 Experiment"
   ]
  },
  {
   "cell_type": "markdown",
   "metadata": {},
   "source": [
    "Experiment method: \n",
    "\n",
    "1. Do data cleaning.\n",
    "2. Randomly choose a specific property $P$.\n",
    "3. Compute the distance of $P$ to every property.\n",
    "4. Visualize the distance distribution."
   ]
  },
  {
   "cell_type": "markdown",
   "metadata": {},
   "source": [
    "**1)** First deep copy the original raw data."
   ]
  },
  {
   "cell_type": "code",
   "execution_count": 6,
   "metadata": {
    "collapsed": true
   },
   "outputs": [],
   "source": [
    "df_house16_clean = copy.deepcopy(df_house16)"
   ]
  },
  {
   "cell_type": "markdown",
   "metadata": {},
   "source": [
    "**2)** Select four dimensions."
   ]
  },
  {
   "cell_type": "code",
   "execution_count": 7,
   "metadata": {
    "collapsed": true
   },
   "outputs": [],
   "source": [
    "feature_list_ad = ['longitude', 'latitude', 'calculatedfinishedsquarefeet', 'yearbuilt']\n",
    "df_house16_clean = df_house16_clean[feature_list_ad]"
   ]
  },
  {
   "cell_type": "markdown",
   "metadata": {},
   "source": [
    "**3)** Randomly impute missing values by sampling."
   ]
  },
  {
   "cell_type": "code",
   "execution_count": 11,
   "metadata": {
    "collapsed": true
   },
   "outputs": [],
   "source": [
    "randomSampleImpute(df_house16_clean, feature_list_ad)"
   ]
  },
  {
   "cell_type": "markdown",
   "metadata": {},
   "source": [
    "**4)** Z-score the dimensions. Before z-scoring, np.log the calculatedfinishedsquarefeet since it's skrewed."
   ]
  },
  {
   "cell_type": "code",
   "execution_count": 13,
   "metadata": {
    "collapsed": true
   },
   "outputs": [],
   "source": [
    "df_house16_clean.calculatedfinishedsquarefeet = np.log(df_house16_clean.calculatedfinishedsquarefeet)\n",
    "z_score_norm(df_house16_clean, feature_list_ad)"
   ]
  },
  {
   "cell_type": "code",
   "execution_count": 20,
   "metadata": {},
   "outputs": [
    {
     "data": {
      "text/html": [
       "<div>\n",
       "<style>\n",
       "    .dataframe thead tr:only-child th {\n",
       "        text-align: right;\n",
       "    }\n",
       "\n",
       "    .dataframe thead th {\n",
       "        text-align: left;\n",
       "    }\n",
       "\n",
       "    .dataframe tbody tr th {\n",
       "        vertical-align: top;\n",
       "    }\n",
       "</style>\n",
       "<table border=\"1\" class=\"dataframe\">\n",
       "  <thead>\n",
       "    <tr style=\"text-align: right;\">\n",
       "      <th></th>\n",
       "      <th>longitude</th>\n",
       "      <th>latitude</th>\n",
       "      <th>calculatedfinishedsquarefeet</th>\n",
       "      <th>yearbuilt</th>\n",
       "    </tr>\n",
       "  </thead>\n",
       "  <tbody>\n",
       "    <tr>\n",
       "      <th>0</th>\n",
       "      <td>-1.309366</td>\n",
       "      <td>0.587439</td>\n",
       "      <td>1.445885</td>\n",
       "      <td>-0.395162</td>\n",
       "    </tr>\n",
       "    <tr>\n",
       "      <th>1</th>\n",
       "      <td>-1.226195</td>\n",
       "      <td>0.570955</td>\n",
       "      <td>-0.369253</td>\n",
       "      <td>1.609709</td>\n",
       "    </tr>\n",
       "    <tr>\n",
       "      <th>2</th>\n",
       "      <td>-0.558016</td>\n",
       "      <td>-0.049759</td>\n",
       "      <td>8.477599</td>\n",
       "      <td>-1.632210</td>\n",
       "    </tr>\n",
       "    <tr>\n",
       "      <th>3</th>\n",
       "      <td>-0.681304</td>\n",
       "      <td>0.605604</td>\n",
       "      <td>2.528379</td>\n",
       "      <td>-0.693760</td>\n",
       "    </tr>\n",
       "    <tr>\n",
       "      <th>4</th>\n",
       "      <td>-0.532483</td>\n",
       "      <td>0.791751</td>\n",
       "      <td>0.190091</td>\n",
       "      <td>-0.736417</td>\n",
       "    </tr>\n",
       "  </tbody>\n",
       "</table>\n",
       "</div>"
      ],
      "text/plain": [
       "   longitude  latitude  calculatedfinishedsquarefeet  yearbuilt\n",
       "0  -1.309366  0.587439                      1.445885  -0.395162\n",
       "1  -1.226195  0.570955                     -0.369253   1.609709\n",
       "2  -0.558016 -0.049759                      8.477599  -1.632210\n",
       "3  -0.681304  0.605604                      2.528379  -0.693760\n",
       "4  -0.532483  0.791751                      0.190091  -0.736417"
      ]
     },
     "execution_count": 20,
     "metadata": {},
     "output_type": "execute_result"
    }
   ],
   "source": [
    "df_house16_clean.head()"
   ]
  },
  {
   "cell_type": "markdown",
   "metadata": {},
   "source": [
    "**5)** After data cleaning, let's calculate the distances."
   ]
  },
  {
   "cell_type": "code",
   "execution_count": 21,
   "metadata": {
    "collapsed": true
   },
   "outputs": [],
   "source": [
    "size  = df_house16_clean.shape[0]         # size = 2985217\n",
    "mat   = df_house16_clean.as_matrix()      # transform to matrix, this way is faster.\n",
    "index = random.randint(0,size)            # a random index\n",
    "p     = mat[index]                        # pick a random property P\n",
    "\n",
    "array_dis = np.zeros(shape=(size,))       # an array to store the distances of $P$ to every property\n",
    "\n",
    "for i in range(size):\n",
    "    row = mat[i]\n",
    "    array_dis[i] = pairwise_distance_advance(p, row)  # call the distance function"
   ]
  },
  {
   "cell_type": "markdown",
   "metadata": {},
   "source": [
    "**6)** Visualize the distance distribution."
   ]
  },
  {
   "cell_type": "code",
   "execution_count": 32,
   "metadata": {},
   "outputs": [
    {
     "data": {
      "image/png": "[encoded data removed]",
      "text/plain": [
       "<matplotlib.figure.Figure at 0x133c659d550>"
      ]
     },
     "metadata": {},
     "output_type": "display_data"
    }
   ],
   "source": [
    "df_dis = pd.DataFrame(array_dis, columns=['distance'])      # from array to dataframe\n",
    "df_result = pd.concat([df_house16_clean, df_dis], axis=1)   # insert the distances into df_house16_clean\n",
    "\n",
    "# Plot. Histogram of distance\n",
    "num_bins = 100\n",
    "ax = plt.subplot()\n",
    "n, bins, patches = ax.hist(df_result.distance, num_bins)\n",
    "\n",
    "ax.set_xlabel('Distance to p(1.51343253, -1.75548333, 0.76372392, 1.18314098)', fontsize=12)\n",
    "ax.set_ylabel('Number of houses', fontsize=12)\n",
    "\n",
    "plt.tight_layout()\n",
    "plt.show()"
   ]
  },
  {
   "cell_type": "markdown",
   "metadata": {},
   "source": [
    "**7)** Show the nearest neighbors of **P** = (1.51343253, -1.75548333, 0.76372392, 1.18314098)"
   ]
  },
  {
   "cell_type": "code",
   "execution_count": 35,
   "metadata": {},
   "outputs": [
    {
     "data": {
      "text/html": [
       "<div>\n",
       "<style>\n",
       "    .dataframe thead tr:only-child th {\n",
       "        text-align: right;\n",
       "    }\n",
       "\n",
       "    .dataframe thead th {\n",
       "        text-align: left;\n",
       "    }\n",
       "\n",
       "    .dataframe tbody tr th {\n",
       "        vertical-align: top;\n",
       "    }\n",
       "</style>\n",
       "<table border=\"1\" class=\"dataframe\">\n",
       "  <thead>\n",
       "    <tr style=\"text-align: right;\">\n",
       "      <th></th>\n",
       "      <th>longitude</th>\n",
       "      <th>latitude</th>\n",
       "      <th>calculatedfinishedsquarefeet</th>\n",
       "      <th>yearbuilt</th>\n",
       "      <th>distance</th>\n",
       "    </tr>\n",
       "  </thead>\n",
       "  <tbody>\n",
       "    <tr>\n",
       "      <th>131290</th>\n",
       "      <td>1.515138</td>\n",
       "      <td>-1.756354</td>\n",
       "      <td>0.763724</td>\n",
       "      <td>1.183141</td>\n",
       "      <td>0.002577</td>\n",
       "    </tr>\n",
       "    <tr>\n",
       "      <th>250308</th>\n",
       "      <td>1.512399</td>\n",
       "      <td>-1.760110</td>\n",
       "      <td>0.763724</td>\n",
       "      <td>1.183141</td>\n",
       "      <td>0.005660</td>\n",
       "    </tr>\n",
       "    <tr>\n",
       "      <th>309674</th>\n",
       "      <td>1.518581</td>\n",
       "      <td>-1.756498</td>\n",
       "      <td>0.763724</td>\n",
       "      <td>1.183141</td>\n",
       "      <td>0.006164</td>\n",
       "    </tr>\n",
       "    <tr>\n",
       "      <th>428906</th>\n",
       "      <td>1.515489</td>\n",
       "      <td>-1.760533</td>\n",
       "      <td>0.763724</td>\n",
       "      <td>1.183141</td>\n",
       "      <td>0.007106</td>\n",
       "    </tr>\n",
       "    <tr>\n",
       "      <th>547797</th>\n",
       "      <td>1.513821</td>\n",
       "      <td>-1.752739</td>\n",
       "      <td>0.763724</td>\n",
       "      <td>1.183141</td>\n",
       "      <td>0.003133</td>\n",
       "    </tr>\n",
       "    <tr>\n",
       "      <th>577547</th>\n",
       "      <td>1.516598</td>\n",
       "      <td>-1.756856</td>\n",
       "      <td>0.763724</td>\n",
       "      <td>1.183141</td>\n",
       "      <td>0.004538</td>\n",
       "    </tr>\n",
       "    <tr>\n",
       "      <th>1261765</th>\n",
       "      <td>1.515500</td>\n",
       "      <td>-1.755282</td>\n",
       "      <td>0.763724</td>\n",
       "      <td>1.183141</td>\n",
       "      <td>0.002269</td>\n",
       "    </tr>\n",
       "    <tr>\n",
       "      <th>1410480</th>\n",
       "      <td>1.514469</td>\n",
       "      <td>-1.758232</td>\n",
       "      <td>0.763724</td>\n",
       "      <td>1.183141</td>\n",
       "      <td>0.003785</td>\n",
       "    </tr>\n",
       "    <tr>\n",
       "      <th>2005265</th>\n",
       "      <td>1.518564</td>\n",
       "      <td>-1.754596</td>\n",
       "      <td>0.763724</td>\n",
       "      <td>1.183141</td>\n",
       "      <td>0.006019</td>\n",
       "    </tr>\n",
       "    <tr>\n",
       "      <th>2124193</th>\n",
       "      <td>1.513997</td>\n",
       "      <td>-1.761227</td>\n",
       "      <td>0.763724</td>\n",
       "      <td>1.183141</td>\n",
       "      <td>0.006309</td>\n",
       "    </tr>\n",
       "    <tr>\n",
       "      <th>2243079</th>\n",
       "      <td>1.513433</td>\n",
       "      <td>-1.755483</td>\n",
       "      <td>0.763724</td>\n",
       "      <td>1.183141</td>\n",
       "      <td>0.000000</td>\n",
       "    </tr>\n",
       "    <tr>\n",
       "      <th>2272687</th>\n",
       "      <td>1.515674</td>\n",
       "      <td>-1.759074</td>\n",
       "      <td>0.763724</td>\n",
       "      <td>1.183141</td>\n",
       "      <td>0.005832</td>\n",
       "    </tr>\n",
       "    <tr>\n",
       "      <th>2421227</th>\n",
       "      <td>1.516873</td>\n",
       "      <td>-1.755492</td>\n",
       "      <td>0.763724</td>\n",
       "      <td>1.183141</td>\n",
       "      <td>0.003449</td>\n",
       "    </tr>\n",
       "  </tbody>\n",
       "</table>\n",
       "</div>"
      ],
      "text/plain": [
       "         longitude  latitude  calculatedfinishedsquarefeet  yearbuilt  \\\n",
       "131290    1.515138 -1.756354                      0.763724   1.183141   \n",
       "250308    1.512399 -1.760110                      0.763724   1.183141   \n",
       "309674    1.518581 -1.756498                      0.763724   1.183141   \n",
       "428906    1.515489 -1.760533                      0.763724   1.183141   \n",
       "547797    1.513821 -1.752739                      0.763724   1.183141   \n",
       "577547    1.516598 -1.756856                      0.763724   1.183141   \n",
       "1261765   1.515500 -1.755282                      0.763724   1.183141   \n",
       "1410480   1.514469 -1.758232                      0.763724   1.183141   \n",
       "2005265   1.518564 -1.754596                      0.763724   1.183141   \n",
       "2124193   1.513997 -1.761227                      0.763724   1.183141   \n",
       "2243079   1.513433 -1.755483                      0.763724   1.183141   \n",
       "2272687   1.515674 -1.759074                      0.763724   1.183141   \n",
       "2421227   1.516873 -1.755492                      0.763724   1.183141   \n",
       "\n",
       "         distance  \n",
       "131290   0.002577  \n",
       "250308   0.005660  \n",
       "309674   0.006164  \n",
       "428906   0.007106  \n",
       "547797   0.003133  \n",
       "577547   0.004538  \n",
       "1261765  0.002269  \n",
       "1410480  0.003785  \n",
       "2005265  0.006019  \n",
       "2124193  0.006309  \n",
       "2243079  0.000000  \n",
       "2272687  0.005832  \n",
       "2421227  0.003449  "
      ]
     },
     "execution_count": 35,
     "metadata": {},
     "output_type": "execute_result"
    }
   ],
   "source": [
    "df_result[df_result.distance<0.01]"
   ]
  },
  {
   "cell_type": "markdown",
   "metadata": {},
   "source": [
    "## 2.4 Discussion"
   ]
  },
  {
   "cell_type": "markdown",
   "metadata": {},
   "source": [
    "First, we show our reasons why we add 2 property-specific features(*calculatedfinishedsquarefeet* and *yearbuilt*) above the simple baseline distance function, and formed a four dimensional distance function. The caculated finished square feet area is probably the most important attribute a person cares except the location. In similar locations, a larger house is mostly more valuable than a smaller house and a better place to live in. Year built is also a critical attribute for a house. Year built is correlated to many interesting features of a property. For example, people lived in different decades may prefer different architectual styles. In the 1950s, many people prefered raised ranch style houses and many that kind houses are build at that time period.\n",
    "\n",
    "Second, we tell why we decided to use the *mahanttan* distance. According to section 2.1.4, Manhattan distance metric ($L_1$ norm) is consistently more preferable than the Euclidean distance metric ($L_2$ norm) for high dimensional(n>3) data science applications.\n",
    "\n",
    "Third, we explain how we come up with our experiment method. We have nearly 3 million rows in a dataframe. It is quite impractical to compute the distances of every pair of rows, since doing so will need a 3 million $\\times$ 3 million matrix to store the results. So instead, we randomly pick a specific property **P**, then compute the distances of **P** to every properties.\n",
    "\n",
    "Fourth, we looked at the results of our advanced distance function, it looks pretty well. Below are the evaluation. We visualized the distance distribution. According to the figure, **distance = 7** is a threshold. When **distance < 7**, the Y value of the histogram grows almost linearly. The peak Y value is just above 140,000. Which means that there are 140,000 properties whose distance wich **P** is 7. When **distance > 7 **, the Y value first decreases rapidly almost linearly, then the decrease rate gets slower and slower. We printed some near neighbors of **P** who has a distance less than 0.01. No surprisingly, the nearest neighbors have a very close value on all four dimensions. **We picked the ($L_1$ norm) distance metrics  to reward properties for being close on all four dimensions**.\n",
    "\n",
    "Fifth, we tried to interpret the meanings of our high dimension distance function. However, we figured out we can **hardly tell the geometric sense** of it. The only thing we are sure is that, according to our distance function, these properties are close to each other or far from each other.\n",
    "\n",
    "To sum up, a simple distance function and a carefully designed advanced distance function all work well as we expected. "
   ]
  },
  {
   "cell_type": "markdown",
   "metadata": {},
   "source": [
    "# 3 Task 3: Clustering\n",
    "In this chapter, we will cluster the properties with two different clusting algorithms: KMeans and DBSCAN. \n",
    "\n",
    "|Cluster Algorithm|Distance Function|Dimensions|Metrics|\n",
    "|:-- | :-- | :-- | :-- |\n",
    "| KMeans | pairwise_distance_baseline| longitude, latitude | Euclidian|\n",
    "| DBSCAN | pairwise_distance_advance| longitude, latitude, calculatedfinishedsquarefeet, yearbuilt| Manhanttan |\n"
   ]
  },
  {
   "cell_type": "markdown",
   "metadata": {},
   "source": [
    "## 3.1 KMeans + Euclidean (pairwise_distance_baseline)"
   ]
  },
  {
   "cell_type": "markdown",
   "metadata": {},
   "source": [
    "**1)** Select two features (dimension)"
   ]
  },
  {
   "cell_type": "code",
   "execution_count": 13,
   "metadata": {
    "collapsed": true
   },
   "outputs": [],
   "source": [
    "feature_list = ['longitude', 'latitude']\n",
    "df_ll = df_house16[feature_list]"
   ]
  },
  {
   "cell_type": "markdown",
   "metadata": {},
   "source": [
    "**2)** Data cleaning "
   ]
  },
  {
   "cell_type": "code",
   "execution_count": null,
   "metadata": {
    "collapsed": true
   },
   "outputs": [],
   "source": [
    "randomSampleImpute(df_ll, feature_list)\n",
    "z_score_norm(df_ll, feature_list)"
   ]
  },
  {
   "cell_type": "markdown",
   "metadata": {},
   "source": [
    "**3)** Run k-means with 15 clusters."
   ]
  },
  {
   "cell_type": "code",
   "execution_count": 17,
   "metadata": {},
   "outputs": [
    {
     "data": {
      "text/plain": [
       "KMeans(algorithm='auto', copy_x=True, init='k-means++', max_iter=300,\n",
       "    n_clusters=15, n_init=10, n_jobs=1, precompute_distances='auto',\n",
       "    random_state=None, tol=0.0001, verbose=0)"
      ]
     },
     "execution_count": 17,
     "metadata": {},
     "output_type": "execute_result"
    }
   ],
   "source": [
    "kmeans = KMeans(init='k-means++', n_clusters=15)\n",
    "kmeans.fit(df_ll)"
   ]
  },
  {
   "cell_type": "markdown",
   "metadata": {},
   "source": [
    "**4)** Visualize the clustering results"
   ]
  },
  {
   "cell_type": "code",
   "execution_count": 18,
   "metadata": {},
   "outputs": [
    {
     "data": {
      "image/png": "[encoded data removed]",
      "text/plain": [
       "<matplotlib.figure.Figure at 0x2137a062f98>"
      ]
     },
     "metadata": {},
     "output_type": "display_data"
    }
   ],
   "source": [
    "# Step size of the mesh. Decrease to increase the quality of the VQ.\n",
    "h = .02     # point in the mesh [x_min, x_max]x[y_min, y_max].\n",
    "\n",
    "# Plot the decision boundary. For that, we will assign a color to each\n",
    "x_min, x_max = df_ll.iloc[:, 0].min(), df_ll.iloc[:, 0].max()\n",
    "y_min, y_max = df_ll.iloc[:, 1].min(), df_ll.iloc[:, 1].max()\n",
    "xx, yy = np.meshgrid(np.arange(x_min, x_max, h), np.arange(y_min, y_max, h))\n",
    "\n",
    "# Obtain labels for each point in mesh. Use last trained model.\n",
    "Z = kmeans.predict(np.c_[xx.ravel(), yy.ravel()])\n",
    "\n",
    "# Put the result into a color plot\n",
    "Z = Z.reshape(xx.shape)\n",
    "plt.figure(figsize=(8,8))\n",
    "plt.clf()\n",
    "plt.imshow(Z, interpolation='nearest',\n",
    "           extent=(xx.min(), xx.max(), yy.min(), yy.max()),\n",
    "           cmap=plt.cm.Paired,\n",
    "           aspect='auto', origin='lower')\n",
    "\n",
    "plt.plot(df_ll.iloc[:, 0], df_ll.iloc[:, 1], 'k.', markersize=2)\n",
    "# Plot the centroids as a white X\n",
    "centroids = kmeans.cluster_centers_\n",
    "plt.scatter(centroids[:, 0], centroids[:, 1],\n",
    "            marker='x', s=169, linewidths=3,\n",
    "            color='w', zorder=10)\n",
    "plt.title('K-means (K=15) clustering: the Greater Los Angeles Area')\n",
    "plt.xlim(x_min, x_max)\n",
    "plt.ylim(y_min, y_max)\n",
    "plt.xticks(())\n",
    "plt.yticks(())"
   ]
  },
  {
   "cell_type": "markdown",
   "metadata": {},
   "source": [
    "## 3.2 DBSCAN + Manhanttan (pairwise_distance_advance)"
   ]
  },
  {
   "cell_type": "markdown",
   "metadata": {},
   "source": [
    "### 3.2.1 Data Cleaning"
   ]
  },
  {
   "cell_type": "markdown",
   "metadata": {},
   "source": [
    "**1)** Deep copy the original raw data."
   ]
  },
  {
   "cell_type": "code",
   "execution_count": 30,
   "metadata": {
    "collapsed": true
   },
   "outputs": [],
   "source": [
    "df_house16_clean = copy.deepcopy(df_house16)"
   ]
  },
  {
   "cell_type": "markdown",
   "metadata": {},
   "source": [
    "**2)** Choose a subset of the total data. We will do this by merging with the 2016 training data on *parcelid*. That will give us 90275 rows of data. So, from a large 3-million-row data down to a delicate 90-thousand-row of data."
   ]
  },
  {
   "cell_type": "code",
   "execution_count": 31,
   "metadata": {
    "collapsed": true
   },
   "outputs": [],
   "source": [
    "df_house16_clean = pd.merge(df_train16, df_house16_clean, on='parcelid')"
   ]
  },
  {
   "cell_type": "markdown",
   "metadata": {},
   "source": [
    "**3)** Select four dimensions: *longitude*, *latitude*, *calculatedfinishedsquarefeet*, *yearbuilt*."
   ]
  },
  {
   "cell_type": "code",
   "execution_count": 32,
   "metadata": {
    "collapsed": true
   },
   "outputs": [],
   "source": [
    "feature_list_ad = ['longitude', 'latitude', 'calculatedfinishedsquarefeet', 'yearbuilt']\n",
    "df_house16_clean = df_house16_clean[feature_list_ad]"
   ]
  },
  {
   "cell_type": "markdown",
   "metadata": {},
   "source": [
    "**4)** Randomly impute missing values by sampling"
   ]
  },
  {
   "cell_type": "code",
   "execution_count": 33,
   "metadata": {
    "collapsed": true
   },
   "outputs": [],
   "source": [
    "randomSampleImpute(df_house16_clean, feature_list_ad)"
   ]
  },
  {
   "cell_type": "markdown",
   "metadata": {},
   "source": [
    "**5)** Z-score the dimensions. Before z-scoring, np.log the calculatedfinishedsquarefeet since it's skrewed."
   ]
  },
  {
   "cell_type": "code",
   "execution_count": 34,
   "metadata": {
    "collapsed": true
   },
   "outputs": [],
   "source": [
    "df_house16_clean.calculatedfinishedsquarefeet = np.log(df_house16_clean.calculatedfinishedsquarefeet)\n",
    "z_score_norm(df_house16_clean, feature_list_ad)"
   ]
  },
  {
   "cell_type": "markdown",
   "metadata": {},
   "source": [
    "**6)** Visualize the subset of 90275 rows of data. The data have four features (dimensions), but we visualize the two-dimensional projections of the data: *longitude* and *latitude*."
   ]
  },
  {
   "cell_type": "code",
   "execution_count": 35,
   "metadata": {},
   "outputs": [
    {
     "data": {
      "text/plain": [
       "<matplotlib.axes._subplots.AxesSubplot at 0x213008ef668>"
      ]
     },
     "execution_count": 35,
     "metadata": {},
     "output_type": "execute_result"
    },
    {
     "data": {
      "image/png": "[encoded data removed]",
      "text/plain": [
       "<matplotlib.figure.Figure at 0x2131bc950b8>"
      ]
     },
     "metadata": {},
     "output_type": "display_data"
    }
   ],
   "source": [
    "df_ll = copy.deepcopy(df_house16_clean)\n",
    "df_ll = df_ll[['longitude', 'latitude']]\n",
    "df_ll.plot.scatter(x='longitude', y='latitude', s=1, figsize=(8,8))"
   ]
  },
  {
   "cell_type": "markdown",
   "metadata": {},
   "source": [
    "### 3.2.2 Do the Clustering and Visualization\n",
    "We use our pairwise_distance_advance not by passing the function into sklearn.cluster.DBSCAN's parameter, but by **preprosessing the data** and passing **metric='manhattan'** into sklearn.cluster.DBSCAN's parameter. They are equivalent."
   ]
  },
  {
   "cell_type": "code",
   "execution_count": 38,
   "metadata": {},
   "outputs": [
    {
     "name": "stdout",
     "output_type": "stream",
     "text": [
      "Estimated number of clusters: 85\n"
     ]
    }
   ],
   "source": [
    "# Compute DBSCAN\n",
    "X = df_house16_clean\n",
    "\n",
    "db = DBSCAN(eps=0.3, metric='manhattan', min_samples=40).fit(X)\n",
    "core_samples_mask = np.zeros_like(db.labels_, dtype=bool)\n",
    "core_samples_mask[db.core_sample_indices_] = True\n",
    "labels = db.labels_\n",
    "\n",
    "# Number of clusters in labels, ignoring noise if present.\n",
    "n_clusters_ = len(set(labels)) - (1 if -1 in labels else 0)\n",
    "\n",
    "print('Estimated number of clusters: %d' % n_clusters_)"
   ]
  },
  {
   "cell_type": "code",
   "execution_count": 39,
   "metadata": {},
   "outputs": [
    {
     "data": {
      "image/png": "[encoded data removed]",
      "text/plain": [
       "<matplotlib.figure.Figure at 0x213012d82b0>"
      ]
     },
     "metadata": {},
     "output_type": "display_data"
    }
   ],
   "source": [
    "# Plot result\n",
    "# Black removed and is used for noise instead.\n",
    "X = X.as_matrix()\n",
    "\n",
    "plt.figure(figsize=(10,10))\n",
    "unique_labels = set(labels)\n",
    "colors = [plt.cm.Spectral(each)\n",
    "          for each in np.linspace(0, 1, len(unique_labels))]\n",
    "for k, col in zip(unique_labels, colors):\n",
    "    if k == -1:\n",
    "        # Black used for noise.\n",
    "        col = [0, 0, 0, 1]\n",
    "\n",
    "    class_member_mask = (labels == k)\n",
    "\n",
    "    xy = X[class_member_mask & core_samples_mask]\n",
    "    plt.plot(xy[:, 0], xy[:, 1], 'o', markerfacecolor=tuple(col),\n",
    "             markeredgecolor='k', markersize=1.5)\n",
    "\n",
    "    xy = X[class_member_mask & ~core_samples_mask]\n",
    "    plt.plot(xy[:, 0], xy[:, 1], 'o', markerfacecolor=tuple(col),\n",
    "             markeredgecolor='k', markersize=0.15)\n",
    "\n",
    "plt.title('DBSCAN Estimated number of clusters: %d' % n_clusters_)"
   ]
  },
  {
   "cell_type": "markdown",
   "metadata": {},
   "source": [
    "The following is the visualization of kmeans clustering with *k=85*. Comparing to dbscan, the visualization result looks better.\n",
    "![la-kmean](./figure/kmeans-85.png)"
   ]
  },
  {
   "cell_type": "markdown",
   "metadata": {},
   "source": [
    "## 3.3 Discussion"
   ]
  },
  {
   "cell_type": "markdown",
   "metadata": {},
   "source": [
    "K-means clustering is fast, simple, and generally effective. It works by minimizing the within-cluster sum of squares:\n",
    "$$argmin \\sum_{i=1}^{k} \\sum_{x\\in S_i}\\left \\| x - \\mu_i \\right \\|^2$$\n",
    "where $u_i$ is the mean of points in $S_i$, $k$ is the number of cluster[[1]](https://en.wikipedia.org/wiki/K-means_clustering). K-means needs to specify the number $k$ during initialization.\n",
    "\n",
    "DBSCAN: **D**ensity-**B**ased **S**patial **C**lustering of **A**pplications with **N**oise. Finds core samples of high density and expands clusters from them. Good for data which contains clusters of similar density [[2]](http://scikit-learn.org/stable/modules/generated/sklearn.cluster.DBSCAN.html). DBSCAN don't need to specify the number of clusters during initialization. Instead, we need to initialize $eps$ and $min\\_samples$. The former is the maximum distance between two samples for them to be considered as in the same neighborhood, and the latter is the number of samples (or total weight) in a neighborhood for a point to be considered as a core point. This includes the point itself. I tested the limits of DBSCAN, and found out that DBSCAN will eat up all my PC's RAM (then my PC crashes) when we run on all nearly 3 million rows of data. **Consequently, we have to choose a subset of the total data**.\n",
    "\n",
    "We first cluster the properties using kmeans with *k=15* and *pairwise_distance_baseline*. The cleaned data is 2985217 rows. The figure looks beautiful at a first glance and we were delighted for our job well done. The only thing that seemed a little strange is that there are some properties \"in the ocean\". We quickly realized that this is because the longitute and latitude of properties are normalized, so that they distribute across the whole figure. The clustering result seems very straight forward and the figure is very self-descriptive.\n",
    "\n",
    "Then we cluster the properties using DBSCAN with *eps=0.3*, *min_samples=30*, and *pairwise_distance_advance*. The cleaned data is only 90275 rows. When there are too many rows, the DBSCAN will eat up all the RAM. The algorithm come out with *85* clusters. Our DBSCAN's visualization result is not as good looking as kmeans's. The clustering result has too many noise in it. While visualizing, we ploted the noise as very tiny black dots. These dots do not belong to any clusters. \n",
    "\n",
    "Last, we cluster agian using kmeans. This time with *k=85*, and the same number as the result of DBSCAN. The cleaned data is only 90275 rows. The visualizing figure is quite interesting. The figure is very colorful with many clusters. The graph again looks pretty beautiful.\n",
    "\n",
    "The kmeans clustering result is purly based on two geographical dimensions, and the visualization is based on the same two geographical dimensions. DBSCAN not only has two geographical dimensions, but also has two property-specific dimensions. However, when visualizing, we are only able to visualize on the two geographical dimensions, neglecting the two property-specific dimensions. We consider this as the reason why the figures of DBSCAN is not as good looking as kmeans', since we can only visualize half of DBSCAN's dimension, missing the other half of the dimensions which contain important.\n",
    "\n",
    "\n",
    "`[1]`: wikipedia.org: K-means_clustering\n",
    "\n",
    "`[2]`: scikit-learn.org"
   ]
  },
  {
   "cell_type": "markdown",
   "metadata": {},
   "source": [
    "# 4 Task 4: Adding External Data Set"
   ]
  },
  {
   "cell_type": "markdown",
   "metadata": {},
   "source": [
    "## 4.1 External Data"
   ]
  },
  {
   "cell_type": "markdown",
   "metadata": {},
   "source": [
    "From current propertites, we can see that there are some properties about geographical information, but they are masked. So we decide not to use the geographical information and turn to some finacial properties related to yearbuilt."
   ]
  },
  {
   "cell_type": "markdown",
   "metadata": {},
   "source": [
    "|  | Properties  | Description |\n",
    "|:--|:--|:--|\n",
    "|1| latitude| Latitude of the middle of the parcel multiplied by 10e6 |\n",
    "|2| longitude| Longitude of the middle of the parcel multiplied by 10e6 |\n",
    "|3| regionidcounty | County in which the property is located |\n",
    "|4| regionidcity |  City in which the property is located (if any) |\n",
    "|5| regionidzip |  Zip code in which the property is located |\n",
    "|6| regionidneighborhood |  Neighborhood in which the property is located |"
   ]
  },
  {
   "cell_type": "markdown",
   "metadata": {},
   "source": [
    "**First**, we want to use interest rates from 1800 to 2017, but we only obatin data from 1954 to 2017. So it is not suffient for our data analysis. \n",
    "\n",
    "**Then** we find that Treasury Rates are available. Since when interest rates go higher, people will turn to government bond, which makes the price of government bond go lower, then the treasury rates become higher. Hence the interest rates are correlated with treasury rates. \n",
    "\n",
    "**So** it is reasonalbe to use treasury rates to replace interest rates to analyse the house prices."
   ]
  },
  {
   "cell_type": "markdown",
   "metadata": {},
   "source": [
    "### 4.1.1 Import the Data"
   ]
  },
  {
   "cell_type": "markdown",
   "metadata": {},
   "source": [
    "We can get treasury rates from 1871 to 2017 using data from this website.\n",
    "[[1]](http://www.multpl.com/10-year-treasury-rate/table/by-year)"
   ]
  },
  {
   "cell_type": "code",
   "execution_count": 3,
   "metadata": {
    "collapsed": true
   },
   "outputs": [],
   "source": [
    "treasuryrates = pd.read_csv('../data/treasury rates1.csv')\n",
    "treasuryrates.columns = ['treasuryrates','yearbuilt']\n",
    "treasuryrates['yearbuilt']=treasuryrates['yearbuilt'].astype(int)"
   ]
  },
  {
   "cell_type": "code",
   "execution_count": 6,
   "metadata": {},
   "outputs": [
    {
     "data": {
      "text/plain": [
       "[<matplotlib.lines.Line2D at 0x111ff17d0>]"
      ]
     },
     "execution_count": 6,
     "metadata": {},
     "output_type": "execute_result"
    },
    {
     "data": {
      "image/png": "[encoded data removed]",
      "text/plain": [
       "<matplotlib.figure.Figure at 0x111e66450>"
      ]
     },
     "metadata": {},
     "output_type": "display_data"
    }
   ],
   "source": [
    "plt.plot(treasuryrates['yearbuilt'],treasuryrates['treasuryrates'])"
   ]
  },
  {
   "cell_type": "code",
   "execution_count": 7,
   "metadata": {},
   "outputs": [
    {
     "data": {
      "text/html": [
       "<div>\n",
       "<style>\n",
       "    .dataframe thead tr:only-child th {\n",
       "        text-align: right;\n",
       "    }\n",
       "\n",
       "    .dataframe thead th {\n",
       "        text-align: left;\n",
       "    }\n",
       "\n",
       "    .dataframe tbody tr th {\n",
       "        vertical-align: top;\n",
       "    }\n",
       "</style>\n",
       "<table border=\"1\" class=\"dataframe\">\n",
       "  <thead>\n",
       "    <tr style=\"text-align: right;\">\n",
       "      <th></th>\n",
       "      <th>treasuryrates</th>\n",
       "      <th>yearbuilt</th>\n",
       "    </tr>\n",
       "  </thead>\n",
       "  <tbody>\n",
       "    <tr>\n",
       "      <th>count</th>\n",
       "      <td>148.000000</td>\n",
       "      <td>148.000000</td>\n",
       "    </tr>\n",
       "    <tr>\n",
       "      <th>mean</th>\n",
       "      <td>4.538716</td>\n",
       "      <td>1944.493243</td>\n",
       "    </tr>\n",
       "    <tr>\n",
       "      <th>std</th>\n",
       "      <td>2.253997</td>\n",
       "      <td>42.856428</td>\n",
       "    </tr>\n",
       "    <tr>\n",
       "      <th>min</th>\n",
       "      <td>1.880000</td>\n",
       "      <td>1871.000000</td>\n",
       "    </tr>\n",
       "    <tr>\n",
       "      <th>25%</th>\n",
       "      <td>3.297500</td>\n",
       "      <td>1907.750000</td>\n",
       "    </tr>\n",
       "    <tr>\n",
       "      <th>50%</th>\n",
       "      <td>3.850000</td>\n",
       "      <td>1944.500000</td>\n",
       "    </tr>\n",
       "    <tr>\n",
       "      <th>75%</th>\n",
       "      <td>5.107500</td>\n",
       "      <td>1981.250000</td>\n",
       "    </tr>\n",
       "    <tr>\n",
       "      <th>max</th>\n",
       "      <td>14.590000</td>\n",
       "      <td>2017.000000</td>\n",
       "    </tr>\n",
       "  </tbody>\n",
       "</table>\n",
       "</div>"
      ],
      "text/plain": [
       "       treasuryrates    yearbuilt\n",
       "count     148.000000   148.000000\n",
       "mean        4.538716  1944.493243\n",
       "std         2.253997    42.856428\n",
       "min         1.880000  1871.000000\n",
       "25%         3.297500  1907.750000\n",
       "50%         3.850000  1944.500000\n",
       "75%         5.107500  1981.250000\n",
       "max        14.590000  2017.000000"
      ]
     },
     "execution_count": 7,
     "metadata": {},
     "output_type": "execute_result"
    }
   ],
   "source": [
    "treasuryrates.describe()"
   ]
  },
  {
   "cell_type": "markdown",
   "metadata": {},
   "source": [
    "### 4.1.2 Choose Features"
   ]
  },
  {
   "cell_type": "markdown",
   "metadata": {},
   "source": [
    "There are properties from 2016 and 2017. We can use these two datasets separately to predict the logerror."
   ]
  },
  {
   "cell_type": "code",
   "execution_count": 9,
   "metadata": {},
   "outputs": [
    {
     "name": "stderr",
     "output_type": "stream",
     "text": [
      "/Users/xuanxu/anaconda/lib/python2.7/site-packages/IPython/core/interactiveshell.py:2717: DtypeWarning: Columns (22,32,34,49,55) have mixed types. Specify dtype option on import or set low_memory=False.\n",
      "  interactivity=interactivity, compiler=compiler, result=result)\n"
     ]
    }
   ],
   "source": [
    "house_df = pd.read_csv('../data/properties_2016.csv')"
   ]
  },
  {
   "cell_type": "code",
   "execution_count": null,
   "metadata": {
    "collapsed": true
   },
   "outputs": [],
   "source": [
    "house_df = pd.read_csv('../data/properties_2017.csv')"
   ]
  },
  {
   "cell_type": "markdown",
   "metadata": {},
   "source": [
    "As for chossing properties in data, we choose these four features because they are correlated to logerror. Their correlations are higher than other features."
   ]
  },
  {
   "cell_type": "markdown",
   "metadata": {},
   "source": [
    "| Feature | Name  | \n",
    "|:--|:--|\n",
    "|1| bedroomcnt| \n",
    "|2| calculatedfinishedsquarefeet| \n",
    "|3| yearbuilt | \n",
    "|4| structuretaxvaluedollarcnt | "
   ]
  },
  {
   "cell_type": "code",
   "execution_count": 10,
   "metadata": {
    "collapsed": true
   },
   "outputs": [],
   "source": [
    "feature=['parcelid','bedroomcnt','calculatedfinishedsquarefeet','yearbuilt',\n",
    "         'structuretaxvaluedollarcnt']\n",
    "feature1=['bedroomcnt','calculatedfinishedsquarefeet','yearbuilt','structuretaxvaluedollarcnt']\n",
    "house_new_df1=house_df[feature]"
   ]
  },
  {
   "cell_type": "markdown",
   "metadata": {},
   "source": [
    "After that we can merge these features with the treasury rates."
   ]
  },
  {
   "cell_type": "code",
   "execution_count": 14,
   "metadata": {
    "collapsed": true
   },
   "outputs": [],
   "source": [
    "house_new_df=treasuryrates.merge(house_new_df1, how='left', on='yearbuilt')"
   ]
  },
  {
   "cell_type": "markdown",
   "metadata": {},
   "source": [
    "There are some lines which missing so many features, so we delete these lines to make the data cleaner."
   ]
  },
  {
   "cell_type": "code",
   "execution_count": 18,
   "metadata": {
    "collapsed": true
   },
   "outputs": [],
   "source": [
    "house_new_df.drop(house_new_df.index[[0,1,2,2925248,2925249,2925250]],inplace=True)"
   ]
  },
  {
   "cell_type": "markdown",
   "metadata": {},
   "source": [
    "Then fill the blank NaN with mean."
   ]
  },
  {
   "cell_type": "code",
   "execution_count": 19,
   "metadata": {
    "collapsed": true
   },
   "outputs": [],
   "source": [
    "house_new_df=house_new_df.fillna(house_new_df.mean())\n",
    "house_new_df['parcelid']=house_new_df['parcelid'].astype(int)"
   ]
  },
  {
   "cell_type": "markdown",
   "metadata": {},
   "source": [
    "Get the train data from datasets."
   ]
  },
  {
   "cell_type": "code",
   "execution_count": 23,
   "metadata": {
    "collapsed": true
   },
   "outputs": [],
   "source": [
    "train_df = pd.read_csv('../data/train_2016_v2.csv')\n",
    "join_df = train_df.merge(house_new_df, how='left', on='parcelid')"
   ]
  },
  {
   "cell_type": "code",
   "execution_count": null,
   "metadata": {
    "collapsed": true
   },
   "outputs": [],
   "source": [
    "train_df = pd.read_csv('../data/train_2017.csv')\n",
    "join_df = train_df.merge(house_new_df, how='left', on='parcelid')"
   ]
  },
  {
   "cell_type": "code",
   "execution_count": 25,
   "metadata": {
    "collapsed": true
   },
   "outputs": [],
   "source": [
    "target = join_df.loc[:,'logerror']\n",
    "feature = join_df.iloc[:,2:]"
   ]
  },
  {
   "cell_type": "markdown",
   "metadata": {},
   "source": [
    "Use feature to represent the train model, and target to represent the logerror."
   ]
  },
  {
   "cell_type": "markdown",
   "metadata": {},
   "source": [
    "Do the type transform for transactiondate. Cause the transactiondate is object and we need float to do the predictions, so we need datetime to transform them."
   ]
  },
  {
   "cell_type": "code",
   "execution_count": 27,
   "metadata": {
    "collapsed": true
   },
   "outputs": [],
   "source": [
    "for num,str in enumerate(feature.transactiondate):\n",
    "    date_time = datetime.datetime.strptime(str,'%Y-%m-%d')\n",
    "    st = time.mktime(date_time.timetuple())\n",
    "    feature.set_value(num,'transactiondate',st)"
   ]
  },
  {
   "cell_type": "code",
   "execution_count": 28,
   "metadata": {
    "collapsed": true
   },
   "outputs": [],
   "source": [
    "feature['transactiondate'] = feature['transactiondate'].astype(float)"
   ]
  },
  {
   "cell_type": "markdown",
   "metadata": {},
   "source": [
    "Also define the date_transform for test data."
   ]
  },
  {
   "cell_type": "code",
   "execution_count": 30,
   "metadata": {
    "collapsed": true
   },
   "outputs": [],
   "source": [
    "def date_transform(df_test):\n",
    "    for num,str in enumerate(df_test.transactiondate):\n",
    "        date_time = datetime.datetime.strptime(str,'%Y-%m-%d')\n",
    "        str = time.mktime(date_time.timetuple())\n",
    "        df_test.set_value(num,'transactiondate',str)\n",
    "    df_test['transactiondate'] = df_test['transactiondate'].astype(float) \n",
    "    test_matrix = df_test.as_matrix()\n",
    "    return test_matrix"
   ]
  },
  {
   "cell_type": "code",
   "execution_count": 31,
   "metadata": {
    "collapsed": true
   },
   "outputs": [],
   "source": [
    "feature['yearbuilt']=feature['yearbuilt'].astype(float)"
   ]
  },
  {
   "cell_type": "markdown",
   "metadata": {},
   "source": [
    "Import the sample data."
   ]
  },
  {
   "cell_type": "code",
   "execution_count": 33,
   "metadata": {
    "collapsed": true
   },
   "outputs": [],
   "source": [
    "sample = pd.read_csv(\"../data/sample_submission.csv\")\n",
    "sample1 = sample.ParcelId\n",
    "sample1 = sample1.to_frame()\n",
    "sample1.columns = ['parcelid']\n",
    "df_test = sample1.merge(house_new_df, on='parcelid', how='left')\n",
    "df_test['yearbuilt']=df_test['yearbuilt'].astype(float)"
   ]
  },
  {
   "cell_type": "markdown",
   "metadata": {},
   "source": [
    "fill the test data and feature data with mean."
   ]
  },
  {
   "cell_type": "code",
   "execution_count": 39,
   "metadata": {
    "collapsed": true
   },
   "outputs": [],
   "source": [
    "df_test=df_test.fillna(df_test.mean())\n",
    "feature=feature.fillna(feature.mean())\n",
    "#df_test\n",
    "del df_test['parcelid']"
   ]
  },
  {
   "cell_type": "markdown",
   "metadata": {},
   "source": [
    "use z_score to normalize the data sets."
   ]
  },
  {
   "cell_type": "code",
   "execution_count": 42,
   "metadata": {
    "collapsed": true
   },
   "outputs": [],
   "source": [
    "z_score_norm(feature,feature1)\n",
    "z_score_norm(df_test,feature1)"
   ]
  },
  {
   "cell_type": "markdown",
   "metadata": {},
   "source": [
    "## 4.2 Prediction"
   ]
  },
  {
   "cell_type": "code",
   "execution_count": 44,
   "metadata": {
    "collapsed": true
   },
   "outputs": [],
   "source": [
    "model = linear_model.LinearRegression()\n",
    "model = model.fit(feature, target)"
   ]
  },
  {
   "cell_type": "code",
   "execution_count": 51,
   "metadata": {
    "collapsed": true
   },
   "outputs": [],
   "source": [
    "result = sample1.copy()\n",
    "result.columns = ['ParcelId']\n",
    "test1 = df_test.copy()\n",
    "test1.insert(0,'transactiondate','2016-10-15')\n",
    "test1 = date_transform(test1)\n",
    "pred1 = model.predict(test1)\n",
    "pred1 = np.asarray(pred1)\n",
    "result.insert(1,'201610',pred1)\n",
    "\n",
    "test2 = df_test.copy()\n",
    "test2.insert(0,'transactiondate','2016-11-15')\n",
    "test2 = date_transform(test2)\n",
    "pred2 = model.predict(test2)\n",
    "pred2 = np.asarray(pred2)\n",
    "result.insert(2,'201611',pred2)\n",
    "\n",
    "\n",
    "test3 = df_test.copy()\n",
    "test3.insert(0,'transactiondate','2016-12-15')\n",
    "test3 = date_transform(test3)\n",
    "pred3 = model.predict(test3)\n",
    "pred3 = np.asarray(pred3)\n",
    "result.insert(3,'201612',pred3)\n",
    "\n",
    "\n",
    "test4 = df_test.copy()\n",
    "test4.insert(0,'transactiondate','2017-10-15')\n",
    "test4 = date_transform(test4)\n",
    "pred4 = model.predict(test4)\n",
    "pred4 = np.asarray(pred4)\n",
    "result.insert(4,'201710',pred4)\n",
    "\n",
    "\n",
    "test5 = df_test.copy()\n",
    "test5.insert(0,'transactiondate','2017-11-15')\n",
    "test5 = date_transform(test5)\n",
    "pred5 = model.predict(test5)\n",
    "pred5 = np.asarray(pred5)\n",
    "result.insert(5,'201711',pred5)\n",
    "\n",
    "\n",
    "test6 = df_test.copy()\n",
    "test6.insert(0,'transactiondate','2017-12-15')\n",
    "test6 = date_transform(test6)\n",
    "pred6 = model.predict(test6)\n",
    "pred6 = np.asarray(pred6)\n",
    "result.insert(6,'201712',pred6)"
   ]
  },
  {
   "cell_type": "code",
   "execution_count": 52,
   "metadata": {
    "collapsed": true
   },
   "outputs": [],
   "source": [
    "result.columns = ['ParcelId', '201610', '201611', '201612', '201710','201711','201712']\n",
    "# change filename per run\n",
    "result.to_csv('../sample 1013 first attempt.csv',index=False,header=True) "
   ]
  },
  {
   "cell_type": "markdown",
   "metadata": {},
   "source": [
    "## 4.3 Discussion"
   ]
  },
  {
   "cell_type": "markdown",
   "metadata": {},
   "source": [
    "We have submit the predictions on Kaggle. Using linear regression without treasury rates gets a score of 0.0650050, while using linear regression with treasury rates gets a score of 0.0649963. \n",
    "\n",
    "![fig 1](figure/submission-0.649963.jpg)\n",
    "\n",
    "\n",
    "![fig 2](figure/submission-0.650050.png)\n",
    "\n",
    "\n",
    "From these scores, we can see that treasury rates provide a increase on prediction. So we can see that treasury rates can influence the logerror to a certain extent. \n",
    "\n",
    "At first, we see that there are some properties about geographical information, which includes longtitude, latitude, regionid and so on. But the only useful information is latitude and longitude. The regionid, regioncity and regionzip are masked, from which we can't know houses' geographical information. The only two properties we can use is latitude and longitude, while we don't find enough criminal rates matching these two properties. So after some consideration, we decide not to use the geographical information and turn to some finacial properties related to yearbuilt.\n",
    "\n",
    "Treasury rates, that is treasury yields which is the return on investment, expressed as a percentage, on the U.S. government's debt obligations (bonds, notes and bills). Looked at another way, the Treasury yield is the interest rate the U.S. government pays to borrow money for different lengths of time.\n",
    "[[2]](http://www.investopedia.com/terms/t/treasury-yield.asp)\n",
    "\n",
    "So we can see that the financial situation is related to the people's daily life, which influence the price and logerror. Adding the treasury rates as external data is useful for our predictions."
   ]
  },
  {
   "cell_type": "markdown",
   "metadata": {},
   "source": [
    "# 5 Task 5: Prediction Model"
   ]
  },
  {
   "cell_type": "markdown",
   "metadata": {},
   "source": [
    "## 5.1 Modified Prediction Model"
   ]
  },
  {
   "cell_type": "markdown",
   "metadata": {},
   "source": [
    "First, we have found that integrating the treasury rates as external data is helpful for the prediction model. Thus the feature is included for building the modified prediction model. \n",
    "\n",
    "In addition, we tried to apply the new housing dataset for the year 2017, which was recently provided in Kaggle competition."
   ]
  },
  {
   "cell_type": "code",
   "execution_count": 18,
   "metadata": {
    "collapsed": true
   },
   "outputs": [],
   "source": [
    "# Read the property data\n",
    "house_df16 = df_house16\n",
    "house_df17 = df_house17\n",
    "\n",
    "# Read the training data\n",
    "train_df16 = df_train16\n",
    "train_df17 = df_train17"
   ]
  },
  {
   "cell_type": "code",
   "execution_count": 19,
   "metadata": {
    "collapsed": true
   },
   "outputs": [],
   "source": [
    "# Read treasury rate data\n",
    "treasuryrates = pd.read_csv('../data/treasury_rates.csv')\n",
    "\n",
    "treasuryrates.columns = ['treasuryrates','yearbuilt']\n",
    "treasuryrates['yearbuilt'] = treasuryrates['yearbuilt'].astype(int)"
   ]
  },
  {
   "cell_type": "code",
   "execution_count": 20,
   "metadata": {
    "collapsed": true
   },
   "outputs": [],
   "source": [
    "# Extract features for the prediction model\n",
    "feature_list = ['parcelid','bedroomcnt','buildingqualitytypeid',\n",
    "                'calculatedbathnbr','calculatedfinishedsquarefeet',\n",
    "                'lotsizesquarefeet','yearbuilt']\n",
    "\n",
    "feature_data16 = house_df16[feature_list]\n",
    "feature_data17 = house_df17[feature_list]"
   ]
  },
  {
   "cell_type": "code",
   "execution_count": 21,
   "metadata": {
    "collapsed": true
   },
   "outputs": [],
   "source": [
    "# Merge the housing feature datasets with the treasury rate dataset\n",
    "feature_data16 = pd.merge(feature_data16, treasuryrates, on='yearbuilt')\n",
    "feature_data17 = pd.merge(feature_data17, treasuryrates, on='yearbuilt')"
   ]
  },
  {
   "cell_type": "code",
   "execution_count": 22,
   "metadata": {
    "collapsed": true
   },
   "outputs": [],
   "source": [
    "# Fill in the holes in the datasets\n",
    "model_dataset16 = feature_data16\n",
    "model_dataset17 = feature_data17\n",
    "\n",
    "model_dataset16 = model_dataset16.fillna(model_dataset16.mean())\n",
    "model_dataset17 = model_dataset17.fillna(model_dataset17.mean())"
   ]
  },
  {
   "cell_type": "code",
   "execution_count": 23,
   "metadata": {
    "collapsed": true
   },
   "outputs": [],
   "source": [
    "# Merge feature dataset with the training dataset\n",
    "model_dataset16 = pd.merge(model_dataset16, train_df16, on='parcelid')\n",
    "model_dataset17 = pd.merge(model_dataset17, train_df17, on='parcelid')"
   ]
  },
  {
   "cell_type": "code",
   "execution_count": 24,
   "metadata": {
    "collapsed": true
   },
   "outputs": [],
   "source": [
    "# Concatenate 2016 and 2017 datasets\n",
    "model_dataset = pd.concat([model_dataset16, model_dataset17])"
   ]
  },
  {
   "cell_type": "code",
   "execution_count": 25,
   "metadata": {
    "collapsed": true
   },
   "outputs": [],
   "source": [
    "# Preprocessing for the prediction model\n",
    "model_dataset_norm = model_dataset\n",
    "\n",
    "# Normalize the features with skewed distributions\n",
    "model_dataset_norm.calculatedbathnbr = np.log(model_dataset_norm.calculatedbathnbr)\n",
    "model_dataset_norm.calculatedfinishedsquarefeet = np.log(model_dataset_norm.calculatedfinishedsquarefeet)\n",
    "model_dataset_norm.lotsizesquarefeet = np.log(model_dataset_norm.lotsizesquarefeet)"
   ]
  },
  {
   "cell_type": "code",
   "execution_count": 26,
   "metadata": {
    "collapsed": true
   },
   "outputs": [],
   "source": [
    "all_inputs = model_dataset_norm.loc[:,'bedroomcnt':'treasuryrates']\n",
    "all_outputs = model_dataset_norm.loc[:,'logerror']"
   ]
  },
  {
   "cell_type": "code",
   "execution_count": 28,
   "metadata": {},
   "outputs": [],
   "source": [
    "from sklearn import preprocessing\n",
    "\n",
    "all_inputs.loc[:,'bedroomcnt':'treasuryrates'] = preprocessing.scale(all_inputs.loc[:,'bedroomcnt':'treasuryrates'])"
   ]
  },
  {
   "cell_type": "code",
   "execution_count": 29,
   "metadata": {},
   "outputs": [
    {
     "name": "stderr",
     "output_type": "stream",
     "text": [
      "/Users/haenalee/anaconda/lib/python3.6/site-packages/sklearn/cross_validation.py:44: DeprecationWarning: This module was deprecated in version 0.18 in favor of the model_selection module into which all the refactored classes and functions are moved. Also note that the interface of the new CV iterators are different from that of this module. This module will be removed in 0.20.\n",
      "  \"This module will be removed in 0.20.\", DeprecationWarning)\n"
     ]
    }
   ],
   "source": [
    "from sklearn.cross_validation import train_test_split\n",
    "(training_inputs, test_inputs, \n",
    " training_outputs, test_outputs) = train_test_split(all_inputs, all_outputs, train_size=0.75, random_state=1)"
   ]
  },
  {
   "cell_type": "code",
   "execution_count": 30,
   "metadata": {},
   "outputs": [
    {
     "name": "stdout",
     "output_type": "stream",
     "text": [
      "Coefficients: \n",
      " [ 0.00327352 -0.00130588 -0.00157029  0.00459262  0.00221111  0.00115801\n",
      " -0.00053935]\n",
      "Mean squared error: 0.03\n",
      "Variance score: 0.00028\n"
     ]
    }
   ],
   "source": [
    "from sklearn import linear_model\n",
    "from sklearn.metrics import mean_squared_error, r2_score\n",
    "\n",
    "# Improved linear regression model\n",
    "# Create a linear regression object\n",
    "regr = linear_model.LinearRegression()\n",
    "\n",
    "# Train the model using the training dataset\n",
    "regr.fit(training_inputs, training_outputs)\n",
    "\n",
    "# Make predictions using the test dataset\n",
    "test_pred = regr.predict(test_inputs)\n",
    "\n",
    "# The coefficients\n",
    "print('Coefficients: \\n', regr.coef_)\n",
    "# The mean squared error\n",
    "print('Mean squared error: %.2f'\n",
    "      % mean_squared_error(test_outputs, test_pred))\n",
    "# Explained variance score: 1 is perfect prediction\n",
    "print('Variance score: %.5f'\n",
    "      % r2_score(test_outputs, test_pred))"
   ]
  },
  {
   "cell_type": "code",
   "execution_count": 31,
   "metadata": {
    "collapsed": true
   },
   "outputs": [],
   "source": [
    "sample_submission = pd.read_csv('../data/sample_submission.csv', na_values=['NA'])"
   ]
  },
  {
   "cell_type": "code",
   "execution_count": 32,
   "metadata": {
    "collapsed": true
   },
   "outputs": [],
   "source": [
    "property_data = df_house17\n",
    "\n",
    "feature_list = ['parcelid','bedroomcnt','buildingqualitytypeid',\n",
    "                'calculatedbathnbr','calculatedfinishedsquarefeet',\n",
    "                'lotsizesquarefeet','yearbuilt']\n",
    "\n",
    "test_data = property_data[feature_list]"
   ]
  },
  {
   "cell_type": "code",
   "execution_count": 33,
   "metadata": {
    "collapsed": true
   },
   "outputs": [],
   "source": [
    "test_data = pd.merge(test_data, treasuryrates, how='left', on='yearbuilt')"
   ]
  },
  {
   "cell_type": "code",
   "execution_count": 34,
   "metadata": {
    "collapsed": true
   },
   "outputs": [],
   "source": [
    "test_data_filled = test_data.fillna(test_data.mean())"
   ]
  },
  {
   "cell_type": "code",
   "execution_count": 35,
   "metadata": {
    "collapsed": true
   },
   "outputs": [],
   "source": [
    "test_data_norm = test_data_filled\n",
    "\n",
    "# Normalize the features with skewed distributions\n",
    "test_data_norm.calculatedbathnbr = np.log(test_data_norm.calculatedbathnbr)\n",
    "test_data_norm.calculatedfinishedsquarefeet = np.log(test_data_norm.calculatedfinishedsquarefeet)\n",
    "test_data_norm.lotsizesquarefeet = np.log(test_data_norm.lotsizesquarefeet)\n",
    "\n",
    "test_data_norm.loc[:,'bedroomcnt':'treasuryrates'] = preprocessing.scale(test_data_norm.loc[:,'bedroomcnt':'treasuryrates'])\n",
    "test_inputs = test_data_norm.loc[:,'bedroomcnt':'treasuryrates']"
   ]
  },
  {
   "cell_type": "code",
   "execution_count": 36,
   "metadata": {
    "collapsed": true
   },
   "outputs": [],
   "source": [
    "# Make predictions using the test dataset\n",
    "test_prediction = regr.predict(test_inputs)"
   ]
  },
  {
   "cell_type": "code",
   "execution_count": 37,
   "metadata": {
    "collapsed": true
   },
   "outputs": [],
   "source": [
    "submission = sample_submission\n",
    "submission.iloc[0:,1] = test_prediction\n",
    "submission.iloc[0:,2] = test_prediction\n",
    "submission.iloc[0:,3] = test_prediction\n",
    "submission.iloc[0:,4] = test_prediction\n",
    "submission.iloc[0:,5] = test_prediction\n",
    "submission.iloc[0:,6] = test_prediction"
   ]
  },
  {
   "cell_type": "code",
   "execution_count": 38,
   "metadata": {
    "collapsed": true
   },
   "outputs": [],
   "source": [
    "submission.to_csv('../data/submission_1015_treasury_norm.csv', sep=',', index=False)"
   ]
  },
  {
   "cell_type": "markdown",
   "metadata": {},
   "source": [
    "## 5.2 Discussion"
   ]
  },
  {
   "cell_type": "markdown",
   "metadata": {},
   "source": [
    "To build a modified prediction model, the housing datasets of 2016 and 2017 are combined into a single dataset to obtain a larger training dataset. The housing features and log error datasets were combined respectively depending on the year that a house is sold. As a result, the size of training dataset had been doubled. However, we found out that there are multiple records of a house that has been sold more than one time. We dealt each of the sold records as a respective training data point.\n",
    "\n",
    "We use more variables compared to the model in Task 4. The additional variables are the ones that found to be relevant to the desirability of a house in Task 1. The treasury rate variable is integrated into the provided housing dataset to improve the prediction model. Therefore, the following variables are used for the prediction model:\n",
    "\n",
    "|  | Variable |\n",
    "|:--|:--|\n",
    "|1| *bedroomcnt* |\n",
    "|2| *buildingqualitytypeid* |\n",
    "|3| *calculatedbathnbr* |\n",
    "|4| *calculatedfinishedsquarefeet* |\n",
    "|5| *lotsizesquarefeet* |\n",
    "|6| *yearbuilt* |\n",
    "|7| *treasuryrate* |\n",
    "\n",
    "Using the variables, a linear regression model had been built as a modified prediction model. Although the number of variables and the size of training dataset increased compared to Task 4, the prediction model got a score of 0.0655610. This shows that the simpler model in Task 4 performed better than the newly modified model. It might be necessary to analyze the correlation between the additional housing variables for this task and the treasury rate variable to improve this prediction model further. "
   ]
  },
  {
   "cell_type": "markdown",
   "metadata": {},
   "source": [
    "![task5_model_result](./figure/submission-0.0655610.png)"
   ]
  },
  {
   "cell_type": "markdown",
   "metadata": {},
   "source": [
    "# 6 Task 6: Permutation Test"
   ]
  },
  {
   "cell_type": "markdown",
   "metadata": {},
   "source": [
    "As for permutation test, we do around 120 tests to predict the logerror. \n",
    "\n",
    "**First**, we generate new train sets and tests sets. Divide the original train sets into 10 groups, and the first nine groups are train sets and the last one is test sets. \n",
    "\n",
    "**Then** we do the prediction with new train sets and test sets. \n",
    "\n",
    "**Finally**, we use the new prediction results and the logerror in test sets to calculate the Mean absolute error as a metric. We do about 120 tests and obtain 120 mae value and then calculate the p value."
   ]
  },
  {
   "cell_type": "markdown",
   "metadata": {},
   "source": [
    "## 6.1 Preparation for test"
   ]
  },
  {
   "cell_type": "markdown",
   "metadata": {},
   "source": [
    "1) First, we use some data in train set to do the test. We divide the train sets into 10 parts. The first nine copies are new train sets, while the last one copy is the new test set."
   ]
  },
  {
   "cell_type": "code",
   "execution_count": 6,
   "metadata": {
    "collapsed": true
   },
   "outputs": [],
   "source": [
    "train_df = pd.read_csv('../data/train_2016_v2.csv')\n",
    "test_id=range(0,90275,10)\n",
    "test=train_df.loc[test_id]\n",
    "train_new_df=train_df[train_df.index%10!=0]"
   ]
  },
  {
   "cell_type": "markdown",
   "metadata": {},
   "source": [
    "2) Then we merge the new train set with the properties sets."
   ]
  },
  {
   "cell_type": "code",
   "execution_count": 7,
   "metadata": {
    "collapsed": true
   },
   "outputs": [],
   "source": [
    "house_df = pd.read_csv('../data/properties_2016.csv')\n",
    "join_df = train_new_df.merge(house_df, how='left', on='parcelid')"
   ]
  },
  {
   "cell_type": "markdown",
   "metadata": {},
   "source": [
    "3) Choose some features to do the prediction."
   ]
  },
  {
   "cell_type": "code",
   "execution_count": 8,
   "metadata": {
    "collapsed": true
   },
   "outputs": [],
   "source": [
    "feature2=['parcelid','transactiondate','bedroomcnt','calculatedfinishedsquarefeet','yearbuilt',\n",
    "         'structuretaxvaluedollarcnt','logerror']\n",
    "join_df1=join_df[feature2]"
   ]
  },
  {
   "cell_type": "code",
   "execution_count": 9,
   "metadata": {
    "collapsed": true
   },
   "outputs": [],
   "source": [
    "target = join_df1.loc[:,'logerror']\n",
    "feature = join_df1.iloc[:,1:6]"
   ]
  },
  {
   "cell_type": "code",
   "execution_count": 10,
   "metadata": {
    "collapsed": true
   },
   "outputs": [],
   "source": [
    "for num,str in enumerate(feature.transactiondate):\n",
    "    date_time = datetime.datetime.strptime(str,'%Y-%m-%d')\n",
    "    st = time.mktime(date_time.timetuple())\n",
    "    feature.set_value(num,'transactiondate',st)\n",
    "feature['transactiondate'] = feature['transactiondate'].astype(float)"
   ]
  },
  {
   "cell_type": "code",
   "execution_count": 11,
   "metadata": {
    "collapsed": true
   },
   "outputs": [],
   "source": [
    "def date_transform(df_test):\n",
    "    for num,str in enumerate(df_test.transactiondate):\n",
    "        date_time = datetime.datetime.strptime(str,'%Y-%m-%d')\n",
    "        str = time.mktime(date_time.timetuple())\n",
    "        df_test.set_value(num,'transactiondate',str)\n",
    "    df_test['transactiondate'] = df_test['transactiondate'].astype(float) \n",
    "    test_matrix = df_test.as_matrix()\n",
    "    return test_matrix"
   ]
  },
  {
   "cell_type": "markdown",
   "metadata": {},
   "source": [
    "4) Use the new test set to do the prediction."
   ]
  },
  {
   "cell_type": "code",
   "execution_count": 12,
   "metadata": {
    "collapsed": true
   },
   "outputs": [],
   "source": [
    "sample = test\n",
    "sample1=sample\n",
    "df_test1=sample1.merge(house_df, on='parcelid', how='left')"
   ]
  },
  {
   "cell_type": "code",
   "execution_count": 13,
   "metadata": {
    "collapsed": true
   },
   "outputs": [],
   "source": [
    "feature3=['parcelid','bedroomcnt','calculatedfinishedsquarefeet','yearbuilt',\n",
    "         'structuretaxvaluedollarcnt']\n",
    "df_test=df_test1[feature3]\n",
    "\n",
    "df_test=df_test.fillna(df_test.mean())\n",
    "feature=feature.fillna(feature.mean())\n",
    "#df_test\n",
    "del df_test['parcelid']"
   ]
  },
  {
   "cell_type": "markdown",
   "metadata": {},
   "source": [
    "5) Do the normalization for train set and test set."
   ]
  },
  {
   "cell_type": "code",
   "execution_count": 15,
   "metadata": {
    "collapsed": true
   },
   "outputs": [],
   "source": [
    "feature1=['bedroomcnt','calculatedfinishedsquarefeet','yearbuilt','structuretaxvaluedollarcnt']\n",
    "z_score_norm(feature,feature1)\n",
    "z_score_norm(df_test,feature1)"
   ]
  },
  {
   "cell_type": "markdown",
   "metadata": {},
   "source": [
    "6) Use the new train set and test set to get new linear regression model."
   ]
  },
  {
   "cell_type": "code",
   "execution_count": 16,
   "metadata": {
    "collapsed": true
   },
   "outputs": [],
   "source": [
    "model = linear_model.LinearRegression()\n",
    "model = model.fit(feature, target)"
   ]
  },
  {
   "cell_type": "code",
   "execution_count": 17,
   "metadata": {
    "collapsed": true
   },
   "outputs": [],
   "source": [
    "test1 = df_test.copy()\n",
    "test1.insert(0,'transactiondate','2016-10-15')\n",
    "test1 = date_transform(test1)\n",
    "pred1 = model.predict(test1)\n",
    "pred1 = np.asarray(pred1)"
   ]
  },
  {
   "cell_type": "markdown",
   "metadata": {},
   "source": [
    "7) Use mean absolute error to calculate the score of our model."
   ]
  },
  {
   "cell_type": "code",
   "execution_count": 19,
   "metadata": {
    "collapsed": true
   },
   "outputs": [],
   "source": [
    "mae_origin=mean_absolute_error(test['logerror'],pred1)"
   ]
  },
  {
   "cell_type": "code",
   "execution_count": 20,
   "metadata": {},
   "outputs": [
    {
     "data": {
      "text/plain": [
       "0.065175186682973119"
      ]
     },
     "execution_count": 20,
     "metadata": {},
     "output_type": "execute_result"
    }
   ],
   "source": [
    "mae_origin"
   ]
  },
  {
   "cell_type": "markdown",
   "metadata": {},
   "source": [
    "## 6.2 120 Tests"
   ]
  },
  {
   "cell_type": "markdown",
   "metadata": {},
   "source": [
    "After getting the original mae value, we can shuffle our logerror and do the permutation tests. It is reasonable to do about 120 tests. Because 1000 tests take more time. So first we want to new a mae_list to store the mae results of these permutation tests."
   ]
  },
  {
   "cell_type": "code",
   "execution_count": 23,
   "metadata": {
    "collapsed": true
   },
   "outputs": [],
   "source": [
    "mae_list=[0.06517518668297312]"
   ]
  },
  {
   "cell_type": "markdown",
   "metadata": {},
   "source": [
    "Then we use count to represent the time of code running. Every time we do a new shuffle and a new test, we let count increase one. After repeating 120 times, we have done 120 permutation tests."
   ]
  },
  {
   "cell_type": "code",
   "execution_count": null,
   "metadata": {
    "collapsed": true
   },
   "outputs": [],
   "source": [
    "count=0\n",
    "while count<120:\n",
    "    count=count+1 \n",
    "    print count\n",
    "    #train_df = pd.read_csv('../data/train_2016_v2.csv')\n",
    "    test_id=range(0,90275,10)\n",
    "    test=train_df.loc[test_id]\n",
    "\n",
    "    train_new_df1=train_df[train_df.index%10!=0]\n",
    "\n",
    "    list1=train_new_df1['logerror'].tolist()\n",
    "    random.shuffle(list1)\n",
    "    train_new_df=train_new_df1.drop('logerror',axis=1, inplace=False)\n",
    "    train_new_df.insert(1,'logerror',list1)\n",
    "\n",
    "    #house_df = pd.read_csv('../data/properties_2016.csv')\n",
    "    join_df = train_new_df.merge(house_df, how='left', on='parcelid')\n",
    "\n",
    "    feature2=['parcelid','transactiondate','bedroomcnt','calculatedfinishedsquarefeet','yearbuilt',\n",
    "         'structuretaxvaluedollarcnt','logerror']\n",
    "    join_df1=join_df[feature2]\n",
    "\n",
    "    target = join_df1.loc[:,'logerror']\n",
    "    feature = join_df1.iloc[:,1:6]\n",
    "    \n",
    "    for num,str in enumerate(feature.transactiondate):\n",
    "        date_time = datetime.datetime.strptime(str,'%Y-%m-%d')\n",
    "        st = time.mktime(date_time.timetuple())\n",
    "        feature.set_value(num,'transactiondate',st)\n",
    "    feature['transactiondate'] = feature['transactiondate'].astype(float)\n",
    "\n",
    "    sample = test\n",
    "    sample1=sample\n",
    "    df_test1=sample1.merge(house_df, on='parcelid', how='left')\n",
    "\n",
    "    feature3=['parcelid','bedroomcnt','calculatedfinishedsquarefeet','yearbuilt',\n",
    "         'structuretaxvaluedollarcnt']\n",
    "    df_test=df_test1[feature3]\n",
    "\n",
    "    df_test=df_test.fillna(df_test.mean())\n",
    "    feature=feature.fillna(feature.mean())\n",
    "    #df_test\n",
    "    del df_test['parcelid']\n",
    "\n",
    "    z_score_norm(feature,feature1)\n",
    "    z_score_norm(df_test,feature1)\n",
    "\n",
    "    model = linear_model.LinearRegression()\n",
    "    model = model.fit(feature, target)\n",
    "\n",
    "    test1 = df_test.copy()\n",
    "    test1.insert(0,'transactiondate','2016-10-15')\n",
    "    test1 = date_transform(test1)\n",
    "    pred1 = model.predict(test1)\n",
    "    pred1 = np.asarray(pred1)\n",
    "\n",
    "    #from sklearn.metrics import mean_absolute_error\n",
    "    mae_shuffle=mean_absolute_error(test['logerror'],pred1)\n",
    "    mae_list.append(mae_shuffle)"
   ]
  },
  {
   "cell_type": "markdown",
   "metadata": {},
   "source": [
    "After we do the permutation tests, we want to see the distribution of our results. For mae results, we use a bar chart to represent their distribution."
   ]
  },
  {
   "cell_type": "code",
   "execution_count": 26,
   "metadata": {},
   "outputs": [
    {
     "data": {
      "image/png": "[encoded data removed]",
      "text/plain": [
       "<matplotlib.figure.Figure at 0x14fe11810>"
      ]
     },
     "metadata": {},
     "output_type": "display_data"
    }
   ],
   "source": [
    "num_bins = 20\n",
    "ax = plt.subplot()\n",
    "n, bins, patches = ax.hist(mae_list, num_bins)\n",
    "\n",
    "ax.set_xlabel('$score-mae$', fontsize=12)\n",
    "ax.set_ylabel('Number of houses', fontsize=12)\n",
    "#ax.set_title('Histogram of $score$', fontsize=12)\n",
    "#sns.distplot(mae_list,label='mae distribution')\n",
    "plt.tight_layout()\n",
    "plt.show()"
   ]
  },
  {
   "cell_type": "code",
   "execution_count": 27,
   "metadata": {},
   "outputs": [
    {
     "data": {
      "text/plain": [
       "<matplotlib.axes._subplots.AxesSubplot at 0x1488f43d0>"
      ]
     },
     "execution_count": 27,
     "metadata": {},
     "output_type": "execute_result"
    },
    {
     "data": {
      "image/png": "[encoded data removed]",
      "text/plain": [
       "<matplotlib.figure.Figure at 0x102b8de50>"
      ]
     },
     "metadata": {},
     "output_type": "display_data"
    }
   ],
   "source": [
    "sns.distplot(mae_list,label='mae distribution')"
   ]
  },
  {
   "cell_type": "code",
   "execution_count": 40,
   "metadata": {},
   "outputs": [
    {
     "name": "stdout",
     "output_type": "stream",
     "text": [
      "103.0\n",
      "0.851239669421\n"
     ]
    }
   ],
   "source": [
    "mae_df=pd.DataFrame({'mae':mae_list})\n",
    "compare=mae_df[mae_df.mae<0.065175186683]\n",
    "p=float(len(compare))\n",
    "p_value=p/121\n",
    "print p\n",
    "print p_value"
   ]
  },
  {
   "cell_type": "markdown",
   "metadata": {},
   "source": [
    "## 6.3 Discussion"
   ]
  },
  {
   "cell_type": "markdown",
   "metadata": {},
   "source": [
    "A permutation test (also called a randomization test, re-randomization test, or an exact test) is a type of statistical significance test in which the distribution of the test statistic under the null hypothesis is obtained by calculating all possible values of the test statistic under rearrangements of the labels on the observed data points. \n",
    "[[1]](https://en.wikipedia.org/wiki/Resampling_(statistics)\n",
    "\n",
    "So we use permutation tests to see our model results. We do about 120 tests to see the differences between our predictions and real logerrors. Then use the mean absolute error to score our results.\n",
    "\n",
    "Mean absolute error (MAE) is a measure of difference between two continuous variables. Assume X and Y are variables of paired observations that express the same phenomenon. Examples of Y versus X include comparisons of predicted versus observed, subsequent time versus initial time, and one technique of measurement versus an alternative technique of measurement. \n",
    "[[2]](https://en.wikipedia.org/wiki/Mean_absolute_error)\n",
    "\n",
    "So it is a useful tool for prediction. Then we calculate the p value of results. The p-value or probability value is the probability for a given statistical model that, when the null hypothesis is true, the statistical summary (such as the sample mean difference between two compared groups) would be the same as or of greater magnitude than the actual observed results.\n",
    "[[3]](https://en.wikipedia.org/wiki/P-value)\n",
    "\n",
    "So as we can see, we use mean absolute error to score our predcition. And the p_value is a bit larger than we think, and linear regression is not a very good model for predicitons."
   ]
  }
 ],
 "metadata": {
  "kernelspec": {
   "display_name": "Python 3",
   "language": "python",
   "name": "python3"
  },
  "language_info": {
   "codemirror_mode": {
    "name": "ipython",
    "version": 3
   },
   "file_extension": ".py",
   "mimetype": "text/x-python",
   "name": "python",
   "nbconvert_exporter": "python",
   "pygments_lexer": "ipython3",
   "version": "3.6.1"
  }
 },
 "nbformat": 4,
 "nbformat_minor": 2
}
